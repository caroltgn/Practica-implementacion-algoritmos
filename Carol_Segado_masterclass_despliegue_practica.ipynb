{
  "cells": [
    {
      "cell_type": "markdown",
      "metadata": {
        "id": "qDeEjdePRv4H"
      },
      "source": [
        "# Práctica Final: Clasificación de Documentos con Scikit-learn y MLflow\n",
        "\n",
        "En esta práctica, utilizarás un conjunto de datos de Scikit-learn (podeís usar el mismo que en el notebook de Intro MLFlow) para entrenar un modelo de clasificación de documentos. El objetivo es construir un modelo capaz de clasificar automáticamente documentos en categorías predefinidas.\n",
        "\n",
        "Pasos a seguir:\n",
        "\n",
        "    Exploración de Datos: Analiza el conjunto de datos proporcionado para comprender su estructura y contenido.\n",
        "\n",
        "    Preprocesamiento de Texto: Realiza tareas de preprocesamiento de texto, como tokenización y vectorización, para preparar los datos para el modelado.\n",
        "\n",
        "    Entrenamiento del Modelo: Utiliza algoritmos de clasificación de Scikit-learn para entrenar un modelo con los datos preprocesados.\n",
        "\n",
        "    Evaluación del Modelo: Evalúa el rendimiento del modelo utilizando métricas de evaluación estándar como precisión y recall.\n",
        "\n",
        "    Registro de Métricas con MLflow: Utiliza MLflow para registrar métricas y hiperparámetros durante el entrenamiento, facilitando la gestión y comparación de experimentos.\n",
        "\n",
        "\n",
        "Nota: Dado que no voy a poder tener acceso a vuestros logs de MLFlow añadirme las imagenes de la interfaz de MLFlow en el notebook"
      ]
    },
    {
      "cell_type": "code",
      "execution_count": null,
      "metadata": {
        "colab": {
          "base_uri": "https://localhost:8080/"
        },
        "id": "rU4-BSs0R4qU",
        "outputId": "44534bcd-9153-425a-dce0-4c01341d420e"
      },
      "outputs": [
        {
          "output_type": "stream",
          "name": "stdout",
          "text": [
            "Requirement already satisfied: mlflow in /usr/local/lib/python3.10/dist-packages (2.11.3)\n",
            "Requirement already satisfied: click<9,>=7.0 in /usr/local/lib/python3.10/dist-packages (from mlflow) (8.1.7)\n",
            "Requirement already satisfied: cloudpickle<4 in /usr/local/lib/python3.10/dist-packages (from mlflow) (2.2.1)\n",
            "Requirement already satisfied: entrypoints<1 in /usr/local/lib/python3.10/dist-packages (from mlflow) (0.4)\n",
            "Requirement already satisfied: gitpython<4,>=3.1.9 in /usr/local/lib/python3.10/dist-packages (from mlflow) (3.1.43)\n",
            "Requirement already satisfied: pyyaml<7,>=5.1 in /usr/local/lib/python3.10/dist-packages (from mlflow) (6.0.1)\n",
            "Requirement already satisfied: protobuf<5,>=3.12.0 in /usr/local/lib/python3.10/dist-packages (from mlflow) (3.20.3)\n",
            "Requirement already satisfied: pytz<2025 in /usr/local/lib/python3.10/dist-packages (from mlflow) (2023.4)\n",
            "Requirement already satisfied: requests<3,>=2.17.3 in /usr/local/lib/python3.10/dist-packages (from mlflow) (2.31.0)\n",
            "Requirement already satisfied: packaging<24 in /usr/local/lib/python3.10/dist-packages (from mlflow) (23.2)\n",
            "Requirement already satisfied: importlib-metadata!=4.7.0,<8,>=3.7.0 in /usr/local/lib/python3.10/dist-packages (from mlflow) (7.1.0)\n",
            "Requirement already satisfied: sqlparse<1,>=0.4.0 in /usr/local/lib/python3.10/dist-packages (from mlflow) (0.4.4)\n",
            "Requirement already satisfied: alembic!=1.10.0,<2 in /usr/local/lib/python3.10/dist-packages (from mlflow) (1.13.1)\n",
            "Requirement already satisfied: docker<8,>=4.0.0 in /usr/local/lib/python3.10/dist-packages (from mlflow) (7.0.0)\n",
            "Requirement already satisfied: Flask<4 in /usr/local/lib/python3.10/dist-packages (from mlflow) (2.2.5)\n",
            "Requirement already satisfied: numpy<2 in /usr/local/lib/python3.10/dist-packages (from mlflow) (1.25.2)\n",
            "Requirement already satisfied: scipy<2 in /usr/local/lib/python3.10/dist-packages (from mlflow) (1.11.4)\n",
            "Requirement already satisfied: pandas<3 in /usr/local/lib/python3.10/dist-packages (from mlflow) (2.0.3)\n",
            "Requirement already satisfied: querystring-parser<2 in /usr/local/lib/python3.10/dist-packages (from mlflow) (1.2.4)\n",
            "Requirement already satisfied: sqlalchemy<3,>=1.4.0 in /usr/local/lib/python3.10/dist-packages (from mlflow) (2.0.29)\n",
            "Requirement already satisfied: scikit-learn<2 in /usr/local/lib/python3.10/dist-packages (from mlflow) (1.2.2)\n",
            "Requirement already satisfied: pyarrow<16,>=4.0.0 in /usr/local/lib/python3.10/dist-packages (from mlflow) (14.0.2)\n",
            "Requirement already satisfied: markdown<4,>=3.3 in /usr/local/lib/python3.10/dist-packages (from mlflow) (3.6)\n",
            "Requirement already satisfied: matplotlib<4 in /usr/local/lib/python3.10/dist-packages (from mlflow) (3.7.1)\n",
            "Requirement already satisfied: graphene<4 in /usr/local/lib/python3.10/dist-packages (from mlflow) (3.3)\n",
            "Requirement already satisfied: gunicorn<22 in /usr/local/lib/python3.10/dist-packages (from mlflow) (21.2.0)\n",
            "Requirement already satisfied: Jinja2<4,>=2.11 in /usr/local/lib/python3.10/dist-packages (from mlflow) (3.1.3)\n",
            "Requirement already satisfied: Mako in /usr/local/lib/python3.10/dist-packages (from alembic!=1.10.0,<2->mlflow) (1.3.2)\n",
            "Requirement already satisfied: typing-extensions>=4 in /usr/local/lib/python3.10/dist-packages (from alembic!=1.10.0,<2->mlflow) (4.10.0)\n",
            "Requirement already satisfied: urllib3>=1.26.0 in /usr/local/lib/python3.10/dist-packages (from docker<8,>=4.0.0->mlflow) (2.0.7)\n",
            "Requirement already satisfied: Werkzeug>=2.2.2 in /usr/local/lib/python3.10/dist-packages (from Flask<4->mlflow) (3.0.2)\n",
            "Requirement already satisfied: itsdangerous>=2.0 in /usr/local/lib/python3.10/dist-packages (from Flask<4->mlflow) (2.1.2)\n",
            "Requirement already satisfied: gitdb<5,>=4.0.1 in /usr/local/lib/python3.10/dist-packages (from gitpython<4,>=3.1.9->mlflow) (4.0.11)\n",
            "Requirement already satisfied: graphql-core<3.3,>=3.1 in /usr/local/lib/python3.10/dist-packages (from graphene<4->mlflow) (3.2.3)\n",
            "Requirement already satisfied: graphql-relay<3.3,>=3.1 in /usr/local/lib/python3.10/dist-packages (from graphene<4->mlflow) (3.2.0)\n",
            "Requirement already satisfied: aniso8601<10,>=8 in /usr/local/lib/python3.10/dist-packages (from graphene<4->mlflow) (9.0.1)\n",
            "Requirement already satisfied: zipp>=0.5 in /usr/local/lib/python3.10/dist-packages (from importlib-metadata!=4.7.0,<8,>=3.7.0->mlflow) (3.18.1)\n",
            "Requirement already satisfied: MarkupSafe>=2.0 in /usr/local/lib/python3.10/dist-packages (from Jinja2<4,>=2.11->mlflow) (2.1.5)\n",
            "Requirement already satisfied: contourpy>=1.0.1 in /usr/local/lib/python3.10/dist-packages (from matplotlib<4->mlflow) (1.2.0)\n",
            "Requirement already satisfied: cycler>=0.10 in /usr/local/lib/python3.10/dist-packages (from matplotlib<4->mlflow) (0.12.1)\n",
            "Requirement already satisfied: fonttools>=4.22.0 in /usr/local/lib/python3.10/dist-packages (from matplotlib<4->mlflow) (4.50.0)\n",
            "Requirement already satisfied: kiwisolver>=1.0.1 in /usr/local/lib/python3.10/dist-packages (from matplotlib<4->mlflow) (1.4.5)\n",
            "Requirement already satisfied: pillow>=6.2.0 in /usr/local/lib/python3.10/dist-packages (from matplotlib<4->mlflow) (9.4.0)\n",
            "Requirement already satisfied: pyparsing>=2.3.1 in /usr/local/lib/python3.10/dist-packages (from matplotlib<4->mlflow) (3.1.2)\n",
            "Requirement already satisfied: python-dateutil>=2.7 in /usr/local/lib/python3.10/dist-packages (from matplotlib<4->mlflow) (2.8.2)\n",
            "Requirement already satisfied: tzdata>=2022.1 in /usr/local/lib/python3.10/dist-packages (from pandas<3->mlflow) (2024.1)\n",
            "Requirement already satisfied: six in /usr/local/lib/python3.10/dist-packages (from querystring-parser<2->mlflow) (1.16.0)\n",
            "Requirement already satisfied: charset-normalizer<4,>=2 in /usr/local/lib/python3.10/dist-packages (from requests<3,>=2.17.3->mlflow) (3.3.2)\n",
            "Requirement already satisfied: idna<4,>=2.5 in /usr/local/lib/python3.10/dist-packages (from requests<3,>=2.17.3->mlflow) (3.6)\n",
            "Requirement already satisfied: certifi>=2017.4.17 in /usr/local/lib/python3.10/dist-packages (from requests<3,>=2.17.3->mlflow) (2024.2.2)\n",
            "Requirement already satisfied: joblib>=1.1.1 in /usr/local/lib/python3.10/dist-packages (from scikit-learn<2->mlflow) (1.3.2)\n",
            "Requirement already satisfied: threadpoolctl>=2.0.0 in /usr/local/lib/python3.10/dist-packages (from scikit-learn<2->mlflow) (3.4.0)\n",
            "Requirement already satisfied: greenlet!=0.4.17 in /usr/local/lib/python3.10/dist-packages (from sqlalchemy<3,>=1.4.0->mlflow) (3.0.3)\n",
            "Requirement already satisfied: smmap<6,>=3.0.1 in /usr/local/lib/python3.10/dist-packages (from gitdb<5,>=4.0.1->gitpython<4,>=3.1.9->mlflow) (5.0.1)\n"
          ]
        }
      ],
      "source": [
        "!pip install mlflow"
      ]
    },
    {
      "cell_type": "code",
      "execution_count": null,
      "metadata": {
        "colab": {
          "base_uri": "https://localhost:8080/"
        },
        "id": "PPmE4bmzaA_C",
        "outputId": "f36f9b30-c199-4ba0-881e-d2fd8b0779bf"
      },
      "outputs": [
        {
          "output_type": "stream",
          "name": "stdout",
          "text": [
            "Requirement already satisfied: scikit-learn in /usr/local/lib/python3.10/dist-packages (1.2.2)\n",
            "Requirement already satisfied: numpy>=1.17.3 in /usr/local/lib/python3.10/dist-packages (from scikit-learn) (1.25.2)\n",
            "Requirement already satisfied: scipy>=1.3.2 in /usr/local/lib/python3.10/dist-packages (from scikit-learn) (1.11.4)\n",
            "Requirement already satisfied: joblib>=1.1.1 in /usr/local/lib/python3.10/dist-packages (from scikit-learn) (1.3.2)\n",
            "Requirement already satisfied: threadpoolctl>=2.0.0 in /usr/local/lib/python3.10/dist-packages (from scikit-learn) (3.4.0)\n"
          ]
        }
      ],
      "source": [
        "!pip install scikit-learn"
      ]
    },
    {
      "cell_type": "code",
      "execution_count": null,
      "metadata": {
        "colab": {
          "base_uri": "https://localhost:8080/"
        },
        "id": "vNVlduC6cMnU",
        "outputId": "774f0be4-0c67-46c3-c02e-69da0d6648de"
      },
      "outputs": [
        {
          "output_type": "stream",
          "name": "stdout",
          "text": [
            "Requirement already satisfied: apache-beam in /usr/local/lib/python3.10/dist-packages (2.55.0)\n",
            "Requirement already satisfied: crcmod<2.0,>=1.7 in /usr/local/lib/python3.10/dist-packages (from apache-beam) (1.7)\n",
            "Requirement already satisfied: orjson<4,>=3.9.7 in /usr/local/lib/python3.10/dist-packages (from apache-beam) (3.10.0)\n",
            "Requirement already satisfied: dill<0.3.2,>=0.3.1.1 in /usr/local/lib/python3.10/dist-packages (from apache-beam) (0.3.1.1)\n",
            "Requirement already satisfied: cloudpickle~=2.2.1 in /usr/local/lib/python3.10/dist-packages (from apache-beam) (2.2.1)\n",
            "Requirement already satisfied: fastavro<2,>=0.23.6 in /usr/local/lib/python3.10/dist-packages (from apache-beam) (1.9.4)\n",
            "Requirement already satisfied: fasteners<1.0,>=0.3 in /usr/local/lib/python3.10/dist-packages (from apache-beam) (0.19)\n",
            "Requirement already satisfied: grpcio!=1.48.0,<2,>=1.33.1 in /usr/local/lib/python3.10/dist-packages (from apache-beam) (1.62.1)\n",
            "Requirement already satisfied: hdfs<3.0.0,>=2.1.0 in /usr/local/lib/python3.10/dist-packages (from apache-beam) (2.7.3)\n",
            "Requirement already satisfied: httplib2<0.23.0,>=0.8 in /usr/local/lib/python3.10/dist-packages (from apache-beam) (0.22.0)\n",
            "Requirement already satisfied: js2py<1,>=0.74 in /usr/local/lib/python3.10/dist-packages (from apache-beam) (0.74)\n",
            "Requirement already satisfied: jsonschema<5.0.0,>=4.0.0 in /usr/local/lib/python3.10/dist-packages (from apache-beam) (4.19.2)\n",
            "Requirement already satisfied: jsonpickle<4.0.0,>=3.0.0 in /usr/local/lib/python3.10/dist-packages (from apache-beam) (3.0.3)\n",
            "Requirement already satisfied: numpy<1.27.0,>=1.14.3 in /usr/local/lib/python3.10/dist-packages (from apache-beam) (1.25.2)\n",
            "Requirement already satisfied: objsize<0.8.0,>=0.6.1 in /usr/local/lib/python3.10/dist-packages (from apache-beam) (0.7.0)\n",
            "Requirement already satisfied: packaging>=22.0 in /usr/local/lib/python3.10/dist-packages (from apache-beam) (23.2)\n",
            "Requirement already satisfied: pymongo<5.0.0,>=3.8.0 in /usr/local/lib/python3.10/dist-packages (from apache-beam) (4.6.3)\n",
            "Requirement already satisfied: proto-plus<2,>=1.7.1 in /usr/local/lib/python3.10/dist-packages (from apache-beam) (1.23.0)\n",
            "Requirement already satisfied: protobuf!=4.0.*,!=4.21.*,!=4.22.0,!=4.23.*,!=4.24.*,<4.26.0,>=3.20.3 in /usr/local/lib/python3.10/dist-packages (from apache-beam) (3.20.3)\n",
            "Requirement already satisfied: pydot<2,>=1.2.0 in /usr/local/lib/python3.10/dist-packages (from apache-beam) (1.4.2)\n",
            "Requirement already satisfied: python-dateutil<3,>=2.8.0 in /usr/local/lib/python3.10/dist-packages (from apache-beam) (2.8.2)\n",
            "Requirement already satisfied: pytz>=2018.3 in /usr/local/lib/python3.10/dist-packages (from apache-beam) (2023.4)\n",
            "Requirement already satisfied: regex>=2020.6.8 in /usr/local/lib/python3.10/dist-packages (from apache-beam) (2023.12.25)\n",
            "Requirement already satisfied: requests<3.0.0,>=2.24.0 in /usr/local/lib/python3.10/dist-packages (from apache-beam) (2.31.0)\n",
            "Requirement already satisfied: typing-extensions>=3.7.0 in /usr/local/lib/python3.10/dist-packages (from apache-beam) (4.10.0)\n",
            "Requirement already satisfied: zstandard<1,>=0.18.0 in /usr/local/lib/python3.10/dist-packages (from apache-beam) (0.22.0)\n",
            "Requirement already satisfied: pyarrow<15.0.0,>=3.0.0 in /usr/local/lib/python3.10/dist-packages (from apache-beam) (14.0.2)\n",
            "Requirement already satisfied: pyarrow-hotfix<1 in /usr/local/lib/python3.10/dist-packages (from apache-beam) (0.6)\n",
            "Requirement already satisfied: docopt in /usr/local/lib/python3.10/dist-packages (from hdfs<3.0.0,>=2.1.0->apache-beam) (0.6.2)\n",
            "Requirement already satisfied: six>=1.9.0 in /usr/local/lib/python3.10/dist-packages (from hdfs<3.0.0,>=2.1.0->apache-beam) (1.16.0)\n",
            "Requirement already satisfied: pyparsing!=3.0.0,!=3.0.1,!=3.0.2,!=3.0.3,<4,>=2.4.2 in /usr/local/lib/python3.10/dist-packages (from httplib2<0.23.0,>=0.8->apache-beam) (3.1.2)\n",
            "Requirement already satisfied: tzlocal>=1.2 in /usr/local/lib/python3.10/dist-packages (from js2py<1,>=0.74->apache-beam) (5.2)\n",
            "Requirement already satisfied: pyjsparser>=2.5.1 in /usr/local/lib/python3.10/dist-packages (from js2py<1,>=0.74->apache-beam) (2.7.1)\n",
            "Requirement already satisfied: attrs>=22.2.0 in /usr/local/lib/python3.10/dist-packages (from jsonschema<5.0.0,>=4.0.0->apache-beam) (23.2.0)\n",
            "Requirement already satisfied: jsonschema-specifications>=2023.03.6 in /usr/local/lib/python3.10/dist-packages (from jsonschema<5.0.0,>=4.0.0->apache-beam) (2023.12.1)\n",
            "Requirement already satisfied: referencing>=0.28.4 in /usr/local/lib/python3.10/dist-packages (from jsonschema<5.0.0,>=4.0.0->apache-beam) (0.34.0)\n",
            "Requirement already satisfied: rpds-py>=0.7.1 in /usr/local/lib/python3.10/dist-packages (from jsonschema<5.0.0,>=4.0.0->apache-beam) (0.18.0)\n",
            "Requirement already satisfied: dnspython<3.0.0,>=1.16.0 in /usr/local/lib/python3.10/dist-packages (from pymongo<5.0.0,>=3.8.0->apache-beam) (2.6.1)\n",
            "Requirement already satisfied: charset-normalizer<4,>=2 in /usr/local/lib/python3.10/dist-packages (from requests<3.0.0,>=2.24.0->apache-beam) (3.3.2)\n",
            "Requirement already satisfied: idna<4,>=2.5 in /usr/local/lib/python3.10/dist-packages (from requests<3.0.0,>=2.24.0->apache-beam) (3.6)\n",
            "Requirement already satisfied: urllib3<3,>=1.21.1 in /usr/local/lib/python3.10/dist-packages (from requests<3.0.0,>=2.24.0->apache-beam) (2.0.7)\n",
            "Requirement already satisfied: certifi>=2017.4.17 in /usr/local/lib/python3.10/dist-packages (from requests<3.0.0,>=2.24.0->apache-beam) (2024.2.2)\n"
          ]
        }
      ],
      "source": [
        "! pip install apache-beam"
      ]
    },
    {
      "cell_type": "code",
      "execution_count": null,
      "metadata": {
        "id": "3EA2P7LiRv4J"
      },
      "outputs": [],
      "source": [
        "import pandas as pd\n",
        "import numpy as np\n",
        "import mlflow\n",
        "import mlflow.sklearn\n",
        "import os\n",
        "\n",
        "\n",
        "from sklearn.model_selection import train_test_split\n",
        "from sklearn.ensemble import RandomForestClassifier\n",
        "\n",
        "from sklearn.pipeline import Pipeline\n",
        "from sklearn.preprocessing import StandardScaler\n",
        "\n",
        "\n",
        "from sklearn.model_selection import train_test_split\n",
        "\n",
        "\n",
        "from sklearn.metrics import accuracy_score,classification_report, confusion_matrix\n",
        "from mlflow.tracking import MlflowClient\n",
        "import apache_beam as beam\n",
        "from apache_beam.options.pipeline_options import PipelineOptions\n",
        "import mlflow.pyfunc\n",
        "import json\n",
        "import apache_beam as beam\n",
        "\n",
        "import re\n",
        "import nltk\n",
        "from nltk.corpus import stopwords\n",
        "from nltk.tokenize import word_tokenize\n",
        "\n",
        "import gcsfs\n",
        "\n",
        "from nltk.stem import SnowballStemmer\n"
      ]
    },
    {
      "cell_type": "markdown",
      "metadata": {
        "id": "kvxIkyANSWJJ"
      },
      "source": [
        "#Carga datos!"
      ]
    },
    {
      "cell_type": "code",
      "execution_count": null,
      "metadata": {
        "id": "1qfFdvq4Rv4J"
      },
      "outputs": [],
      "source": [
        "from sklearn.datasets import load_breast_cancer\n",
        "cancer = load_breast_cancer()"
      ]
    },
    {
      "cell_type": "code",
      "execution_count": null,
      "metadata": {
        "colab": {
          "base_uri": "https://localhost:8080/",
          "height": 290
        },
        "id": "376Bd6TJRv4J",
        "outputId": "36bbf51a-98a2-4742-cbda-d2862dafb457"
      },
      "outputs": [
        {
          "data": {
            "application/vnd.google.colaboratory.intrinsic+json": {
              "type": "dataframe",
              "variable_name": "df"
            },
            "text/html": [
              "\n",
              "  <div id=\"df-9c47afbb-c54d-41ad-9c5f-d1481bd13fb3\" class=\"colab-df-container\">\n",
              "    <div>\n",
              "<style scoped>\n",
              "    .dataframe tbody tr th:only-of-type {\n",
              "        vertical-align: middle;\n",
              "    }\n",
              "\n",
              "    .dataframe tbody tr th {\n",
              "        vertical-align: top;\n",
              "    }\n",
              "\n",
              "    .dataframe thead th {\n",
              "        text-align: right;\n",
              "    }\n",
              "</style>\n",
              "<table border=\"1\" class=\"dataframe\">\n",
              "  <thead>\n",
              "    <tr style=\"text-align: right;\">\n",
              "      <th></th>\n",
              "      <th>mean radius</th>\n",
              "      <th>mean texture</th>\n",
              "      <th>mean perimeter</th>\n",
              "      <th>mean area</th>\n",
              "      <th>mean smoothness</th>\n",
              "      <th>mean compactness</th>\n",
              "      <th>mean concavity</th>\n",
              "      <th>mean concave points</th>\n",
              "      <th>mean symmetry</th>\n",
              "      <th>mean fractal dimension</th>\n",
              "      <th>...</th>\n",
              "      <th>worst texture</th>\n",
              "      <th>worst perimeter</th>\n",
              "      <th>worst area</th>\n",
              "      <th>worst smoothness</th>\n",
              "      <th>worst compactness</th>\n",
              "      <th>worst concavity</th>\n",
              "      <th>worst concave points</th>\n",
              "      <th>worst symmetry</th>\n",
              "      <th>worst fractal dimension</th>\n",
              "      <th>target</th>\n",
              "    </tr>\n",
              "  </thead>\n",
              "  <tbody>\n",
              "    <tr>\n",
              "      <th>0</th>\n",
              "      <td>17.99</td>\n",
              "      <td>10.38</td>\n",
              "      <td>122.80</td>\n",
              "      <td>1001.0</td>\n",
              "      <td>0.11840</td>\n",
              "      <td>0.27760</td>\n",
              "      <td>0.3001</td>\n",
              "      <td>0.14710</td>\n",
              "      <td>0.2419</td>\n",
              "      <td>0.07871</td>\n",
              "      <td>...</td>\n",
              "      <td>17.33</td>\n",
              "      <td>184.60</td>\n",
              "      <td>2019.0</td>\n",
              "      <td>0.1622</td>\n",
              "      <td>0.6656</td>\n",
              "      <td>0.7119</td>\n",
              "      <td>0.2654</td>\n",
              "      <td>0.4601</td>\n",
              "      <td>0.11890</td>\n",
              "      <td>0</td>\n",
              "    </tr>\n",
              "    <tr>\n",
              "      <th>1</th>\n",
              "      <td>20.57</td>\n",
              "      <td>17.77</td>\n",
              "      <td>132.90</td>\n",
              "      <td>1326.0</td>\n",
              "      <td>0.08474</td>\n",
              "      <td>0.07864</td>\n",
              "      <td>0.0869</td>\n",
              "      <td>0.07017</td>\n",
              "      <td>0.1812</td>\n",
              "      <td>0.05667</td>\n",
              "      <td>...</td>\n",
              "      <td>23.41</td>\n",
              "      <td>158.80</td>\n",
              "      <td>1956.0</td>\n",
              "      <td>0.1238</td>\n",
              "      <td>0.1866</td>\n",
              "      <td>0.2416</td>\n",
              "      <td>0.1860</td>\n",
              "      <td>0.2750</td>\n",
              "      <td>0.08902</td>\n",
              "      <td>0</td>\n",
              "    </tr>\n",
              "    <tr>\n",
              "      <th>2</th>\n",
              "      <td>19.69</td>\n",
              "      <td>21.25</td>\n",
              "      <td>130.00</td>\n",
              "      <td>1203.0</td>\n",
              "      <td>0.10960</td>\n",
              "      <td>0.15990</td>\n",
              "      <td>0.1974</td>\n",
              "      <td>0.12790</td>\n",
              "      <td>0.2069</td>\n",
              "      <td>0.05999</td>\n",
              "      <td>...</td>\n",
              "      <td>25.53</td>\n",
              "      <td>152.50</td>\n",
              "      <td>1709.0</td>\n",
              "      <td>0.1444</td>\n",
              "      <td>0.4245</td>\n",
              "      <td>0.4504</td>\n",
              "      <td>0.2430</td>\n",
              "      <td>0.3613</td>\n",
              "      <td>0.08758</td>\n",
              "      <td>0</td>\n",
              "    </tr>\n",
              "    <tr>\n",
              "      <th>3</th>\n",
              "      <td>11.42</td>\n",
              "      <td>20.38</td>\n",
              "      <td>77.58</td>\n",
              "      <td>386.1</td>\n",
              "      <td>0.14250</td>\n",
              "      <td>0.28390</td>\n",
              "      <td>0.2414</td>\n",
              "      <td>0.10520</td>\n",
              "      <td>0.2597</td>\n",
              "      <td>0.09744</td>\n",
              "      <td>...</td>\n",
              "      <td>26.50</td>\n",
              "      <td>98.87</td>\n",
              "      <td>567.7</td>\n",
              "      <td>0.2098</td>\n",
              "      <td>0.8663</td>\n",
              "      <td>0.6869</td>\n",
              "      <td>0.2575</td>\n",
              "      <td>0.6638</td>\n",
              "      <td>0.17300</td>\n",
              "      <td>0</td>\n",
              "    </tr>\n",
              "    <tr>\n",
              "      <th>4</th>\n",
              "      <td>20.29</td>\n",
              "      <td>14.34</td>\n",
              "      <td>135.10</td>\n",
              "      <td>1297.0</td>\n",
              "      <td>0.10030</td>\n",
              "      <td>0.13280</td>\n",
              "      <td>0.1980</td>\n",
              "      <td>0.10430</td>\n",
              "      <td>0.1809</td>\n",
              "      <td>0.05883</td>\n",
              "      <td>...</td>\n",
              "      <td>16.67</td>\n",
              "      <td>152.20</td>\n",
              "      <td>1575.0</td>\n",
              "      <td>0.1374</td>\n",
              "      <td>0.2050</td>\n",
              "      <td>0.4000</td>\n",
              "      <td>0.1625</td>\n",
              "      <td>0.2364</td>\n",
              "      <td>0.07678</td>\n",
              "      <td>0</td>\n",
              "    </tr>\n",
              "  </tbody>\n",
              "</table>\n",
              "<p>5 rows × 31 columns</p>\n",
              "</div>\n",
              "    <div class=\"colab-df-buttons\">\n",
              "\n",
              "  <div class=\"colab-df-container\">\n",
              "    <button class=\"colab-df-convert\" onclick=\"convertToInteractive('df-9c47afbb-c54d-41ad-9c5f-d1481bd13fb3')\"\n",
              "            title=\"Convert this dataframe to an interactive table.\"\n",
              "            style=\"display:none;\">\n",
              "\n",
              "  <svg xmlns=\"http://www.w3.org/2000/svg\" height=\"24px\" viewBox=\"0 -960 960 960\">\n",
              "    <path d=\"M120-120v-720h720v720H120Zm60-500h600v-160H180v160Zm220 220h160v-160H400v160Zm0 220h160v-160H400v160ZM180-400h160v-160H180v160Zm440 0h160v-160H620v160ZM180-180h160v-160H180v160Zm440 0h160v-160H620v160Z\"/>\n",
              "  </svg>\n",
              "    </button>\n",
              "\n",
              "  <style>\n",
              "    .colab-df-container {\n",
              "      display:flex;\n",
              "      gap: 12px;\n",
              "    }\n",
              "\n",
              "    .colab-df-convert {\n",
              "      background-color: #E8F0FE;\n",
              "      border: none;\n",
              "      border-radius: 50%;\n",
              "      cursor: pointer;\n",
              "      display: none;\n",
              "      fill: #1967D2;\n",
              "      height: 32px;\n",
              "      padding: 0 0 0 0;\n",
              "      width: 32px;\n",
              "    }\n",
              "\n",
              "    .colab-df-convert:hover {\n",
              "      background-color: #E2EBFA;\n",
              "      box-shadow: 0px 1px 2px rgba(60, 64, 67, 0.3), 0px 1px 3px 1px rgba(60, 64, 67, 0.15);\n",
              "      fill: #174EA6;\n",
              "    }\n",
              "\n",
              "    .colab-df-buttons div {\n",
              "      margin-bottom: 4px;\n",
              "    }\n",
              "\n",
              "    [theme=dark] .colab-df-convert {\n",
              "      background-color: #3B4455;\n",
              "      fill: #D2E3FC;\n",
              "    }\n",
              "\n",
              "    [theme=dark] .colab-df-convert:hover {\n",
              "      background-color: #434B5C;\n",
              "      box-shadow: 0px 1px 3px 1px rgba(0, 0, 0, 0.15);\n",
              "      filter: drop-shadow(0px 1px 2px rgba(0, 0, 0, 0.3));\n",
              "      fill: #FFFFFF;\n",
              "    }\n",
              "  </style>\n",
              "\n",
              "    <script>\n",
              "      const buttonEl =\n",
              "        document.querySelector('#df-9c47afbb-c54d-41ad-9c5f-d1481bd13fb3 button.colab-df-convert');\n",
              "      buttonEl.style.display =\n",
              "        google.colab.kernel.accessAllowed ? 'block' : 'none';\n",
              "\n",
              "      async function convertToInteractive(key) {\n",
              "        const element = document.querySelector('#df-9c47afbb-c54d-41ad-9c5f-d1481bd13fb3');\n",
              "        const dataTable =\n",
              "          await google.colab.kernel.invokeFunction('convertToInteractive',\n",
              "                                                    [key], {});\n",
              "        if (!dataTable) return;\n",
              "\n",
              "        const docLinkHtml = 'Like what you see? Visit the ' +\n",
              "          '<a target=\"_blank\" href=https://colab.research.google.com/notebooks/data_table.ipynb>data table notebook</a>'\n",
              "          + ' to learn more about interactive tables.';\n",
              "        element.innerHTML = '';\n",
              "        dataTable['output_type'] = 'display_data';\n",
              "        await google.colab.output.renderOutput(dataTable, element);\n",
              "        const docLink = document.createElement('div');\n",
              "        docLink.innerHTML = docLinkHtml;\n",
              "        element.appendChild(docLink);\n",
              "      }\n",
              "    </script>\n",
              "  </div>\n",
              "\n",
              "\n",
              "<div id=\"df-be34985e-a17f-4b2b-b82d-33a016b76646\">\n",
              "  <button class=\"colab-df-quickchart\" onclick=\"quickchart('df-be34985e-a17f-4b2b-b82d-33a016b76646')\"\n",
              "            title=\"Suggest charts\"\n",
              "            style=\"display:none;\">\n",
              "\n",
              "<svg xmlns=\"http://www.w3.org/2000/svg\" height=\"24px\"viewBox=\"0 0 24 24\"\n",
              "     width=\"24px\">\n",
              "    <g>\n",
              "        <path d=\"M19 3H5c-1.1 0-2 .9-2 2v14c0 1.1.9 2 2 2h14c1.1 0 2-.9 2-2V5c0-1.1-.9-2-2-2zM9 17H7v-7h2v7zm4 0h-2V7h2v10zm4 0h-2v-4h2v4z\"/>\n",
              "    </g>\n",
              "</svg>\n",
              "  </button>\n",
              "\n",
              "<style>\n",
              "  .colab-df-quickchart {\n",
              "      --bg-color: #E8F0FE;\n",
              "      --fill-color: #1967D2;\n",
              "      --hover-bg-color: #E2EBFA;\n",
              "      --hover-fill-color: #174EA6;\n",
              "      --disabled-fill-color: #AAA;\n",
              "      --disabled-bg-color: #DDD;\n",
              "  }\n",
              "\n",
              "  [theme=dark] .colab-df-quickchart {\n",
              "      --bg-color: #3B4455;\n",
              "      --fill-color: #D2E3FC;\n",
              "      --hover-bg-color: #434B5C;\n",
              "      --hover-fill-color: #FFFFFF;\n",
              "      --disabled-bg-color: #3B4455;\n",
              "      --disabled-fill-color: #666;\n",
              "  }\n",
              "\n",
              "  .colab-df-quickchart {\n",
              "    background-color: var(--bg-color);\n",
              "    border: none;\n",
              "    border-radius: 50%;\n",
              "    cursor: pointer;\n",
              "    display: none;\n",
              "    fill: var(--fill-color);\n",
              "    height: 32px;\n",
              "    padding: 0;\n",
              "    width: 32px;\n",
              "  }\n",
              "\n",
              "  .colab-df-quickchart:hover {\n",
              "    background-color: var(--hover-bg-color);\n",
              "    box-shadow: 0 1px 2px rgba(60, 64, 67, 0.3), 0 1px 3px 1px rgba(60, 64, 67, 0.15);\n",
              "    fill: var(--button-hover-fill-color);\n",
              "  }\n",
              "\n",
              "  .colab-df-quickchart-complete:disabled,\n",
              "  .colab-df-quickchart-complete:disabled:hover {\n",
              "    background-color: var(--disabled-bg-color);\n",
              "    fill: var(--disabled-fill-color);\n",
              "    box-shadow: none;\n",
              "  }\n",
              "\n",
              "  .colab-df-spinner {\n",
              "    border: 2px solid var(--fill-color);\n",
              "    border-color: transparent;\n",
              "    border-bottom-color: var(--fill-color);\n",
              "    animation:\n",
              "      spin 1s steps(1) infinite;\n",
              "  }\n",
              "\n",
              "  @keyframes spin {\n",
              "    0% {\n",
              "      border-color: transparent;\n",
              "      border-bottom-color: var(--fill-color);\n",
              "      border-left-color: var(--fill-color);\n",
              "    }\n",
              "    20% {\n",
              "      border-color: transparent;\n",
              "      border-left-color: var(--fill-color);\n",
              "      border-top-color: var(--fill-color);\n",
              "    }\n",
              "    30% {\n",
              "      border-color: transparent;\n",
              "      border-left-color: var(--fill-color);\n",
              "      border-top-color: var(--fill-color);\n",
              "      border-right-color: var(--fill-color);\n",
              "    }\n",
              "    40% {\n",
              "      border-color: transparent;\n",
              "      border-right-color: var(--fill-color);\n",
              "      border-top-color: var(--fill-color);\n",
              "    }\n",
              "    60% {\n",
              "      border-color: transparent;\n",
              "      border-right-color: var(--fill-color);\n",
              "    }\n",
              "    80% {\n",
              "      border-color: transparent;\n",
              "      border-right-color: var(--fill-color);\n",
              "      border-bottom-color: var(--fill-color);\n",
              "    }\n",
              "    90% {\n",
              "      border-color: transparent;\n",
              "      border-bottom-color: var(--fill-color);\n",
              "    }\n",
              "  }\n",
              "</style>\n",
              "\n",
              "  <script>\n",
              "    async function quickchart(key) {\n",
              "      const quickchartButtonEl =\n",
              "        document.querySelector('#' + key + ' button');\n",
              "      quickchartButtonEl.disabled = true;  // To prevent multiple clicks.\n",
              "      quickchartButtonEl.classList.add('colab-df-spinner');\n",
              "      try {\n",
              "        const charts = await google.colab.kernel.invokeFunction(\n",
              "            'suggestCharts', [key], {});\n",
              "      } catch (error) {\n",
              "        console.error('Error during call to suggestCharts:', error);\n",
              "      }\n",
              "      quickchartButtonEl.classList.remove('colab-df-spinner');\n",
              "      quickchartButtonEl.classList.add('colab-df-quickchart-complete');\n",
              "    }\n",
              "    (() => {\n",
              "      let quickchartButtonEl =\n",
              "        document.querySelector('#df-be34985e-a17f-4b2b-b82d-33a016b76646 button');\n",
              "      quickchartButtonEl.style.display =\n",
              "        google.colab.kernel.accessAllowed ? 'block' : 'none';\n",
              "    })();\n",
              "  </script>\n",
              "</div>\n",
              "    </div>\n",
              "  </div>\n"
            ],
            "text/plain": [
              "   mean radius  mean texture  mean perimeter  mean area  mean smoothness  \\\n",
              "0        17.99         10.38          122.80     1001.0          0.11840   \n",
              "1        20.57         17.77          132.90     1326.0          0.08474   \n",
              "2        19.69         21.25          130.00     1203.0          0.10960   \n",
              "3        11.42         20.38           77.58      386.1          0.14250   \n",
              "4        20.29         14.34          135.10     1297.0          0.10030   \n",
              "\n",
              "   mean compactness  mean concavity  mean concave points  mean symmetry  \\\n",
              "0           0.27760          0.3001              0.14710         0.2419   \n",
              "1           0.07864          0.0869              0.07017         0.1812   \n",
              "2           0.15990          0.1974              0.12790         0.2069   \n",
              "3           0.28390          0.2414              0.10520         0.2597   \n",
              "4           0.13280          0.1980              0.10430         0.1809   \n",
              "\n",
              "   mean fractal dimension  ...  worst texture  worst perimeter  worst area  \\\n",
              "0                 0.07871  ...          17.33           184.60      2019.0   \n",
              "1                 0.05667  ...          23.41           158.80      1956.0   \n",
              "2                 0.05999  ...          25.53           152.50      1709.0   \n",
              "3                 0.09744  ...          26.50            98.87       567.7   \n",
              "4                 0.05883  ...          16.67           152.20      1575.0   \n",
              "\n",
              "   worst smoothness  worst compactness  worst concavity  worst concave points  \\\n",
              "0            0.1622             0.6656           0.7119                0.2654   \n",
              "1            0.1238             0.1866           0.2416                0.1860   \n",
              "2            0.1444             0.4245           0.4504                0.2430   \n",
              "3            0.2098             0.8663           0.6869                0.2575   \n",
              "4            0.1374             0.2050           0.4000                0.1625   \n",
              "\n",
              "   worst symmetry  worst fractal dimension  target  \n",
              "0          0.4601                  0.11890       0  \n",
              "1          0.2750                  0.08902       0  \n",
              "2          0.3613                  0.08758       0  \n",
              "3          0.6638                  0.17300       0  \n",
              "4          0.2364                  0.07678       0  \n",
              "\n",
              "[5 rows x 31 columns]"
            ]
          },
          "execution_count": 6,
          "metadata": {},
          "output_type": "execute_result"
        }
      ],
      "source": [
        "df = pd.DataFrame(cancer['data'], columns=cancer['feature_names'])\n",
        "df['target'] = cancer['target']\n",
        "df.head()"
      ]
    },
    {
      "cell_type": "markdown",
      "metadata": {
        "id": "ZZ199js7SaEu"
      },
      "source": [
        "#Analisis exploratorio"
      ]
    },
    {
      "cell_type": "code",
      "execution_count": null,
      "metadata": {
        "colab": {
          "base_uri": "https://localhost:8080/"
        },
        "id": "Yj2VQ3crRv4K",
        "outputId": "ccf44946-b531-48cf-bd32-bcc472a89fbc"
      },
      "outputs": [
        {
          "data": {
            "text/plain": [
              "(569, 31)"
            ]
          },
          "execution_count": 7,
          "metadata": {},
          "output_type": "execute_result"
        }
      ],
      "source": [
        "df.shape"
      ]
    },
    {
      "cell_type": "code",
      "execution_count": null,
      "metadata": {
        "colab": {
          "base_uri": "https://localhost:8080/",
          "height": 384
        },
        "id": "O-uNwMKlRv4K",
        "outputId": "d2bd9434-ca1b-4f67-f6bc-a03b8bcbd786"
      },
      "outputs": [
        {
          "data": {
            "application/vnd.google.colaboratory.intrinsic+json": {
              "type": "dataframe"
            },
            "text/html": [
              "\n",
              "  <div id=\"df-2fe81d64-1b3f-4ca3-a06d-f1c81ba0e0dc\" class=\"colab-df-container\">\n",
              "    <div>\n",
              "<style scoped>\n",
              "    .dataframe tbody tr th:only-of-type {\n",
              "        vertical-align: middle;\n",
              "    }\n",
              "\n",
              "    .dataframe tbody tr th {\n",
              "        vertical-align: top;\n",
              "    }\n",
              "\n",
              "    .dataframe thead th {\n",
              "        text-align: right;\n",
              "    }\n",
              "</style>\n",
              "<table border=\"1\" class=\"dataframe\">\n",
              "  <thead>\n",
              "    <tr style=\"text-align: right;\">\n",
              "      <th></th>\n",
              "      <th>mean radius</th>\n",
              "      <th>mean texture</th>\n",
              "      <th>mean perimeter</th>\n",
              "      <th>mean area</th>\n",
              "      <th>mean smoothness</th>\n",
              "      <th>mean compactness</th>\n",
              "      <th>mean concavity</th>\n",
              "      <th>mean concave points</th>\n",
              "      <th>mean symmetry</th>\n",
              "      <th>mean fractal dimension</th>\n",
              "      <th>...</th>\n",
              "      <th>worst texture</th>\n",
              "      <th>worst perimeter</th>\n",
              "      <th>worst area</th>\n",
              "      <th>worst smoothness</th>\n",
              "      <th>worst compactness</th>\n",
              "      <th>worst concavity</th>\n",
              "      <th>worst concave points</th>\n",
              "      <th>worst symmetry</th>\n",
              "      <th>worst fractal dimension</th>\n",
              "      <th>target</th>\n",
              "    </tr>\n",
              "  </thead>\n",
              "  <tbody>\n",
              "    <tr>\n",
              "      <th>count</th>\n",
              "      <td>569.000000</td>\n",
              "      <td>569.000000</td>\n",
              "      <td>569.000000</td>\n",
              "      <td>569.000000</td>\n",
              "      <td>569.000000</td>\n",
              "      <td>569.000000</td>\n",
              "      <td>569.000000</td>\n",
              "      <td>569.000000</td>\n",
              "      <td>569.000000</td>\n",
              "      <td>569.000000</td>\n",
              "      <td>...</td>\n",
              "      <td>569.000000</td>\n",
              "      <td>569.000000</td>\n",
              "      <td>569.000000</td>\n",
              "      <td>569.000000</td>\n",
              "      <td>569.000000</td>\n",
              "      <td>569.000000</td>\n",
              "      <td>569.000000</td>\n",
              "      <td>569.000000</td>\n",
              "      <td>569.000000</td>\n",
              "      <td>569.000000</td>\n",
              "    </tr>\n",
              "    <tr>\n",
              "      <th>mean</th>\n",
              "      <td>14.127292</td>\n",
              "      <td>19.289649</td>\n",
              "      <td>91.969033</td>\n",
              "      <td>654.889104</td>\n",
              "      <td>0.096360</td>\n",
              "      <td>0.104341</td>\n",
              "      <td>0.088799</td>\n",
              "      <td>0.048919</td>\n",
              "      <td>0.181162</td>\n",
              "      <td>0.062798</td>\n",
              "      <td>...</td>\n",
              "      <td>25.677223</td>\n",
              "      <td>107.261213</td>\n",
              "      <td>880.583128</td>\n",
              "      <td>0.132369</td>\n",
              "      <td>0.254265</td>\n",
              "      <td>0.272188</td>\n",
              "      <td>0.114606</td>\n",
              "      <td>0.290076</td>\n",
              "      <td>0.083946</td>\n",
              "      <td>0.627417</td>\n",
              "    </tr>\n",
              "    <tr>\n",
              "      <th>std</th>\n",
              "      <td>3.524049</td>\n",
              "      <td>4.301036</td>\n",
              "      <td>24.298981</td>\n",
              "      <td>351.914129</td>\n",
              "      <td>0.014064</td>\n",
              "      <td>0.052813</td>\n",
              "      <td>0.079720</td>\n",
              "      <td>0.038803</td>\n",
              "      <td>0.027414</td>\n",
              "      <td>0.007060</td>\n",
              "      <td>...</td>\n",
              "      <td>6.146258</td>\n",
              "      <td>33.602542</td>\n",
              "      <td>569.356993</td>\n",
              "      <td>0.022832</td>\n",
              "      <td>0.157336</td>\n",
              "      <td>0.208624</td>\n",
              "      <td>0.065732</td>\n",
              "      <td>0.061867</td>\n",
              "      <td>0.018061</td>\n",
              "      <td>0.483918</td>\n",
              "    </tr>\n",
              "    <tr>\n",
              "      <th>min</th>\n",
              "      <td>6.981000</td>\n",
              "      <td>9.710000</td>\n",
              "      <td>43.790000</td>\n",
              "      <td>143.500000</td>\n",
              "      <td>0.052630</td>\n",
              "      <td>0.019380</td>\n",
              "      <td>0.000000</td>\n",
              "      <td>0.000000</td>\n",
              "      <td>0.106000</td>\n",
              "      <td>0.049960</td>\n",
              "      <td>...</td>\n",
              "      <td>12.020000</td>\n",
              "      <td>50.410000</td>\n",
              "      <td>185.200000</td>\n",
              "      <td>0.071170</td>\n",
              "      <td>0.027290</td>\n",
              "      <td>0.000000</td>\n",
              "      <td>0.000000</td>\n",
              "      <td>0.156500</td>\n",
              "      <td>0.055040</td>\n",
              "      <td>0.000000</td>\n",
              "    </tr>\n",
              "    <tr>\n",
              "      <th>25%</th>\n",
              "      <td>11.700000</td>\n",
              "      <td>16.170000</td>\n",
              "      <td>75.170000</td>\n",
              "      <td>420.300000</td>\n",
              "      <td>0.086370</td>\n",
              "      <td>0.064920</td>\n",
              "      <td>0.029560</td>\n",
              "      <td>0.020310</td>\n",
              "      <td>0.161900</td>\n",
              "      <td>0.057700</td>\n",
              "      <td>...</td>\n",
              "      <td>21.080000</td>\n",
              "      <td>84.110000</td>\n",
              "      <td>515.300000</td>\n",
              "      <td>0.116600</td>\n",
              "      <td>0.147200</td>\n",
              "      <td>0.114500</td>\n",
              "      <td>0.064930</td>\n",
              "      <td>0.250400</td>\n",
              "      <td>0.071460</td>\n",
              "      <td>0.000000</td>\n",
              "    </tr>\n",
              "    <tr>\n",
              "      <th>50%</th>\n",
              "      <td>13.370000</td>\n",
              "      <td>18.840000</td>\n",
              "      <td>86.240000</td>\n",
              "      <td>551.100000</td>\n",
              "      <td>0.095870</td>\n",
              "      <td>0.092630</td>\n",
              "      <td>0.061540</td>\n",
              "      <td>0.033500</td>\n",
              "      <td>0.179200</td>\n",
              "      <td>0.061540</td>\n",
              "      <td>...</td>\n",
              "      <td>25.410000</td>\n",
              "      <td>97.660000</td>\n",
              "      <td>686.500000</td>\n",
              "      <td>0.131300</td>\n",
              "      <td>0.211900</td>\n",
              "      <td>0.226700</td>\n",
              "      <td>0.099930</td>\n",
              "      <td>0.282200</td>\n",
              "      <td>0.080040</td>\n",
              "      <td>1.000000</td>\n",
              "    </tr>\n",
              "    <tr>\n",
              "      <th>75%</th>\n",
              "      <td>15.780000</td>\n",
              "      <td>21.800000</td>\n",
              "      <td>104.100000</td>\n",
              "      <td>782.700000</td>\n",
              "      <td>0.105300</td>\n",
              "      <td>0.130400</td>\n",
              "      <td>0.130700</td>\n",
              "      <td>0.074000</td>\n",
              "      <td>0.195700</td>\n",
              "      <td>0.066120</td>\n",
              "      <td>...</td>\n",
              "      <td>29.720000</td>\n",
              "      <td>125.400000</td>\n",
              "      <td>1084.000000</td>\n",
              "      <td>0.146000</td>\n",
              "      <td>0.339100</td>\n",
              "      <td>0.382900</td>\n",
              "      <td>0.161400</td>\n",
              "      <td>0.317900</td>\n",
              "      <td>0.092080</td>\n",
              "      <td>1.000000</td>\n",
              "    </tr>\n",
              "    <tr>\n",
              "      <th>max</th>\n",
              "      <td>28.110000</td>\n",
              "      <td>39.280000</td>\n",
              "      <td>188.500000</td>\n",
              "      <td>2501.000000</td>\n",
              "      <td>0.163400</td>\n",
              "      <td>0.345400</td>\n",
              "      <td>0.426800</td>\n",
              "      <td>0.201200</td>\n",
              "      <td>0.304000</td>\n",
              "      <td>0.097440</td>\n",
              "      <td>...</td>\n",
              "      <td>49.540000</td>\n",
              "      <td>251.200000</td>\n",
              "      <td>4254.000000</td>\n",
              "      <td>0.222600</td>\n",
              "      <td>1.058000</td>\n",
              "      <td>1.252000</td>\n",
              "      <td>0.291000</td>\n",
              "      <td>0.663800</td>\n",
              "      <td>0.207500</td>\n",
              "      <td>1.000000</td>\n",
              "    </tr>\n",
              "  </tbody>\n",
              "</table>\n",
              "<p>8 rows × 31 columns</p>\n",
              "</div>\n",
              "    <div class=\"colab-df-buttons\">\n",
              "\n",
              "  <div class=\"colab-df-container\">\n",
              "    <button class=\"colab-df-convert\" onclick=\"convertToInteractive('df-2fe81d64-1b3f-4ca3-a06d-f1c81ba0e0dc')\"\n",
              "            title=\"Convert this dataframe to an interactive table.\"\n",
              "            style=\"display:none;\">\n",
              "\n",
              "  <svg xmlns=\"http://www.w3.org/2000/svg\" height=\"24px\" viewBox=\"0 -960 960 960\">\n",
              "    <path d=\"M120-120v-720h720v720H120Zm60-500h600v-160H180v160Zm220 220h160v-160H400v160Zm0 220h160v-160H400v160ZM180-400h160v-160H180v160Zm440 0h160v-160H620v160ZM180-180h160v-160H180v160Zm440 0h160v-160H620v160Z\"/>\n",
              "  </svg>\n",
              "    </button>\n",
              "\n",
              "  <style>\n",
              "    .colab-df-container {\n",
              "      display:flex;\n",
              "      gap: 12px;\n",
              "    }\n",
              "\n",
              "    .colab-df-convert {\n",
              "      background-color: #E8F0FE;\n",
              "      border: none;\n",
              "      border-radius: 50%;\n",
              "      cursor: pointer;\n",
              "      display: none;\n",
              "      fill: #1967D2;\n",
              "      height: 32px;\n",
              "      padding: 0 0 0 0;\n",
              "      width: 32px;\n",
              "    }\n",
              "\n",
              "    .colab-df-convert:hover {\n",
              "      background-color: #E2EBFA;\n",
              "      box-shadow: 0px 1px 2px rgba(60, 64, 67, 0.3), 0px 1px 3px 1px rgba(60, 64, 67, 0.15);\n",
              "      fill: #174EA6;\n",
              "    }\n",
              "\n",
              "    .colab-df-buttons div {\n",
              "      margin-bottom: 4px;\n",
              "    }\n",
              "\n",
              "    [theme=dark] .colab-df-convert {\n",
              "      background-color: #3B4455;\n",
              "      fill: #D2E3FC;\n",
              "    }\n",
              "\n",
              "    [theme=dark] .colab-df-convert:hover {\n",
              "      background-color: #434B5C;\n",
              "      box-shadow: 0px 1px 3px 1px rgba(0, 0, 0, 0.15);\n",
              "      filter: drop-shadow(0px 1px 2px rgba(0, 0, 0, 0.3));\n",
              "      fill: #FFFFFF;\n",
              "    }\n",
              "  </style>\n",
              "\n",
              "    <script>\n",
              "      const buttonEl =\n",
              "        document.querySelector('#df-2fe81d64-1b3f-4ca3-a06d-f1c81ba0e0dc button.colab-df-convert');\n",
              "      buttonEl.style.display =\n",
              "        google.colab.kernel.accessAllowed ? 'block' : 'none';\n",
              "\n",
              "      async function convertToInteractive(key) {\n",
              "        const element = document.querySelector('#df-2fe81d64-1b3f-4ca3-a06d-f1c81ba0e0dc');\n",
              "        const dataTable =\n",
              "          await google.colab.kernel.invokeFunction('convertToInteractive',\n",
              "                                                    [key], {});\n",
              "        if (!dataTable) return;\n",
              "\n",
              "        const docLinkHtml = 'Like what you see? Visit the ' +\n",
              "          '<a target=\"_blank\" href=https://colab.research.google.com/notebooks/data_table.ipynb>data table notebook</a>'\n",
              "          + ' to learn more about interactive tables.';\n",
              "        element.innerHTML = '';\n",
              "        dataTable['output_type'] = 'display_data';\n",
              "        await google.colab.output.renderOutput(dataTable, element);\n",
              "        const docLink = document.createElement('div');\n",
              "        docLink.innerHTML = docLinkHtml;\n",
              "        element.appendChild(docLink);\n",
              "      }\n",
              "    </script>\n",
              "  </div>\n",
              "\n",
              "\n",
              "<div id=\"df-b7ef94ca-06bc-4312-b12f-586fdb2d1b84\">\n",
              "  <button class=\"colab-df-quickchart\" onclick=\"quickchart('df-b7ef94ca-06bc-4312-b12f-586fdb2d1b84')\"\n",
              "            title=\"Suggest charts\"\n",
              "            style=\"display:none;\">\n",
              "\n",
              "<svg xmlns=\"http://www.w3.org/2000/svg\" height=\"24px\"viewBox=\"0 0 24 24\"\n",
              "     width=\"24px\">\n",
              "    <g>\n",
              "        <path d=\"M19 3H5c-1.1 0-2 .9-2 2v14c0 1.1.9 2 2 2h14c1.1 0 2-.9 2-2V5c0-1.1-.9-2-2-2zM9 17H7v-7h2v7zm4 0h-2V7h2v10zm4 0h-2v-4h2v4z\"/>\n",
              "    </g>\n",
              "</svg>\n",
              "  </button>\n",
              "\n",
              "<style>\n",
              "  .colab-df-quickchart {\n",
              "      --bg-color: #E8F0FE;\n",
              "      --fill-color: #1967D2;\n",
              "      --hover-bg-color: #E2EBFA;\n",
              "      --hover-fill-color: #174EA6;\n",
              "      --disabled-fill-color: #AAA;\n",
              "      --disabled-bg-color: #DDD;\n",
              "  }\n",
              "\n",
              "  [theme=dark] .colab-df-quickchart {\n",
              "      --bg-color: #3B4455;\n",
              "      --fill-color: #D2E3FC;\n",
              "      --hover-bg-color: #434B5C;\n",
              "      --hover-fill-color: #FFFFFF;\n",
              "      --disabled-bg-color: #3B4455;\n",
              "      --disabled-fill-color: #666;\n",
              "  }\n",
              "\n",
              "  .colab-df-quickchart {\n",
              "    background-color: var(--bg-color);\n",
              "    border: none;\n",
              "    border-radius: 50%;\n",
              "    cursor: pointer;\n",
              "    display: none;\n",
              "    fill: var(--fill-color);\n",
              "    height: 32px;\n",
              "    padding: 0;\n",
              "    width: 32px;\n",
              "  }\n",
              "\n",
              "  .colab-df-quickchart:hover {\n",
              "    background-color: var(--hover-bg-color);\n",
              "    box-shadow: 0 1px 2px rgba(60, 64, 67, 0.3), 0 1px 3px 1px rgba(60, 64, 67, 0.15);\n",
              "    fill: var(--button-hover-fill-color);\n",
              "  }\n",
              "\n",
              "  .colab-df-quickchart-complete:disabled,\n",
              "  .colab-df-quickchart-complete:disabled:hover {\n",
              "    background-color: var(--disabled-bg-color);\n",
              "    fill: var(--disabled-fill-color);\n",
              "    box-shadow: none;\n",
              "  }\n",
              "\n",
              "  .colab-df-spinner {\n",
              "    border: 2px solid var(--fill-color);\n",
              "    border-color: transparent;\n",
              "    border-bottom-color: var(--fill-color);\n",
              "    animation:\n",
              "      spin 1s steps(1) infinite;\n",
              "  }\n",
              "\n",
              "  @keyframes spin {\n",
              "    0% {\n",
              "      border-color: transparent;\n",
              "      border-bottom-color: var(--fill-color);\n",
              "      border-left-color: var(--fill-color);\n",
              "    }\n",
              "    20% {\n",
              "      border-color: transparent;\n",
              "      border-left-color: var(--fill-color);\n",
              "      border-top-color: var(--fill-color);\n",
              "    }\n",
              "    30% {\n",
              "      border-color: transparent;\n",
              "      border-left-color: var(--fill-color);\n",
              "      border-top-color: var(--fill-color);\n",
              "      border-right-color: var(--fill-color);\n",
              "    }\n",
              "    40% {\n",
              "      border-color: transparent;\n",
              "      border-right-color: var(--fill-color);\n",
              "      border-top-color: var(--fill-color);\n",
              "    }\n",
              "    60% {\n",
              "      border-color: transparent;\n",
              "      border-right-color: var(--fill-color);\n",
              "    }\n",
              "    80% {\n",
              "      border-color: transparent;\n",
              "      border-right-color: var(--fill-color);\n",
              "      border-bottom-color: var(--fill-color);\n",
              "    }\n",
              "    90% {\n",
              "      border-color: transparent;\n",
              "      border-bottom-color: var(--fill-color);\n",
              "    }\n",
              "  }\n",
              "</style>\n",
              "\n",
              "  <script>\n",
              "    async function quickchart(key) {\n",
              "      const quickchartButtonEl =\n",
              "        document.querySelector('#' + key + ' button');\n",
              "      quickchartButtonEl.disabled = true;  // To prevent multiple clicks.\n",
              "      quickchartButtonEl.classList.add('colab-df-spinner');\n",
              "      try {\n",
              "        const charts = await google.colab.kernel.invokeFunction(\n",
              "            'suggestCharts', [key], {});\n",
              "      } catch (error) {\n",
              "        console.error('Error during call to suggestCharts:', error);\n",
              "      }\n",
              "      quickchartButtonEl.classList.remove('colab-df-spinner');\n",
              "      quickchartButtonEl.classList.add('colab-df-quickchart-complete');\n",
              "    }\n",
              "    (() => {\n",
              "      let quickchartButtonEl =\n",
              "        document.querySelector('#df-b7ef94ca-06bc-4312-b12f-586fdb2d1b84 button');\n",
              "      quickchartButtonEl.style.display =\n",
              "        google.colab.kernel.accessAllowed ? 'block' : 'none';\n",
              "    })();\n",
              "  </script>\n",
              "</div>\n",
              "    </div>\n",
              "  </div>\n"
            ],
            "text/plain": [
              "       mean radius  mean texture  mean perimeter    mean area  \\\n",
              "count   569.000000    569.000000      569.000000   569.000000   \n",
              "mean     14.127292     19.289649       91.969033   654.889104   \n",
              "std       3.524049      4.301036       24.298981   351.914129   \n",
              "min       6.981000      9.710000       43.790000   143.500000   \n",
              "25%      11.700000     16.170000       75.170000   420.300000   \n",
              "50%      13.370000     18.840000       86.240000   551.100000   \n",
              "75%      15.780000     21.800000      104.100000   782.700000   \n",
              "max      28.110000     39.280000      188.500000  2501.000000   \n",
              "\n",
              "       mean smoothness  mean compactness  mean concavity  mean concave points  \\\n",
              "count       569.000000        569.000000      569.000000           569.000000   \n",
              "mean          0.096360          0.104341        0.088799             0.048919   \n",
              "std           0.014064          0.052813        0.079720             0.038803   \n",
              "min           0.052630          0.019380        0.000000             0.000000   \n",
              "25%           0.086370          0.064920        0.029560             0.020310   \n",
              "50%           0.095870          0.092630        0.061540             0.033500   \n",
              "75%           0.105300          0.130400        0.130700             0.074000   \n",
              "max           0.163400          0.345400        0.426800             0.201200   \n",
              "\n",
              "       mean symmetry  mean fractal dimension  ...  worst texture  \\\n",
              "count     569.000000              569.000000  ...     569.000000   \n",
              "mean        0.181162                0.062798  ...      25.677223   \n",
              "std         0.027414                0.007060  ...       6.146258   \n",
              "min         0.106000                0.049960  ...      12.020000   \n",
              "25%         0.161900                0.057700  ...      21.080000   \n",
              "50%         0.179200                0.061540  ...      25.410000   \n",
              "75%         0.195700                0.066120  ...      29.720000   \n",
              "max         0.304000                0.097440  ...      49.540000   \n",
              "\n",
              "       worst perimeter   worst area  worst smoothness  worst compactness  \\\n",
              "count       569.000000   569.000000        569.000000         569.000000   \n",
              "mean        107.261213   880.583128          0.132369           0.254265   \n",
              "std          33.602542   569.356993          0.022832           0.157336   \n",
              "min          50.410000   185.200000          0.071170           0.027290   \n",
              "25%          84.110000   515.300000          0.116600           0.147200   \n",
              "50%          97.660000   686.500000          0.131300           0.211900   \n",
              "75%         125.400000  1084.000000          0.146000           0.339100   \n",
              "max         251.200000  4254.000000          0.222600           1.058000   \n",
              "\n",
              "       worst concavity  worst concave points  worst symmetry  \\\n",
              "count       569.000000            569.000000      569.000000   \n",
              "mean          0.272188              0.114606        0.290076   \n",
              "std           0.208624              0.065732        0.061867   \n",
              "min           0.000000              0.000000        0.156500   \n",
              "25%           0.114500              0.064930        0.250400   \n",
              "50%           0.226700              0.099930        0.282200   \n",
              "75%           0.382900              0.161400        0.317900   \n",
              "max           1.252000              0.291000        0.663800   \n",
              "\n",
              "       worst fractal dimension      target  \n",
              "count               569.000000  569.000000  \n",
              "mean                  0.083946    0.627417  \n",
              "std                   0.018061    0.483918  \n",
              "min                   0.055040    0.000000  \n",
              "25%                   0.071460    0.000000  \n",
              "50%                   0.080040    1.000000  \n",
              "75%                   0.092080    1.000000  \n",
              "max                   0.207500    1.000000  \n",
              "\n",
              "[8 rows x 31 columns]"
            ]
          },
          "execution_count": 8,
          "metadata": {},
          "output_type": "execute_result"
        }
      ],
      "source": [
        "df.describe()"
      ]
    },
    {
      "cell_type": "code",
      "execution_count": null,
      "metadata": {
        "colab": {
          "base_uri": "https://localhost:8080/"
        },
        "id": "7tyNQ5cT6ZGI",
        "outputId": "1fe895b4-c5cf-4297-a0b5-d564cf10959f"
      },
      "outputs": [
        {
          "name": "stdout",
          "output_type": "stream",
          "text": [
            "Nombres de las clases: ['malignant' 'benign']\n"
          ]
        }
      ],
      "source": [
        "print(\"Nombres de las clases:\", cancer.target_names)"
      ]
    },
    {
      "cell_type": "code",
      "execution_count": null,
      "metadata": {
        "colab": {
          "base_uri": "https://localhost:8080/"
        },
        "id": "KUGf8-UuRv4K",
        "outputId": "000ce1a5-4ff3-43ec-d407-0a1bbb8fbe4d"
      },
      "outputs": [
        {
          "data": {
            "text/plain": [
              "Index(['mean radius', 'mean texture', 'mean perimeter', 'mean area',\n",
              "       'mean smoothness', 'mean compactness', 'mean concavity',\n",
              "       'mean concave points', 'mean symmetry', 'mean fractal dimension',\n",
              "       'radius error', 'texture error', 'perimeter error', 'area error',\n",
              "       'smoothness error', 'compactness error', 'concavity error',\n",
              "       'concave points error', 'symmetry error', 'fractal dimension error',\n",
              "       'worst radius', 'worst texture', 'worst perimeter', 'worst area',\n",
              "       'worst smoothness', 'worst compactness', 'worst concavity',\n",
              "       'worst concave points', 'worst symmetry', 'worst fractal dimension',\n",
              "       'target'],\n",
              "      dtype='object')"
            ]
          },
          "execution_count": 10,
          "metadata": {},
          "output_type": "execute_result"
        }
      ],
      "source": [
        "df.columns"
      ]
    },
    {
      "cell_type": "code",
      "execution_count": null,
      "metadata": {
        "colab": {
          "base_uri": "https://localhost:8080/"
        },
        "id": "RKsdGAU26vCq",
        "outputId": "95f88372-4827-4e76-d5c8-86f31f8f7e8f"
      },
      "outputs": [
        {
          "name": "stdout",
          "output_type": "stream",
          "text": [
            "Descripción del dataset:\n",
            " .. _breast_cancer_dataset:\n",
            "\n",
            "Breast cancer wisconsin (diagnostic) dataset\n",
            "--------------------------------------------\n",
            "\n",
            "**Data Set Characteristics:**\n",
            "\n",
            "    :Number of Instances: 569\n",
            "\n",
            "    :Number of Attributes: 30 numeric, predictive attributes and the class\n",
            "\n",
            "    :Attribute Information:\n",
            "        - radius (mean of distances from center to points on the perimeter)\n",
            "        - texture (standard deviation of gray-scale values)\n",
            "        - perimeter\n",
            "        - area\n",
            "        - smoothness (local variation in radius lengths)\n",
            "        - compactness (perimeter^2 / area - 1.0)\n",
            "        - concavity (severity of concave portions of the contour)\n",
            "        - concave points (number of concave portions of the contour)\n",
            "        - symmetry\n",
            "        - fractal dimension (\"coastline approximation\" - 1)\n",
            "\n",
            "        The mean, standard error, and \"worst\" or largest (mean of the three\n",
            "        worst/largest values) of these features were computed for each image,\n",
            "        resulting in 30 features.  For instance, field 0 is Mean Radius, field\n",
            "        10 is Radius SE, field 20 is Worst Radius.\n",
            "\n",
            "        - class:\n",
            "                - WDBC-Malignant\n",
            "                - WDBC-Benign\n",
            "\n",
            "    :Summary Statistics:\n",
            "\n",
            "    ===================================== ====== ======\n",
            "                                           Min    Max\n",
            "    ===================================== ====== ======\n",
            "    radius (mean):                        6.981  28.11\n",
            "    texture (mean):                       9.71   39.28\n",
            "    perimeter (mean):                     43.79  188.5\n",
            "    area (mean):                          143.5  2501.0\n",
            "    smoothness (mean):                    0.053  0.163\n",
            "    compactness (mean):                   0.019  0.345\n",
            "    concavity (mean):                     0.0    0.427\n",
            "    concave points (mean):                0.0    0.201\n",
            "    symmetry (mean):                      0.106  0.304\n",
            "    fractal dimension (mean):             0.05   0.097\n",
            "    radius (standard error):              0.112  2.873\n",
            "    texture (standard error):             0.36   4.885\n",
            "    perimeter (standard error):           0.757  21.98\n",
            "    area (standard error):                6.802  542.2\n",
            "    smoothness (standard error):          0.002  0.031\n",
            "    compactness (standard error):         0.002  0.135\n",
            "    concavity (standard error):           0.0    0.396\n",
            "    concave points (standard error):      0.0    0.053\n",
            "    symmetry (standard error):            0.008  0.079\n",
            "    fractal dimension (standard error):   0.001  0.03\n",
            "    radius (worst):                       7.93   36.04\n",
            "    texture (worst):                      12.02  49.54\n",
            "    perimeter (worst):                    50.41  251.2\n",
            "    area (worst):                         185.2  4254.0\n",
            "    smoothness (worst):                   0.071  0.223\n",
            "    compactness (worst):                  0.027  1.058\n",
            "    concavity (worst):                    0.0    1.252\n",
            "    concave points (worst):               0.0    0.291\n",
            "    symmetry (worst):                     0.156  0.664\n",
            "    fractal dimension (worst):            0.055  0.208\n",
            "    ===================================== ====== ======\n",
            "\n",
            "    :Missing Attribute Values: None\n",
            "\n",
            "    :Class Distribution: 212 - Malignant, 357 - Benign\n",
            "\n",
            "    :Creator:  Dr. William H. Wolberg, W. Nick Street, Olvi L. Mangasarian\n",
            "\n",
            "    :Donor: Nick Street\n",
            "\n",
            "    :Date: November, 1995\n",
            "\n",
            "This is a copy of UCI ML Breast Cancer Wisconsin (Diagnostic) datasets.\n",
            "https://goo.gl/U2Uwz2\n",
            "\n",
            "Features are computed from a digitized image of a fine needle\n",
            "aspirate (FNA) of a breast mass.  They describe\n",
            "characteristics of the cell nuclei present in the image.\n",
            "\n",
            "Separating plane described above was obtained using\n",
            "Multisurface Method-Tree (MSM-T) [K. P. Bennett, \"Decision Tree\n",
            "Construction Via Linear Programming.\" Proceedings of the 4th\n",
            "Midwest Artificial Intelligence and Cognitive Science Society,\n",
            "pp. 97-101, 1992], a classification method which uses linear\n",
            "programming to construct a decision tree.  Relevant features\n",
            "were selected using an exhaustive search in the space of 1-4\n",
            "features and 1-3 separating planes.\n",
            "\n",
            "The actual linear program used to obtain the separating plane\n",
            "in the 3-dimensional space is that described in:\n",
            "[K. P. Bennett and O. L. Mangasarian: \"Robust Linear\n",
            "Programming Discrimination of Two Linearly Inseparable Sets\",\n",
            "Optimization Methods and Software 1, 1992, 23-34].\n",
            "\n",
            "This database is also available through the UW CS ftp server:\n",
            "\n",
            "ftp ftp.cs.wisc.edu\n",
            "cd math-prog/cpo-dataset/machine-learn/WDBC/\n",
            "\n",
            ".. topic:: References\n",
            "\n",
            "   - W.N. Street, W.H. Wolberg and O.L. Mangasarian. Nuclear feature extraction \n",
            "     for breast tumor diagnosis. IS&T/SPIE 1993 International Symposium on \n",
            "     Electronic Imaging: Science and Technology, volume 1905, pages 861-870,\n",
            "     San Jose, CA, 1993.\n",
            "   - O.L. Mangasarian, W.N. Street and W.H. Wolberg. Breast cancer diagnosis and \n",
            "     prognosis via linear programming. Operations Research, 43(4), pages 570-577, \n",
            "     July-August 1995.\n",
            "   - W.H. Wolberg, W.N. Street, and O.L. Mangasarian. Machine learning techniques\n",
            "     to diagnose breast cancer from fine-needle aspirates. Cancer Letters 77 (1994) \n",
            "     163-171.\n"
          ]
        }
      ],
      "source": [
        "print(\"Descripción del dataset:\\n\", cancer.DESCR)"
      ]
    },
    {
      "cell_type": "code",
      "execution_count": null,
      "metadata": {
        "colab": {
          "base_uri": "https://localhost:8080/"
        },
        "id": "CmIGVLns64rh",
        "outputId": "2d33adba-ce20-4baa-c79c-8a4371fd5792"
      },
      "outputs": [
        {
          "name": "stdout",
          "output_type": "stream",
          "text": [
            "Distribución de las clases: {'malignant': 212, 'benign': 357}\n"
          ]
        }
      ],
      "source": [
        "# Distribución de las clases\n",
        "unique, counts = np.unique(cancer.target, return_counts=True)\n",
        "class_distribution = dict(zip(cancer.target_names, counts))\n",
        "print(\"Distribución de las clases:\", class_distribution)"
      ]
    },
    {
      "cell_type": "code",
      "execution_count": null,
      "metadata": {
        "colab": {
          "base_uri": "https://localhost:8080/",
          "height": 995
        },
        "id": "A8Qfxk3x9x_b",
        "outputId": "f637daae-5788-445c-b5dd-43bab262e52a"
      },
      "outputs": [
        {
          "data": {
            "image/png": "[encoded data removed]",
            "text/plain": [
              "<Figure size 1000x600 with 1 Axes>"
            ]
          },
          "metadata": {},
          "output_type": "display_data"
        },
        {
          "data": {
            "image/png": "[encoded data removed]",
            "text/plain": [
              "<Figure size 1000x600 with 2 Axes>"
            ]
          },
          "metadata": {},
          "output_type": "display_data"
        }
      ],
      "source": [
        "import matplotlib.pyplot as plt# Histograma de las características\n",
        "plt.figure(figsize=(10, 6))\n",
        "plt.hist(cancer.data, bins=30, alpha=0.5)\n",
        "plt.title(\"Histograma de Características\")\n",
        "plt.xlabel(\"Valor\")\n",
        "plt.xlim(0, 1000)\n",
        "plt.ylabel(\"Frecuencia\")\n",
        "plt.legend(cancer.feature_names)\n",
        "plt.show()\n",
        "\n",
        "# Diagrama de dispersión de las características\n",
        "plt.figure(figsize=(10, 6))\n",
        "plt.scatter(cancer.data[:, 0], cancer.data[:, 1], c=cancer.target, cmap='viridis', alpha=0.5)\n",
        "plt.title(\"Diagrama de Dispersión de Características\")\n",
        "plt.xlabel(cancer.feature_names[0])\n",
        "plt.ylabel(cancer.feature_names[1])\n",
        "plt.colorbar(label='Clase')\n",
        "plt.show()"
      ]
    },
    {
      "cell_type": "markdown",
      "metadata": {
        "id": "85x253BJShMG"
      },
      "source": [
        "#División Train,Test"
      ]
    },
    {
      "cell_type": "code",
      "execution_count": null,
      "metadata": {
        "id": "2qf8OAoq-qvU"
      },
      "outputs": [],
      "source": [
        "train, test = train_test_split(df,test_size=0.2)"
      ]
    },
    {
      "cell_type": "code",
      "execution_count": null,
      "metadata": {
        "id": "QVxhzirf-uwh"
      },
      "outputs": [],
      "source": [
        "test_target = test['target']\n",
        "test[['target']].to_csv('test-target.csv', index = False)\n",
        "del test['target']\n",
        "test.to_csv('test.csv', index=False)"
      ]
    },
    {
      "cell_type": "code",
      "execution_count": null,
      "metadata": {
        "id": "exmQD3hH-xUq"
      },
      "outputs": [],
      "source": [
        "features = [x for x in list(train.columns) if x != 'target']"
      ]
    },
    {
      "cell_type": "code",
      "execution_count": null,
      "metadata": {
        "id": "xSVKn-fM-1C6"
      },
      "outputs": [],
      "source": [
        "x_raw =train[features]\n",
        "y_raw = train['target']\n",
        "\n",
        "x_train,x_test,y_train,y_test = train_test_split(x_raw,y_raw, test_size=.20,random_state = 123,stratify=y_raw)"
      ]
    },
    {
      "cell_type": "markdown",
      "metadata": {
        "id": "-HWzx-JcSl5_"
      },
      "source": [
        "#Entrenamiento del modelo"
      ]
    },
    {
      "cell_type": "code",
      "execution_count": null,
      "metadata": {
        "id": "mxUGiKPfB8xF"
      },
      "outputs": [],
      "source": [
        "estimadores = 6\n",
        "clf = RandomForestClassifier(n_estimators=estimadores,\n",
        "                             min_samples_leaf=2,\n",
        "                             class_weight='balanced',\n",
        "                             random_state = 123)\n",
        "preprocess =  Pipeline(steps=[('scaler',StandardScaler())])\n",
        "\n",
        "model= Pipeline(steps= [('preprocess',preprocess),('RandomForestClassifier',clf)])"
      ]
    },
    {
      "cell_type": "code",
      "execution_count": null,
      "metadata": {
        "colab": {
          "base_uri": "https://localhost:8080/",
          "height": 150
        },
        "id": "RtqP-1h7B_xC",
        "outputId": "c358795f-4481-4fdd-d639-ec9c96735004"
      },
      "outputs": [
        {
          "data": {
            "text/html": [
              "<style>#sk-container-id-1 {color: black;background-color: white;}#sk-container-id-1 pre{padding: 0;}#sk-container-id-1 div.sk-toggleable {background-color: white;}#sk-container-id-1 label.sk-toggleable__label {cursor: pointer;display: block;width: 100%;margin-bottom: 0;padding: 0.3em;box-sizing: border-box;text-align: center;}#sk-container-id-1 label.sk-toggleable__label-arrow:before {content: \"▸\";float: left;margin-right: 0.25em;color: #696969;}#sk-container-id-1 label.sk-toggleable__label-arrow:hover:before {color: black;}#sk-container-id-1 div.sk-estimator:hover label.sk-toggleable__label-arrow:before {color: black;}#sk-container-id-1 div.sk-toggleable__content {max-height: 0;max-width: 0;overflow: hidden;text-align: left;background-color: #f0f8ff;}#sk-container-id-1 div.sk-toggleable__content pre {margin: 0.2em;color: black;border-radius: 0.25em;background-color: #f0f8ff;}#sk-container-id-1 input.sk-toggleable__control:checked~div.sk-toggleable__content {max-height: 200px;max-width: 100%;overflow: auto;}#sk-container-id-1 input.sk-toggleable__control:checked~label.sk-toggleable__label-arrow:before {content: \"▾\";}#sk-container-id-1 div.sk-estimator input.sk-toggleable__control:checked~label.sk-toggleable__label {background-color: #d4ebff;}#sk-container-id-1 div.sk-label input.sk-toggleable__control:checked~label.sk-toggleable__label {background-color: #d4ebff;}#sk-container-id-1 input.sk-hidden--visually {border: 0;clip: rect(1px 1px 1px 1px);clip: rect(1px, 1px, 1px, 1px);height: 1px;margin: -1px;overflow: hidden;padding: 0;position: absolute;width: 1px;}#sk-container-id-1 div.sk-estimator {font-family: monospace;background-color: #f0f8ff;border: 1px dotted black;border-radius: 0.25em;box-sizing: border-box;margin-bottom: 0.5em;}#sk-container-id-1 div.sk-estimator:hover {background-color: #d4ebff;}#sk-container-id-1 div.sk-parallel-item::after {content: \"\";width: 100%;border-bottom: 1px solid gray;flex-grow: 1;}#sk-container-id-1 div.sk-label:hover label.sk-toggleable__label {background-color: #d4ebff;}#sk-container-id-1 div.sk-serial::before {content: \"\";position: absolute;border-left: 1px solid gray;box-sizing: border-box;top: 0;bottom: 0;left: 50%;z-index: 0;}#sk-container-id-1 div.sk-serial {display: flex;flex-direction: column;align-items: center;background-color: white;padding-right: 0.2em;padding-left: 0.2em;position: relative;}#sk-container-id-1 div.sk-item {position: relative;z-index: 1;}#sk-container-id-1 div.sk-parallel {display: flex;align-items: stretch;justify-content: center;background-color: white;position: relative;}#sk-container-id-1 div.sk-item::before, #sk-container-id-1 div.sk-parallel-item::before {content: \"\";position: absolute;border-left: 1px solid gray;box-sizing: border-box;top: 0;bottom: 0;left: 50%;z-index: -1;}#sk-container-id-1 div.sk-parallel-item {display: flex;flex-direction: column;z-index: 1;position: relative;background-color: white;}#sk-container-id-1 div.sk-parallel-item:first-child::after {align-self: flex-end;width: 50%;}#sk-container-id-1 div.sk-parallel-item:last-child::after {align-self: flex-start;width: 50%;}#sk-container-id-1 div.sk-parallel-item:only-child::after {width: 0;}#sk-container-id-1 div.sk-dashed-wrapped {border: 1px dashed gray;margin: 0 0.4em 0.5em 0.4em;box-sizing: border-box;padding-bottom: 0.4em;background-color: white;}#sk-container-id-1 div.sk-label label {font-family: monospace;font-weight: bold;display: inline-block;line-height: 1.2em;}#sk-container-id-1 div.sk-label-container {text-align: center;}#sk-container-id-1 div.sk-container {/* jupyter's `normalize.less` sets `[hidden] { display: none; }` but bootstrap.min.css set `[hidden] { display: none !important; }` so we also need the `!important` here to be able to override the default hidden behavior on the sphinx rendered scikit-learn.org. See: https://github.com/scikit-learn/scikit-learn/issues/21755 */display: inline-block !important;position: relative;}#sk-container-id-1 div.sk-text-repr-fallback {display: none;}</style><div id=\"sk-container-id-1\" class=\"sk-top-container\"><div class=\"sk-text-repr-fallback\"><pre>Pipeline(steps=[(&#x27;preprocess&#x27;, Pipeline(steps=[(&#x27;scaler&#x27;, StandardScaler())])),\n",
              "                (&#x27;RandomForestClassifier&#x27;,\n",
              "                 RandomForestClassifier(class_weight=&#x27;balanced&#x27;,\n",
              "                                        min_samples_leaf=2, n_estimators=6,\n",
              "                                        random_state=123))])</pre><b>In a Jupyter environment, please rerun this cell to show the HTML representation or trust the notebook. <br />On GitHub, the HTML representation is unable to render, please try loading this page with nbviewer.org.</b></div><div class=\"sk-container\" hidden><div class=\"sk-item sk-dashed-wrapped\"><div class=\"sk-label-container\"><div class=\"sk-label sk-toggleable\"><input class=\"sk-toggleable__control sk-hidden--visually\" id=\"sk-estimator-id-1\" type=\"checkbox\" ><label for=\"sk-estimator-id-1\" class=\"sk-toggleable__label sk-toggleable__label-arrow\">Pipeline</label><div class=\"sk-toggleable__content\"><pre>Pipeline(steps=[(&#x27;preprocess&#x27;, Pipeline(steps=[(&#x27;scaler&#x27;, StandardScaler())])),\n",
              "                (&#x27;RandomForestClassifier&#x27;,\n",
              "                 RandomForestClassifier(class_weight=&#x27;balanced&#x27;,\n",
              "                                        min_samples_leaf=2, n_estimators=6,\n",
              "                                        random_state=123))])</pre></div></div></div><div class=\"sk-serial\"><div class=\"sk-item\"><div class=\"sk-label-container\"><div class=\"sk-label sk-toggleable\"><input class=\"sk-toggleable__control sk-hidden--visually\" id=\"sk-estimator-id-2\" type=\"checkbox\" ><label for=\"sk-estimator-id-2\" class=\"sk-toggleable__label sk-toggleable__label-arrow\">preprocess: Pipeline</label><div class=\"sk-toggleable__content\"><pre>Pipeline(steps=[(&#x27;scaler&#x27;, StandardScaler())])</pre></div></div></div><div class=\"sk-serial\"><div class=\"sk-item\"><div class=\"sk-estimator sk-toggleable\"><input class=\"sk-toggleable__control sk-hidden--visually\" id=\"sk-estimator-id-3\" type=\"checkbox\" ><label for=\"sk-estimator-id-3\" class=\"sk-toggleable__label sk-toggleable__label-arrow\">StandardScaler</label><div class=\"sk-toggleable__content\"><pre>StandardScaler()</pre></div></div></div></div></div><div class=\"sk-item\"><div class=\"sk-estimator sk-toggleable\"><input class=\"sk-toggleable__control sk-hidden--visually\" id=\"sk-estimator-id-4\" type=\"checkbox\" ><label for=\"sk-estimator-id-4\" class=\"sk-toggleable__label sk-toggleable__label-arrow\">RandomForestClassifier</label><div class=\"sk-toggleable__content\"><pre>RandomForestClassifier(class_weight=&#x27;balanced&#x27;, min_samples_leaf=2,\n",
              "                       n_estimators=6, random_state=123)</pre></div></div></div></div></div></div></div>"
            ],
            "text/plain": [
              "Pipeline(steps=[('preprocess', Pipeline(steps=[('scaler', StandardScaler())])),\n",
              "                ('RandomForestClassifier',\n",
              "                 RandomForestClassifier(class_weight='balanced',\n",
              "                                        min_samples_leaf=2, n_estimators=6,\n",
              "                                        random_state=123))])"
            ]
          },
          "execution_count": 19,
          "metadata": {},
          "output_type": "execute_result"
        }
      ],
      "source": [
        "model.fit(x_train,y_train)"
      ]
    },
    {
      "cell_type": "markdown",
      "metadata": {
        "id": "D5zqxBoTSxB-"
      },
      "source": [
        "#Revisión de Métricas"
      ]
    },
    {
      "cell_type": "code",
      "execution_count": null,
      "metadata": {
        "colab": {
          "base_uri": "https://localhost:8080/"
        },
        "id": "GBO9TGEECASb",
        "outputId": "dc1e06d1-fd39-4fc5-d75e-84d242c2497b"
      },
      "outputs": [
        {
          "name": "stdout",
          "output_type": "stream",
          "text": [
            "Accuracy Train: 0.989010989010989\n",
            "Score del Modelo: 0.978021978021978\n"
          ]
        }
      ],
      "source": [
        "# Accuracy\n",
        "accuracy_train = model.score(x_train,y_train)\n",
        "print(\"Accuracy Train:\", accuracy_train)\n",
        "#score\n",
        "score = model.score(x_test,y_test)\n",
        "print(\"Score del Modelo:\", score)\n"
      ]
    },
    {
      "cell_type": "markdown",
      "metadata": {
        "id": "9AF1FfuCS7SI"
      },
      "source": [
        "#MLFlow"
      ]
    },
    {
      "cell_type": "code",
      "execution_count": null,
      "metadata": {
        "colab": {
          "base_uri": "https://localhost:8080/"
        },
        "id": "ALdkzETqEvCj",
        "outputId": "061c87c5-0ac8-4bd2-af56-988dde5fc927"
      },
      "outputs": [
        {
          "name": "stdout",
          "output_type": "stream",
          "text": [
            "Collecting pyngrok\n",
            "  Downloading pyngrok-7.1.6-py3-none-any.whl (22 kB)\n",
            "Requirement already satisfied: PyYAML>=5.1 in /usr/local/lib/python3.10/dist-packages (from pyngrok) (6.0.1)\n",
            "Installing collected packages: pyngrok\n",
            "Successfully installed pyngrok-7.1.6\n"
          ]
        }
      ],
      "source": [
        "!pip install pyngrok"
      ]
    },
    {
      "cell_type": "code",
      "execution_count": null,
      "metadata": {
        "colab": {
          "base_uri": "https://localhost:8080/"
        },
        "id": "JvN3S13tE2sr",
        "outputId": "a36ac9e7-a4f4-4fe5-b6b6-18210f644b92"
      },
      "outputs": [
        {
          "name": "stderr",
          "output_type": "stream",
          "text": [
            "2024/04/06 09:02:09 INFO mlflow.tracking.fluent: Experiment with name 'Practica_IA' does not exist. Creating a new experiment.\n"
          ]
        },
        {
          "name": "stdout",
          "output_type": "stream",
          "text": [
            "El tracking UI: https://5712-34-72-95-219.ngrok-free.app\n"
          ]
        }
      ],
      "source": [
        "mlflow.set_experiment('Practica_IA')\n",
        "with mlflow.start_run(run_name='Despliegue IA'):\n",
        "  mlflow.log_param('n_estimators',estimadores)\n",
        "  mlflow.log_metric('accuracy',accuracy_train)\n",
        "  mlflow.log_metric('score', score)\n",
        "\n",
        "get_ipython().system_raw('mlflow ui --port 5000 &')\n",
        "\n",
        "from pyngrok import ngrok\n",
        "\n",
        "ngrok.kill()\n",
        "NGROK_AUTH_TOKEN ='2ds49GDIE3qXW787sE74612hIsq_3RA4xRbvgzEbK9aRiZSGC'\n",
        "ngrok.set_auth_token(NGROK_AUTH_TOKEN)\n",
        "\n",
        "ngrok_tunnel = ngrok.connect(addr='5000',proto='http',bind_tls=True)\n",
        "print('El tracking UI:',ngrok_tunnel.public_url)"
      ]
    },
    {
      "cell_type": "markdown",
      "metadata": {
        "id": "vFq0HDS8o3vk"
      },
      "source": [
        "\n",
        "![image.png](data:image/png;base64,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)"
      ]
    },
    {
      "cell_type": "code",
      "execution_count": null,
      "metadata": {
        "id": "t50TV4tKLzen"
      },
      "outputs": [],
      "source": [
        "from mlflow.tracking import MlflowClient\n",
        "client = MlflowClient()"
      ]
    },
    {
      "cell_type": "code",
      "execution_count": null,
      "metadata": {
        "id": "Hh5jfLGUL24e"
      },
      "outputs": [],
      "source": [
        "model_name ='clf_model'"
      ]
    },
    {
      "cell_type": "code",
      "execution_count": null,
      "metadata": {
        "colab": {
          "base_uri": "https://localhost:8080/"
        },
        "id": "F_AJMVGdL40V",
        "outputId": "737bd176-dd4d-4edc-e306-3538e5731a8d"
      },
      "outputs": [
        {
          "name": "stderr",
          "output_type": "stream",
          "text": [
            "Successfully registered model 'clf_model'.\n",
            "Created version '1' of model 'clf_model'.\n"
          ]
        }
      ],
      "source": [
        "with mlflow.start_run() as run:\n",
        "  run_num = run.info.run_id\n",
        "  model_uri = 'runs:/{run_id}/artifact_path'.format(run_id=run_num,artifact_path= model_name)\n",
        "  mlflow.log_metric('accuracy',accuracy_train)\n",
        "  mlflow.log_metric('score', score)\n",
        "  #mlflow.sklearn.log_model(model,model_name)\n",
        "\n",
        "  model_details = mlflow.register_model(\n",
        "      model_uri=model_uri,\n",
        "      name = model_name\n",
        "  )\n"
      ]
    },
    {
      "cell_type": "code",
      "execution_count": null,
      "metadata": {
        "id": "aSHISlSpbbTp"
      },
      "outputs": [],
      "source": [
        "model_version_infos = client.search_model_versions(\"name = '%s'\" % model_name)"
      ]
    },
    {
      "cell_type": "code",
      "execution_count": null,
      "metadata": {
        "id": "AkHKspNFbddh"
      },
      "outputs": [],
      "source": [
        "new_model_version =max([model_version_info.version for model_version_info in  model_version_infos])"
      ]
    },
    {
      "cell_type": "code",
      "execution_count": null,
      "metadata": {
        "id": "Sfi71JH5fbHK"
      },
      "outputs": [],
      "source": [
        "from mlflow.entities.model_registry.model_version_status import ModelVersionStatus\n",
        "\n",
        "def wait_model_transition(model_name, model_version, stage):\n",
        "  client = MlflowClient()\n",
        "  for _ in range(10):\n",
        "    model_version_details = client.get_model_version(\n",
        "      name=model_name,\n",
        "      version=model_version,\n",
        "    )\n",
        "    status = ModelVersionStatus.from_string(model_version_details.status)\n",
        "    print(\"Model status: %s\" % ModelVersionStatus.to_string(status))\n",
        "    if status == ModelVersionStatus.READY:\n",
        "      client.transition_model_version_stage(\n",
        "          name=model_name,\n",
        "          version=model_version,\n",
        "          stage=stage,\n",
        "        )\n",
        "      break\n",
        "    time.sleep(1)"
      ]
    },
    {
      "cell_type": "code",
      "execution_count": null,
      "metadata": {
        "colab": {
          "base_uri": "https://localhost:8080/"
        },
        "id": "BRO7HrMwfdVi",
        "outputId": "54ba278b-6a38-489f-c123-61b65286f3c0"
      },
      "outputs": [
        {
          "name": "stdout",
          "output_type": "stream",
          "text": [
            "Model status: READY\n"
          ]
        },
        {
          "name": "stderr",
          "output_type": "stream",
          "text": [
            "<ipython-input-28-00287e974e80>:13: FutureWarning: ``mlflow.tracking.client.MlflowClient.transition_model_version_stage`` is deprecated since 2.9.0. Model registry stages will be removed in a future major release. To learn more about the deprecation of model registry stages, see our migration guide here: https://mlflow.org/docs/2.11.3/model-registry.html#migrating-from-stages\n",
            "  client.transition_model_version_stage(\n"
          ]
        }
      ],
      "source": [
        "try:\n",
        "  wait_model_transition(model_name, int(new_model_version)-1, \"None\")\n",
        "except:\n",
        "  pass\n",
        "\n",
        "wait_model_transition(model_name, new_model_version, \"Staging\")"
      ]
    },
    {
      "cell_type": "code",
      "execution_count": null,
      "metadata": {
        "colab": {
          "base_uri": "https://localhost:8080/"
        },
        "id": "6ND_ba2BbgtE",
        "outputId": "3a0d8943-5035-4666-f8fc-c5c74fcb75c0"
      },
      "outputs": [
        {
          "data": {
            "text/plain": [
              "1"
            ]
          },
          "execution_count": 30,
          "metadata": {},
          "output_type": "execute_result"
        }
      ],
      "source": [
        "new_model_version"
      ]
    },
    {
      "cell_type": "code",
      "execution_count": null,
      "metadata": {
        "colab": {
          "base_uri": "https://localhost:8080/"
        },
        "id": "hfxjs0ZWfjJr",
        "outputId": "28e4b932-5373-4b0d-cfc4-7e8c34997fe1"
      },
      "outputs": [
        {
          "data": {
            "text/plain": [
              "<ModelVersion: aliases=[], creation_timestamp=1712394130974, current_stage='Staging', description='Modelo random fores para el dataset de cancer de sklearn.', last_updated_timestamp=1712394131081, name='clf_model', run_id='c722d5db75944096a456fc8601669495', run_link=None, source='file:///content/mlruns/326471840578824123/c722d5db75944096a456fc8601669495/artifacts/artifact_path', status='READY', status_message=None, tags={}, user_id=None, version=1>"
            ]
          },
          "execution_count": 31,
          "metadata": {},
          "output_type": "execute_result"
        }
      ],
      "source": [
        "client.update_model_version(\n",
        "  name=model_name,\n",
        "  version=new_model_version,\n",
        "  description=\"Modelo random fores para el dataset de cancer de sklearn.\"\n",
        ")"
      ]
    },
    {
      "cell_type": "markdown",
      "metadata": {
        "id": "k-YkfAJl4jgn"
      },
      "source": [
        "#Este sería el script completo:"
      ]
    },
    {
      "cell_type": "code",
      "execution_count": null,
      "metadata": {
        "id": "i5twfcZLjhQ1"
      },
      "outputs": [],
      "source": [
        "'''\n",
        "import pandas as pd\n",
        "import numpy as np\n",
        "import mlflow\n",
        "import mlflow.sklearn\n",
        "import subprocess\n",
        "import time\n",
        "\n",
        "from sklearn.model_selection import train_test_split\n",
        "from sklearn.ensemble import RandomForestClassifier\n",
        "from sklearn.pipeline import Pipeline\n",
        "from sklearn.preprocessing import StandardScaler\n",
        "from mlflow.tracking import MlflowClient\n",
        "from sklearn.metrics import accuracy_score\n",
        "from sklearn.datasets import load_breast_cancer\n",
        "\n",
        "# Load breast cancer dataset\n",
        "cancer = load_breast_cancer()\n",
        "df = pd.DataFrame(cancer['data'], columns=cancer['feature_names'])\n",
        "df['target'] = cancer['target']\n",
        "\n",
        "# Split data into train and test sets\n",
        "train, test = train_test_split(df, test_size=0.2)\n",
        "test_target = test['target']\n",
        "test[['target']].to_csv('test-target.csv', index=False)\n",
        "del test['target']\n",
        "test.to_csv('test.csv', index=False)\n",
        "\n",
        "features = [x for x in list(train.columns) if x != 'target']\n",
        "x_raw = train[features]\n",
        "y_raw = train['target']\n",
        "x_train, x_test, y_train, y_test = train_test_split(x_raw, y_raw,\n",
        "                                                    test_size=.20,\n",
        "                                                    random_state=123,\n",
        "                                                    stratify=y_raw)\n",
        "\n",
        "n_stimators = [2, 10, 20, 30, 50, 80, 130]\n",
        "\n",
        "# Launch MLflow UI asynchronously\n",
        "mlflow_ui_process = subprocess.Popen([\"mlflow\", \"ui\", \"--port\", \"5000\"])\n",
        "\n",
        "# Delay to allow MLflow UI to start\n",
        "time.sleep(5)\n",
        "mlflow.set_experiment('Practica_IA')\n",
        "for i in n_stimators:\n",
        "    with mlflow.start_run() as run:\n",
        "        print(f\"Running for n_estimators = {i}\")\n",
        "        clf = RandomForestClassifier(n_estimators=i,\n",
        "                                     min_samples_leaf=2,\n",
        "                                     class_weight='balanced',\n",
        "                                     random_state=123)\n",
        "        preprocessor = Pipeline(steps=[('scaler', StandardScaler())])\n",
        "        model = Pipeline(steps=[('preprocessor', preprocessor),\n",
        "                                ('randomforestclassifier', clf)])\n",
        "        model.fit(x_train, y_train)\n",
        "        accuracy = model.score(x_train, y_train)\n",
        "        score = model.score(x_test, y_test)\n",
        "\n",
        "        # Log metrics and parameters for each run\n",
        "        mlflow.log_metric('accuracy', accuracy)\n",
        "        mlflow.log_metric('score', score)\n",
        "        mlflow.log_param(\"n_estimators\", i)'''\n"
      ]
    },
    {
      "cell_type": "markdown",
      "metadata": {
        "id": "Cj8bcxFX85UO"
      },
      "source": [
        "# Práctica Final: detección de mensajes troll\n",
        "\n",
        "\n",
        "\n",
        "En los últimos años Twitch se ha consolidad como uno de los principales medios de comunicación especialmente para las generaciones más jóvenes.\n",
        "\n",
        "Al tratarse de una plataforma participativa en la que los usuarios pueden poner comentarios durante y posteriormente a las emisiones. Entre estos comentarios han aparecido como siempre comentarios ofensisvos.\n",
        "\n",
        "En esta práctica construiremos una Inteligencia Artificial capaz de clasificar esos mensajes troll.\n",
        "\n",
        "Durante la práctica entrenaremos el modelo de Deep Learning y lo desplegaremos para inferencia en batch, la más habitual actualmente dentro de la industria:"
      ]
    },
    {
      "cell_type": "markdown",
      "metadata": {
        "id": "AI5vlvwU9FAv"
      },
      "source": [
        "## Teoría\n",
        "\n",
        "**1. ¿Qué es Apache Beam?**\n",
        "\n",
        "Apache Beam es un framework de trabajo que permite definir pipelines de procesado de datos enfocadas a la paralelización de procesos.\n",
        "\n",
        "Beam es una abstracción por lo que los detalles de implementación son gestionados por los motores de ejecución (Flink, DataFlow...)\n",
        "\n",
        "Es un framework compatible con distintos lenguajes de programación como Java, Python o Go.\n",
        "\n",
        "**2. ¿Cuáles son las diferentes formas de desplegar un modelo?**\n",
        "\n",
        "Distinguimos cuatro opciones:\n",
        "\n",
        "* Despligue en Batch. Desplegamos el modelo para hacer predicciones de grandes cantidades de datos en un momento puntual.\n",
        "\n",
        "* Despligue online. Permite la disponibilización del modelo a demanda por el ususario de manera que se pueden realizar predicciones mediante llamdas a APIs.\n",
        "\n",
        "* Despliegue en streaming Despligue pensando en la recepción continua de datos de manera que nuestro servidor es capaz de procesar un flujo continuo e ininterrumpido de datos en tiempo real.\n",
        "\n",
        "* ML Automatizado. Es el estado más avanzado en el desarrollo de MLOPS en el que el modelo es monitoeado y reentrenado de manera automática.\n",
        "\n",
        "**3. ¿Cuál es la principal diferencia entre la inferencia en batch y la inferencia en streaming?**\n",
        "\n",
        "La inferencia en batch procesa grandes cantidades de datos en momentos puntuales y normalmente programados de antemano frente al procesamiento en streming cuya infrastructura está diseñada para estar constantemente en funcionamiento emitiendo predicciones de manera continua y en tiempo real (o casi).\n",
        "\n"
      ]
    },
    {
      "cell_type": "markdown",
      "metadata": {
        "id": "hgE9XB8ACVmQ"
      },
      "source": [
        "# Configuración de nuestro proyecto en GCP\n"
      ]
    },
    {
      "cell_type": "code",
      "execution_count": null,
      "metadata": {
        "colab": {
          "base_uri": "https://localhost:8080/"
        },
        "id": "zAorVw7RCT9C",
        "outputId": "f18dea5a-a09b-4d21-9855-01b4ce8f3f52"
      },
      "outputs": [
        {
          "output_type": "stream",
          "name": "stdout",
          "text": [
            "Updated property [core/project].\n"
          ]
        }
      ],
      "source": [
        "PROJECT_ID = \"bold-ethos-417621\" #@param {type:\"string\"}\n",
        "! gcloud config set project $PROJECT_ID"
      ]
    },
    {
      "cell_type": "code",
      "execution_count": null,
      "metadata": {
        "id": "hbAl8pSkCXCm"
      },
      "outputs": [],
      "source": [
        "import sys\n",
        "\n",
        "# If you are running this notebook in Colab, run this cell and follow the\n",
        "# instructions to authenticate your GCP account. This provides access to your\n",
        "# Cloud Storage bucket and lets you submit training jobs and prediction\n",
        "# requests.\n",
        "\n",
        "if 'google.colab' in sys.modules:\n",
        "  from google.colab import auth as google_auth\n",
        "  google_auth.authenticate_user()\n",
        "\n",
        "# If you are running this notebook locally, replace the string below with the\n",
        "# path to your service account key and run this cell to authenticate your GCP\n",
        "# account.\n",
        "else:\n",
        "  %env GOOGLE_APPLICATION_CREDENTIALS ''\n"
      ]
    },
    {
      "cell_type": "markdown",
      "metadata": {
        "id": "p5Xoej7vH0X-"
      },
      "source": [
        "Creamos el bucket mediante la consola y una vez creado lo indicamos en la variable:"
      ]
    },
    {
      "cell_type": "code",
      "execution_count": null,
      "metadata": {
        "id": "n6Zpx14FCfXy"
      },
      "outputs": [],
      "source": [
        "BUCKET_NAME = \"practica-imple-algos\" #@param {type:\"string\"}\n",
        "REGION = \"europe-west1\" #@param {type:\"string\"}"
      ]
    },
    {
      "cell_type": "code",
      "execution_count": null,
      "metadata": {
        "id": "-0CBMoWtNAQS"
      },
      "outputs": [],
      "source": [
        "#! gsutil mb -l $REGION gs://$BUCKET_NAME"
      ]
    },
    {
      "cell_type": "code",
      "execution_count": null,
      "metadata": {
        "colab": {
          "base_uri": "https://localhost:8080/"
        },
        "id": "lE4V-Xt0ChSb",
        "outputId": "c19cd2ce-ba71-48aa-8f72-04c4271780fb"
      },
      "outputs": [
        {
          "output_type": "stream",
          "name": "stdout",
          "text": [
            "   2756023  2024-04-05T18:52:50Z  gs://practica-imple-algos/Dataset for Detection of Cyber-Trolls.json#1712343170452301  metageneration=1\n",
            "TOTAL: 1 objects, 2756023 bytes (2.63 MiB)\n"
          ]
        }
      ],
      "source": [
        "! gsutil ls -al gs://$BUCKET_NAME"
      ]
    },
    {
      "cell_type": "markdown",
      "metadata": {
        "id": "3D8Qw14y_nRa"
      },
      "source": [
        "# Entrenamiento e inferencia en Batch\n",
        "\n",
        "## Preparación\n",
        "\n",
        "Para esta primera parte se va a utilizar [Tweets Dataset for Detection of Cyber-Trolls](https://www.kaggle.com/dataturks/dataset-for-detection-of-cybertrolls). El objetivo es desarrollar un clasificador binario para detectar si el mensaje recibido es troll (1) o no (0). **Las métricas obtenidas del entrenamiento y la inferencia no se tendrán en cuenta para la evaluación de la práctica, la importancia está en la arquitectura de la solución**, es decir, lo importante no es que nuestro modelo detecte correctamente los tweets de trolls si no que funcione y sea capaz de hacer inferencias.\n"
      ]
    },
    {
      "cell_type": "markdown",
      "metadata": {
        "id": "qM_dh-471gIq"
      },
      "source": [
        "A continuación, se van a subir los datos de entrenamiento al bucket del proyecto que se haya creado. **Importante:** crea el bucket en una única región. Os dejo disponibilizado el dataset en un bucket de acceso público:"
      ]
    },
    {
      "cell_type": "code",
      "execution_count": null,
      "metadata": {
        "colab": {
          "base_uri": "https://localhost:8080/"
        },
        "id": "Sqp4L_nmUjAc",
        "outputId": "3a829e98-4224-4ccd-c4fa-b6a738f38511"
      },
      "outputs": [
        {
          "output_type": "stream",
          "name": "stdout",
          "text": [
            "Requirement already satisfied: gdown in /usr/local/lib/python3.10/dist-packages (4.7.3)\n",
            "Requirement already satisfied: filelock in /usr/local/lib/python3.10/dist-packages (from gdown) (3.13.3)\n",
            "Requirement already satisfied: requests[socks] in /usr/local/lib/python3.10/dist-packages (from gdown) (2.31.0)\n",
            "Requirement already satisfied: six in /usr/local/lib/python3.10/dist-packages (from gdown) (1.16.0)\n",
            "Requirement already satisfied: tqdm in /usr/local/lib/python3.10/dist-packages (from gdown) (4.66.2)\n",
            "Requirement already satisfied: beautifulsoup4 in /usr/local/lib/python3.10/dist-packages (from gdown) (4.12.3)\n",
            "Requirement already satisfied: soupsieve>1.2 in /usr/local/lib/python3.10/dist-packages (from beautifulsoup4->gdown) (2.5)\n",
            "Requirement already satisfied: charset-normalizer<4,>=2 in /usr/local/lib/python3.10/dist-packages (from requests[socks]->gdown) (3.3.2)\n",
            "Requirement already satisfied: idna<4,>=2.5 in /usr/local/lib/python3.10/dist-packages (from requests[socks]->gdown) (3.6)\n",
            "Requirement already satisfied: urllib3<3,>=1.21.1 in /usr/local/lib/python3.10/dist-packages (from requests[socks]->gdown) (2.0.7)\n",
            "Requirement already satisfied: certifi>=2017.4.17 in /usr/local/lib/python3.10/dist-packages (from requests[socks]->gdown) (2024.2.2)\n",
            "Requirement already satisfied: PySocks!=1.5.7,>=1.5.6 in /usr/local/lib/python3.10/dist-packages (from requests[socks]->gdown) (1.7.1)\n",
            "Downloading...\n",
            "From: https://drive.google.com/uc?id=1dTaKofC9ZcMWa5cVtGLDFkEnbc4hiPJr\n",
            "To: /content/twitter-cyber-trolls/dataset-cybertrolls.json\n",
            "100% 2.76M/2.76M [00:00<00:00, 172MB/s]\n"
          ]
        }
      ],
      "source": [
        "%pip install gdown\n",
        "! gdown \"1dTaKofC9ZcMWa5cVtGLDFkEnbc4hiPJr\""
      ]
    },
    {
      "cell_type": "markdown",
      "metadata": {
        "id": "vCQQ9j2I11tg"
      },
      "source": [
        "Ahora se crea el directorio dónde vas a desarrollar esta primera parte de la práctica."
      ]
    },
    {
      "cell_type": "code",
      "execution_count": null,
      "metadata": {
        "id": "PsblBlJ6RrGm"
      },
      "outputs": [],
      "source": [
        "directorio = '/content/twitter-cyber-trolls'\n",
        "os.makedirs(directorio, exist_ok=True)\n"
      ]
    },
    {
      "cell_type": "code",
      "execution_count": null,
      "metadata": {
        "id": "a2t7Vz0sXcPP"
      },
      "outputs": [],
      "source": [
        "WORK_DIR = 'gs://' + 'practica-imple-algos' + '/twitter-cyber-trolls'"
      ]
    },
    {
      "cell_type": "markdown",
      "metadata": {
        "id": "zYAt1ePNm_gb"
      },
      "source": []
    },
    {
      "cell_type": "markdown",
      "metadata": {
        "id": "nyK51quU1_oi"
      },
      "source": [
        "Se establece el directorio de trabajo que hemos creado."
      ]
    },
    {
      "cell_type": "code",
      "source": [
        "import os\n",
        "current_directory = os.getcwd()\n",
        "print(\"El directorio actual es:\", current_directory)"
      ],
      "metadata": {
        "colab": {
          "base_uri": "https://localhost:8080/"
        },
        "id": "Y2FqhOuvBYFX",
        "outputId": "dc019f7e-362e-4e66-cf1d-1060a869791b"
      },
      "execution_count": null,
      "outputs": [
        {
          "output_type": "stream",
          "name": "stdout",
          "text": [
            "El directorio actual es: /content/twitter-cyber-trolls\n"
          ]
        }
      ]
    },
    {
      "cell_type": "code",
      "execution_count": null,
      "metadata": {
        "colab": {
          "base_uri": "https://localhost:8080/"
        },
        "id": "s7ybSaotRwkP",
        "outputId": "07977280-5a4d-427a-c491-a25c382f086b"
      },
      "outputs": [
        {
          "output_type": "stream",
          "name": "stdout",
          "text": [
            "[Errno 2] No such file or directory: 'twitter-cyber-trolls'\n",
            "/content/twitter-cyber-trolls\n"
          ]
        }
      ],
      "source": [
        "%cd twitter-cyber-trolls"
      ]
    },
    {
      "cell_type": "code",
      "execution_count": null,
      "metadata": {
        "colab": {
          "base_uri": "https://localhost:8080/"
        },
        "id": "GkGk2ujpgjgG",
        "outputId": "a288b158-9ad9-4179-b32f-d5bc7e1d3376"
      },
      "outputs": [
        {
          "output_type": "stream",
          "name": "stdout",
          "text": [
            "dataset-cybertrolls.json  requirements.txt\n"
          ]
        }
      ],
      "source": [
        "!ls\n"
      ]
    },
    {
      "cell_type": "code",
      "execution_count": null,
      "metadata": {
        "colab": {
          "base_uri": "https://localhost:8080/"
        },
        "id": "1LptXA6sYGWw",
        "outputId": "38abdf56-1655-41c7-8f54-bcda224fffff"
      },
      "outputs": [
        {
          "output_type": "stream",
          "name": "stdout",
          "text": [
            "Updated property [core/project].\n",
            "Project: bold-ethos-417621\n",
            "Region: europe-west1\n",
            "Bucket: practica-imple-algos\n"
          ]
        }
      ],
      "source": [
        "PROJECT_ID = \"bold-ethos-417621\" #@param {type:\"string\"}\n",
        "! gcloud config set project $PROJECT_ID\n",
        "BUCKET_NAME = \"practica-imple-algos\" #@param {type:\"string\"}\n",
        "REGION = \"europe-west1\" #@param {type:\"string\"}\n",
        "\n",
        "print(f\"Project: {PROJECT_ID}\")\n",
        "print(f\"Region: {REGION}\")\n",
        "print(f\"Bucket: {BUCKET_NAME}\")"
      ]
    },
    {
      "cell_type": "markdown",
      "metadata": {
        "id": "4NSd4bAo2aj_"
      },
      "source": [
        "Ahora se descargarán los datos en el workspace de Colab para trabajar en local."
      ]
    },
    {
      "cell_type": "code",
      "execution_count": null,
      "metadata": {
        "colab": {
          "base_uri": "https://localhost:8080/"
        },
        "id": "qOmUJSg1JCgg",
        "outputId": "b7f52697-a4a8-4edf-fb1d-881dd34718d6"
      },
      "outputs": [
        {
          "output_type": "stream",
          "name": "stdout",
          "text": [
            "Drive already mounted at /content/drive; to attempt to forcibly remount, call drive.mount(\"/content/drive\", force_remount=True).\n"
          ]
        }
      ],
      "source": [
        "from google.colab import drive\n",
        "drive.mount('/content/drive')"
      ]
    },
    {
      "cell_type": "markdown",
      "metadata": {
        "id": "eRoW6zyg2kEz"
      },
      "source": [
        "Se establecen las dependencias que se usarán en la práctica. Se pueden añadir y quitar las dependencias que no se usen o viceversa."
      ]
    },
    {
      "cell_type": "code",
      "execution_count": null,
      "metadata": {
        "colab": {
          "base_uri": "https://localhost:8080/"
        },
        "id": "9s0-8_JK_z2D",
        "outputId": "f1940f66-7b5a-4209-f95b-d50e35c6e6f5"
      },
      "outputs": [
        {
          "output_type": "stream",
          "name": "stdout",
          "text": [
            "Overwriting requirements.txt\n"
          ]
        }
      ],
      "source": [
        "%%writefile requirements.txt\n",
        "\n",
        "apache-beam[gcp]\n",
        "tensorflow\n",
        "gensim==3.6.0\n",
        "fsspec==0.8.4\n",
        "gcsfs==0.7.1\n",
        "numpy==1.20.0"
      ]
    },
    {
      "cell_type": "markdown",
      "metadata": {
        "id": "yIl8lrPp2x2j"
      },
      "source": [
        "Instalamos las dependencias. **No olvides reiniciar el entorno al instalar y establecer las variables y credenciales de GCP al arrancar.**"
      ]
    },
    {
      "cell_type": "code",
      "execution_count": null,
      "metadata": {
        "colab": {
          "background_save": true,
          "base_uri": "https://localhost:8080/"
        },
        "id": "74dHb1iQ0UNN",
        "outputId": "536da755-f2fc-4926-a4ce-a682c4bfe95b"
      },
      "outputs": [
        {
          "name": "stdout",
          "output_type": "stream",
          "text": [
            "Requirement already satisfied: apache-beam[gcp] in /usr/local/lib/python3.10/dist-packages (from -r requirements.txt (line 2)) (2.55.0)\n",
            "Requirement already satisfied: tensorflow in /usr/local/lib/python3.10/dist-packages (from -r requirements.txt (line 3)) (2.15.0)\n",
            "Collecting gensim==3.6.0 (from -r requirements.txt (line 4))\n",
            "  Using cached gensim-3.6.0-cp310-cp310-linux_x86_64.whl\n",
            "Collecting fsspec==0.8.4 (from -r requirements.txt (line 5))\n",
            "  Using cached fsspec-0.8.4-py3-none-any.whl (91 kB)\n",
            "Collecting gcsfs==0.7.1 (from -r requirements.txt (line 6))\n",
            "  Using cached gcsfs-0.7.1-py2.py3-none-any.whl (20 kB)\n",
            "Collecting numpy==1.20.0 (from -r requirements.txt (line 7))\n",
            "  Using cached numpy-1.20.0.zip (8.0 MB)\n",
            "  Installing build dependencies ... \u001b[?25l\u001b[?25hdone\n",
            "  Getting requirements to build wheel ... \u001b[?25l\u001b[?25hdone\n",
            "  Preparing metadata (pyproject.toml) ... \u001b[?25l\u001b[?25hdone\n",
            "Requirement already satisfied: scipy>=0.18.1 in /usr/local/lib/python3.10/dist-packages (from gensim==3.6.0->-r requirements.txt (line 4)) (1.11.4)\n",
            "Requirement already satisfied: six>=1.5.0 in /usr/local/lib/python3.10/dist-packages (from gensim==3.6.0->-r requirements.txt (line 4)) (1.16.0)\n",
            "Requirement already satisfied: smart-open>=1.2.1 in /usr/local/lib/python3.10/dist-packages (from gensim==3.6.0->-r requirements.txt (line 4)) (6.4.0)\n",
            "Requirement already satisfied: google-auth>=1.2 in /usr/local/lib/python3.10/dist-packages (from gcsfs==0.7.1->-r requirements.txt (line 6)) (2.27.0)\n",
            "Requirement already satisfied: google-auth-oauthlib in /usr/local/lib/python3.10/dist-packages (from gcsfs==0.7.1->-r requirements.txt (line 6)) (1.2.0)\n",
            "Requirement already satisfied: requests in /usr/local/lib/python3.10/dist-packages (from gcsfs==0.7.1->-r requirements.txt (line 6)) (2.31.0)\n",
            "Requirement already satisfied: decorator in /usr/local/lib/python3.10/dist-packages (from gcsfs==0.7.1->-r requirements.txt (line 6)) (4.4.2)\n",
            "Requirement already satisfied: aiohttp in /usr/local/lib/python3.10/dist-packages (from gcsfs==0.7.1->-r requirements.txt (line 6)) (3.9.3)\n",
            "Requirement already satisfied: crcmod<2.0,>=1.7 in /usr/local/lib/python3.10/dist-packages (from apache-beam[gcp]->-r requirements.txt (line 2)) (1.7)\n",
            "Requirement already satisfied: orjson<4,>=3.9.7 in /usr/local/lib/python3.10/dist-packages (from apache-beam[gcp]->-r requirements.txt (line 2)) (3.10.0)\n",
            "Requirement already satisfied: dill<0.3.2,>=0.3.1.1 in /usr/local/lib/python3.10/dist-packages (from apache-beam[gcp]->-r requirements.txt (line 2)) (0.3.1.1)\n",
            "Requirement already satisfied: cloudpickle~=2.2.1 in /usr/local/lib/python3.10/dist-packages (from apache-beam[gcp]->-r requirements.txt (line 2)) (2.2.1)\n",
            "Requirement already satisfied: fastavro<2,>=0.23.6 in /usr/local/lib/python3.10/dist-packages (from apache-beam[gcp]->-r requirements.txt (line 2)) (1.9.4)\n",
            "Requirement already satisfied: fasteners<1.0,>=0.3 in /usr/local/lib/python3.10/dist-packages (from apache-beam[gcp]->-r requirements.txt (line 2)) (0.19)\n",
            "Requirement already satisfied: grpcio!=1.48.0,<2,>=1.33.1 in /usr/local/lib/python3.10/dist-packages (from apache-beam[gcp]->-r requirements.txt (line 2)) (1.62.1)\n",
            "Requirement already satisfied: hdfs<3.0.0,>=2.1.0 in /usr/local/lib/python3.10/dist-packages (from apache-beam[gcp]->-r requirements.txt (line 2)) (2.7.3)\n",
            "Requirement already satisfied: httplib2<0.23.0,>=0.8 in /usr/local/lib/python3.10/dist-packages (from apache-beam[gcp]->-r requirements.txt (line 2)) (0.22.0)\n",
            "Requirement already satisfied: js2py<1,>=0.74 in /usr/local/lib/python3.10/dist-packages (from apache-beam[gcp]->-r requirements.txt (line 2)) (0.74)\n",
            "Requirement already satisfied: jsonschema<5.0.0,>=4.0.0 in /usr/local/lib/python3.10/dist-packages (from apache-beam[gcp]->-r requirements.txt (line 2)) (4.19.2)\n",
            "Requirement already satisfied: jsonpickle<4.0.0,>=3.0.0 in /usr/local/lib/python3.10/dist-packages (from apache-beam[gcp]->-r requirements.txt (line 2)) (3.0.3)\n",
            "Requirement already satisfied: objsize<0.8.0,>=0.6.1 in /usr/local/lib/python3.10/dist-packages (from apache-beam[gcp]->-r requirements.txt (line 2)) (0.7.0)\n",
            "Requirement already satisfied: packaging>=22.0 in /usr/local/lib/python3.10/dist-packages (from apache-beam[gcp]->-r requirements.txt (line 2)) (23.2)\n",
            "Requirement already satisfied: pymongo<5.0.0,>=3.8.0 in /usr/local/lib/python3.10/dist-packages (from apache-beam[gcp]->-r requirements.txt (line 2)) (4.6.3)\n",
            "Requirement already satisfied: proto-plus<2,>=1.7.1 in /usr/local/lib/python3.10/dist-packages (from apache-beam[gcp]->-r requirements.txt (line 2)) (1.23.0)\n",
            "Requirement already satisfied: protobuf!=4.0.*,!=4.21.*,!=4.22.0,!=4.23.*,!=4.24.*,<4.26.0,>=3.20.3 in /usr/local/lib/python3.10/dist-packages (from apache-beam[gcp]->-r requirements.txt (line 2)) (3.20.3)\n",
            "Requirement already satisfied: pydot<2,>=1.2.0 in /usr/local/lib/python3.10/dist-packages (from apache-beam[gcp]->-r requirements.txt (line 2)) (1.4.2)\n",
            "Requirement already satisfied: python-dateutil<3,>=2.8.0 in /usr/local/lib/python3.10/dist-packages (from apache-beam[gcp]->-r requirements.txt (line 2)) (2.8.2)\n",
            "Requirement already satisfied: pytz>=2018.3 in /usr/local/lib/python3.10/dist-packages (from apache-beam[gcp]->-r requirements.txt (line 2)) (2023.4)\n",
            "Requirement already satisfied: regex>=2020.6.8 in /usr/local/lib/python3.10/dist-packages (from apache-beam[gcp]->-r requirements.txt (line 2)) (2023.12.25)\n",
            "Requirement already satisfied: typing-extensions>=3.7.0 in /usr/local/lib/python3.10/dist-packages (from apache-beam[gcp]->-r requirements.txt (line 2)) (4.10.0)\n",
            "Requirement already satisfied: zstandard<1,>=0.18.0 in /usr/local/lib/python3.10/dist-packages (from apache-beam[gcp]->-r requirements.txt (line 2)) (0.22.0)\n",
            "Requirement already satisfied: pyarrow<15.0.0,>=3.0.0 in /usr/local/lib/python3.10/dist-packages (from apache-beam[gcp]->-r requirements.txt (line 2)) (14.0.2)\n",
            "Requirement already satisfied: pyarrow-hotfix<1 in /usr/local/lib/python3.10/dist-packages (from apache-beam[gcp]->-r requirements.txt (line 2)) (0.6)\n",
            "Requirement already satisfied: cachetools<6,>=3.1.0 in /usr/local/lib/python3.10/dist-packages (from apache-beam[gcp]->-r requirements.txt (line 2)) (5.3.3)\n",
            "Requirement already satisfied: google-api-core<3,>=2.0.0 in /usr/local/lib/python3.10/dist-packages (from apache-beam[gcp]->-r requirements.txt (line 2)) (2.18.0)\n",
            "Requirement already satisfied: google-apitools<0.5.32,>=0.5.31 in /usr/local/lib/python3.10/dist-packages (from apache-beam[gcp]->-r requirements.txt (line 2)) (0.5.31)\n",
            "Requirement already satisfied: google-auth-httplib2<0.2.0,>=0.1.0 in /usr/local/lib/python3.10/dist-packages (from apache-beam[gcp]->-r requirements.txt (line 2)) (0.1.1)\n",
            "Requirement already satisfied: google-cloud-datastore<3,>=2.0.0 in /usr/local/lib/python3.10/dist-packages (from apache-beam[gcp]->-r requirements.txt (line 2)) (2.15.2)\n",
            "Requirement already satisfied: google-cloud-pubsub<3,>=2.1.0 in /usr/local/lib/python3.10/dist-packages (from apache-beam[gcp]->-r requirements.txt (line 2)) (2.21.1)\n",
            "Requirement already satisfied: google-cloud-pubsublite<2,>=1.2.0 in /usr/local/lib/python3.10/dist-packages (from apache-beam[gcp]->-r requirements.txt (line 2)) (1.9.0)\n",
            "Requirement already satisfied: google-cloud-storage<3,>=2.14.0 in /usr/local/lib/python3.10/dist-packages (from apache-beam[gcp]->-r requirements.txt (line 2)) (2.16.0)\n",
            "Requirement already satisfied: google-cloud-bigquery<4,>=2.0.0 in /usr/local/lib/python3.10/dist-packages (from apache-beam[gcp]->-r requirements.txt (line 2)) (3.12.0)\n",
            "Requirement already satisfied: google-cloud-bigquery-storage<3,>=2.6.3 in /usr/local/lib/python3.10/dist-packages (from apache-beam[gcp]->-r requirements.txt (line 2)) (2.24.0)\n",
            "Requirement already satisfied: google-cloud-core<3,>=2.0.0 in /usr/local/lib/python3.10/dist-packages (from apache-beam[gcp]->-r requirements.txt (line 2)) (2.3.3)\n",
            "Requirement already satisfied: google-cloud-bigtable<3,>=2.19.0 in /usr/local/lib/python3.10/dist-packages (from apache-beam[gcp]->-r requirements.txt (line 2)) (2.23.0)\n",
            "Requirement already satisfied: google-cloud-spanner<4,>=3.0.0 in /usr/local/lib/python3.10/dist-packages (from apache-beam[gcp]->-r requirements.txt (line 2)) (3.44.0)\n",
            "Requirement already satisfied: google-cloud-dlp<4,>=3.0.0 in /usr/local/lib/python3.10/dist-packages (from apache-beam[gcp]->-r requirements.txt (line 2)) (3.16.0)\n",
            "Requirement already satisfied: google-cloud-language<3,>=2.0 in /usr/local/lib/python3.10/dist-packages (from apache-beam[gcp]->-r requirements.txt (line 2)) (2.13.3)\n",
            "Requirement already satisfied: google-cloud-videointelligence<3,>=2.0 in /usr/local/lib/python3.10/dist-packages (from apache-beam[gcp]->-r requirements.txt (line 2)) (2.13.3)\n",
            "Requirement already satisfied: google-cloud-vision<4,>=2 in /usr/local/lib/python3.10/dist-packages (from apache-beam[gcp]->-r requirements.txt (line 2)) (3.7.2)\n",
            "Requirement already satisfied: google-cloud-recommendations-ai<0.11.0,>=0.1.0 in /usr/local/lib/python3.10/dist-packages (from apache-beam[gcp]->-r requirements.txt (line 2)) (0.10.10)\n",
            "Requirement already satisfied: google-cloud-aiplatform<2.0,>=1.26.0 in /usr/local/lib/python3.10/dist-packages (from apache-beam[gcp]->-r requirements.txt (line 2)) (1.46.0)\n",
            "Requirement already satisfied: absl-py>=1.0.0 in /usr/local/lib/python3.10/dist-packages (from tensorflow->-r requirements.txt (line 3)) (1.4.0)\n",
            "Requirement already satisfied: astunparse>=1.6.0 in /usr/local/lib/python3.10/dist-packages (from tensorflow->-r requirements.txt (line 3)) (1.6.3)\n",
            "Requirement already satisfied: flatbuffers>=23.5.26 in /usr/local/lib/python3.10/dist-packages (from tensorflow->-r requirements.txt (line 3)) (24.3.25)\n",
            "Requirement already satisfied: gast!=0.5.0,!=0.5.1,!=0.5.2,>=0.2.1 in /usr/local/lib/python3.10/dist-packages (from tensorflow->-r requirements.txt (line 3)) (0.5.4)\n",
            "Requirement already satisfied: google-pasta>=0.1.1 in /usr/local/lib/python3.10/dist-packages (from tensorflow->-r requirements.txt (line 3)) (0.2.0)\n",
            "Requirement already satisfied: h5py>=2.9.0 in /usr/local/lib/python3.10/dist-packages (from tensorflow->-r requirements.txt (line 3)) (3.9.0)\n",
            "Requirement already satisfied: libclang>=13.0.0 in /usr/local/lib/python3.10/dist-packages (from tensorflow->-r requirements.txt (line 3)) (18.1.1)\n",
            "Requirement already satisfied: ml-dtypes~=0.2.0 in /usr/local/lib/python3.10/dist-packages (from tensorflow->-r requirements.txt (line 3)) (0.2.0)\n",
            "INFO: pip is looking at multiple versions of tensorflow to determine which version is compatible with other requirements. This could take a while.\n",
            "Collecting tensorflow (from -r requirements.txt (line 3))\n",
            "  Using cached tensorflow-2.16.1-cp310-cp310-manylinux_2_17_x86_64.manylinux2014_x86_64.whl (589.8 MB)\n",
            "Collecting h5py>=3.10.0 (from tensorflow->-r requirements.txt (line 3))\n",
            "  Using cached h5py-3.10.0-cp310-cp310-manylinux_2_17_x86_64.manylinux2014_x86_64.whl (4.8 MB)\n",
            "Collecting ml-dtypes~=0.3.1 (from tensorflow->-r requirements.txt (line 3))\n",
            "  Using cached ml_dtypes-0.3.2-cp310-cp310-manylinux_2_17_x86_64.manylinux2014_x86_64.whl (2.2 MB)\n",
            "Requirement already satisfied: opt-einsum>=2.3.2 in /usr/local/lib/python3.10/dist-packages (from tensorflow->-r requirements.txt (line 3)) (3.3.0)\n",
            "Requirement already satisfied: setuptools in /usr/local/lib/python3.10/dist-packages (from tensorflow->-r requirements.txt (line 3)) (67.7.2)\n",
            "Requirement already satisfied: termcolor>=1.1.0 in /usr/local/lib/python3.10/dist-packages (from tensorflow->-r requirements.txt (line 3)) (2.4.0)\n",
            "Requirement already satisfied: wrapt>=1.11.0 in /usr/local/lib/python3.10/dist-packages (from tensorflow->-r requirements.txt (line 3)) (1.14.1)\n",
            "Collecting tensorboard<2.17,>=2.16 (from tensorflow->-r requirements.txt (line 3))\n",
            "  Using cached tensorboard-2.16.2-py3-none-any.whl (5.5 MB)\n",
            "Collecting keras>=3.0.0 (from tensorflow->-r requirements.txt (line 3))\n",
            "  Using cached keras-3.1.1-py3-none-any.whl (1.1 MB)\n",
            "Requirement already satisfied: tensorflow-io-gcs-filesystem>=0.23.1 in /usr/local/lib/python3.10/dist-packages (from tensorflow->-r requirements.txt (line 3)) (0.36.0)\n",
            "Collecting tensorflow (from -r requirements.txt (line 3))\n",
            "  Using cached tensorflow-2.15.1-cp310-cp310-manylinux_2_17_x86_64.manylinux2014_x86_64.whl (475.2 MB)\n",
            "  Using cached tensorflow-2.15.0.post1-cp310-cp310-manylinux_2_17_x86_64.manylinux2014_x86_64.whl (475.2 MB)\n",
            "  Using cached tensorflow-2.14.1-cp310-cp310-manylinux_2_17_x86_64.manylinux2014_x86_64.whl (489.9 MB)\n",
            "  Using cached tensorflow-2.14.0-cp310-cp310-manylinux_2_17_x86_64.manylinux2014_x86_64.whl (489.8 MB)\n",
            "  Using cached tensorflow-2.13.1-cp310-cp310-manylinux_2_17_x86_64.manylinux2014_x86_64.whl (479.7 MB)\n",
            "Collecting gast<=0.4.0,>=0.2.1 (from tensorflow->-r requirements.txt (line 3))\n",
            "  Using cached gast-0.4.0-py3-none-any.whl (9.8 kB)\n",
            "Collecting keras<2.14,>=2.13.1 (from tensorflow->-r requirements.txt (line 3))\n",
            "  Using cached keras-2.13.1-py3-none-any.whl (1.7 MB)\n",
            "Collecting tensorflow (from -r requirements.txt (line 3))\n",
            "  Using cached tensorflow-2.13.0-cp310-cp310-manylinux_2_17_x86_64.manylinux2014_x86_64.whl (524.1 MB)\n",
            "INFO: pip is looking at multiple versions of tensorflow to determine which version is compatible with other requirements. This could take a while.\n",
            "  Using cached tensorflow-2.12.1-cp310-cp310-manylinux_2_17_x86_64.manylinux2014_x86_64.whl (585.9 MB)\n",
            "Requirement already satisfied: jax>=0.3.15 in /usr/local/lib/python3.10/dist-packages (from tensorflow->-r requirements.txt (line 3)) (0.4.23)\n",
            "Collecting keras<2.13,>=2.12.0 (from tensorflow->-r requirements.txt (line 3))\n",
            "  Using cached keras-2.12.0-py2.py3-none-any.whl (1.7 MB)\n",
            "Collecting tensorflow (from -r requirements.txt (line 3))\n",
            "  Using cached tensorflow-2.12.0-cp310-cp310-manylinux_2_17_x86_64.manylinux2014_x86_64.whl (585.9 MB)\n",
            "  Using cached tensorflow-2.11.1-cp310-cp310-manylinux_2_17_x86_64.manylinux2014_x86_64.whl (588.3 MB)\n",
            "Collecting keras<2.12,>=2.11.0 (from tensorflow->-r requirements.txt (line 3))\n",
            "  Using cached keras-2.11.0-py2.py3-none-any.whl (1.7 MB)\n",
            "Collecting tensorflow (from -r requirements.txt (line 3))\n",
            "  Using cached tensorflow-2.11.0-cp310-cp310-manylinux_2_17_x86_64.manylinux2014_x86_64.whl (588.3 MB)\n",
            "  Using cached tensorflow-2.10.1-cp310-cp310-manylinux_2_17_x86_64.manylinux2014_x86_64.whl (578.1 MB)\n",
            "Collecting keras<2.11,>=2.10.0 (from tensorflow->-r requirements.txt (line 3))\n",
            "  Using cached keras-2.10.0-py2.py3-none-any.whl (1.7 MB)\n",
            "Collecting keras-preprocessing>=1.1.1 (from tensorflow->-r requirements.txt (line 3))\n",
            "  Using cached Keras_Preprocessing-1.1.2-py2.py3-none-any.whl (42 kB)\n",
            "INFO: This is taking longer than usual. You might need to provide the dependency resolver with stricter constraints to reduce runtime. See https://pip.pypa.io/warnings/backtracking for guidance. If you want to abort this run, press Ctrl + C.\n",
            "Collecting tensorflow (from -r requirements.txt (line 3))\n",
            "  Using cached tensorflow-2.10.0-cp310-cp310-manylinux_2_17_x86_64.manylinux2014_x86_64.whl (578.0 MB)\n",
            "  Using cached tensorflow-2.9.3-cp310-cp310-manylinux_2_17_x86_64.manylinux2014_x86_64.whl (511.8 MB)\n",
            "Collecting flatbuffers<2,>=1.12 (from tensorflow->-r requirements.txt (line 3))\n",
            "  Using cached flatbuffers-1.12-py2.py3-none-any.whl (15 kB)\n",
            "Collecting keras<2.10.0,>=2.9.0rc0 (from tensorflow->-r requirements.txt (line 3))\n",
            "  Using cached keras-2.9.0-py2.py3-none-any.whl (1.6 MB)\n",
            "Collecting tensorflow (from -r requirements.txt (line 3))\n",
            "  Using cached tensorflow-2.9.2-cp310-cp310-manylinux_2_17_x86_64.manylinux2014_x86_64.whl (511.8 MB)\n",
            "  Using cached tensorflow-2.9.1-cp310-cp310-manylinux_2_17_x86_64.manylinux2014_x86_64.whl (511.7 MB)\n",
            "  Using cached tensorflow-2.9.0-cp310-cp310-manylinux_2_17_x86_64.manylinux2014_x86_64.whl (511.7 MB)\n",
            "Collecting tensorboard<2.10,>=2.9 (from tensorflow->-r requirements.txt (line 3))\n",
            "  Using cached tensorboard-2.9.1-py3-none-any.whl (5.8 MB)\n",
            "Collecting tensorflow-estimator<2.10.0,>=2.9.0rc0 (from tensorflow->-r requirements.txt (line 3))\n",
            "  Using cached tensorflow_estimator-2.9.0-py2.py3-none-any.whl (438 kB)\n",
            "Requirement already satisfied: wheel<1.0,>=0.23.0 in /usr/local/lib/python3.10/dist-packages (from astunparse>=1.6.0->tensorflow->-r requirements.txt (line 3)) (0.43.0)\n",
            "Requirement already satisfied: googleapis-common-protos<2.0.dev0,>=1.56.2 in /usr/local/lib/python3.10/dist-packages (from google-api-core<3,>=2.0.0->apache-beam[gcp]->-r requirements.txt (line 2)) (1.63.0)\n",
            "Requirement already satisfied: oauth2client>=1.4.12 in /usr/local/lib/python3.10/dist-packages (from google-apitools<0.5.32,>=0.5.31->apache-beam[gcp]->-r requirements.txt (line 2)) (4.1.3)\n",
            "Requirement already satisfied: pyasn1-modules>=0.2.1 in /usr/local/lib/python3.10/dist-packages (from google-auth>=1.2->gcsfs==0.7.1->-r requirements.txt (line 6)) (0.4.0)\n",
            "Requirement already satisfied: rsa<5,>=3.1.4 in /usr/local/lib/python3.10/dist-packages (from google-auth>=1.2->gcsfs==0.7.1->-r requirements.txt (line 6)) (4.9)\n",
            "Requirement already satisfied: google-cloud-resource-manager<3.0.0dev,>=1.3.3 in /usr/local/lib/python3.10/dist-packages (from google-cloud-aiplatform<2.0,>=1.26.0->apache-beam[gcp]->-r requirements.txt (line 2)) (1.12.3)\n",
            "Requirement already satisfied: shapely<3.0.0dev in /usr/local/lib/python3.10/dist-packages (from google-cloud-aiplatform<2.0,>=1.26.0->apache-beam[gcp]->-r requirements.txt (line 2)) (2.0.3)\n",
            "Requirement already satisfied: pydantic<3 in /usr/local/lib/python3.10/dist-packages (from google-cloud-aiplatform<2.0,>=1.26.0->apache-beam[gcp]->-r requirements.txt (line 2)) (2.6.4)\n",
            "Requirement already satisfied: docstring-parser<1 in /usr/local/lib/python3.10/dist-packages (from google-cloud-aiplatform<2.0,>=1.26.0->apache-beam[gcp]->-r requirements.txt (line 2)) (0.16)\n",
            "Requirement already satisfied: google-resumable-media<3.0dev,>=0.6.0 in /usr/local/lib/python3.10/dist-packages (from google-cloud-bigquery<4,>=2.0.0->apache-beam[gcp]->-r requirements.txt (line 2)) (2.7.0)\n",
            "Requirement already satisfied: grpc-google-iam-v1<1.0.0dev,>=0.12.4 in /usr/local/lib/python3.10/dist-packages (from google-cloud-bigtable<3,>=2.19.0->apache-beam[gcp]->-r requirements.txt (line 2)) (0.13.0)\n",
            "Requirement already satisfied: grpcio-status>=1.33.2 in /usr/local/lib/python3.10/dist-packages (from google-cloud-pubsub<3,>=2.1.0->apache-beam[gcp]->-r requirements.txt (line 2)) (1.48.2)\n",
            "Requirement already satisfied: overrides<8.0.0,>=6.0.1 in /usr/local/lib/python3.10/dist-packages (from google-cloud-pubsublite<2,>=1.2.0->apache-beam[gcp]->-r requirements.txt (line 2)) (7.7.0)\n",
            "Requirement already satisfied: sqlparse>=0.4.4 in /usr/local/lib/python3.10/dist-packages (from google-cloud-spanner<4,>=3.0.0->apache-beam[gcp]->-r requirements.txt (line 2)) (0.4.4)\n",
            "Requirement already satisfied: deprecated>=1.2.14 in /usr/local/lib/python3.10/dist-packages (from google-cloud-spanner<4,>=3.0.0->apache-beam[gcp]->-r requirements.txt (line 2)) (1.2.14)\n",
            "Requirement already satisfied: grpc-interceptor>=0.15.4 in /usr/local/lib/python3.10/dist-packages (from google-cloud-spanner<4,>=3.0.0->apache-beam[gcp]->-r requirements.txt (line 2)) (0.15.4)\n",
            "Requirement already satisfied: google-crc32c<2.0dev,>=1.0 in /usr/local/lib/python3.10/dist-packages (from google-cloud-storage<3,>=2.14.0->apache-beam[gcp]->-r requirements.txt (line 2)) (1.5.0)\n",
            "Requirement already satisfied: docopt in /usr/local/lib/python3.10/dist-packages (from hdfs<3.0.0,>=2.1.0->apache-beam[gcp]->-r requirements.txt (line 2)) (0.6.2)\n",
            "Requirement already satisfied: pyparsing!=3.0.0,!=3.0.1,!=3.0.2,!=3.0.3,<4,>=2.4.2 in /usr/local/lib/python3.10/dist-packages (from httplib2<0.23.0,>=0.8->apache-beam[gcp]->-r requirements.txt (line 2)) (3.1.2)\n",
            "Requirement already satisfied: tzlocal>=1.2 in /usr/local/lib/python3.10/dist-packages (from js2py<1,>=0.74->apache-beam[gcp]->-r requirements.txt (line 2)) (5.2)\n",
            "Requirement already satisfied: pyjsparser>=2.5.1 in /usr/local/lib/python3.10/dist-packages (from js2py<1,>=0.74->apache-beam[gcp]->-r requirements.txt (line 2)) (2.7.1)\n",
            "Requirement already satisfied: attrs>=22.2.0 in /usr/local/lib/python3.10/dist-packages (from jsonschema<5.0.0,>=4.0.0->apache-beam[gcp]->-r requirements.txt (line 2)) (23.2.0)\n",
            "Requirement already satisfied: jsonschema-specifications>=2023.03.6 in /usr/local/lib/python3.10/dist-packages (from jsonschema<5.0.0,>=4.0.0->apache-beam[gcp]->-r requirements.txt (line 2)) (2023.12.1)\n",
            "Requirement already satisfied: referencing>=0.28.4 in /usr/local/lib/python3.10/dist-packages (from jsonschema<5.0.0,>=4.0.0->apache-beam[gcp]->-r requirements.txt (line 2)) (0.34.0)\n",
            "Requirement already satisfied: rpds-py>=0.7.1 in /usr/local/lib/python3.10/dist-packages (from jsonschema<5.0.0,>=4.0.0->apache-beam[gcp]->-r requirements.txt (line 2)) (0.18.0)\n",
            "Requirement already satisfied: dnspython<3.0.0,>=1.16.0 in /usr/local/lib/python3.10/dist-packages (from pymongo<5.0.0,>=3.8.0->apache-beam[gcp]->-r requirements.txt (line 2)) (2.6.1)\n",
            "Requirement already satisfied: charset-normalizer<4,>=2 in /usr/local/lib/python3.10/dist-packages (from requests->gcsfs==0.7.1->-r requirements.txt (line 6)) (3.3.2)\n",
            "Requirement already satisfied: idna<4,>=2.5 in /usr/local/lib/python3.10/dist-packages (from requests->gcsfs==0.7.1->-r requirements.txt (line 6)) (3.6)\n",
            "Requirement already satisfied: urllib3<3,>=1.21.1 in /usr/local/lib/python3.10/dist-packages (from requests->gcsfs==0.7.1->-r requirements.txt (line 6)) (2.0.7)\n",
            "Requirement already satisfied: certifi>=2017.4.17 in /usr/local/lib/python3.10/dist-packages (from requests->gcsfs==0.7.1->-r requirements.txt (line 6)) (2024.2.2)\n",
            "INFO: pip is looking at multiple versions of scipy to determine which version is compatible with other requirements. This could take a while.\n",
            "Collecting scipy>=0.18.1 (from gensim==3.6.0->-r requirements.txt (line 4))\n",
            "  Using cached scipy-1.13.0-cp310-cp310-manylinux_2_17_x86_64.manylinux2014_x86_64.whl (38.6 MB)\n",
            "  Using cached scipy-1.12.0-cp310-cp310-manylinux_2_17_x86_64.manylinux2014_x86_64.whl (38.4 MB)\n",
            "  Using cached scipy-1.11.3-cp310-cp310-manylinux_2_17_x86_64.manylinux2014_x86_64.whl (36.4 MB)\n",
            "  Using cached scipy-1.11.2-cp310-cp310-manylinux_2_17_x86_64.manylinux2014_x86_64.whl (36.3 MB)\n",
            "  Using cached scipy-1.11.1-cp310-cp310-manylinux_2_17_x86_64.manylinux2014_x86_64.whl (36.3 MB)\n",
            "  Using cached scipy-1.10.1-cp310-cp310-manylinux_2_17_x86_64.manylinux2014_x86_64.whl (34.4 MB)\n",
            "Collecting google-auth-oauthlib (from gcsfs==0.7.1->-r requirements.txt (line 6))\n",
            "  Using cached google_auth_oauthlib-0.4.6-py2.py3-none-any.whl (18 kB)\n",
            "Requirement already satisfied: markdown>=2.6.8 in /usr/local/lib/python3.10/dist-packages (from tensorboard<2.10,>=2.9->tensorflow->-r requirements.txt (line 3)) (3.6)\n",
            "INFO: pip is looking at multiple versions of tensorboard to determine which version is compatible with other requirements. This could take a while.\n",
            "Collecting tensorboard<2.10,>=2.9 (from tensorflow->-r requirements.txt (line 3))\n",
            "  Using cached tensorboard-2.9.0-py3-none-any.whl (5.8 MB)\n",
            "Collecting tensorboard-data-server<0.7.0,>=0.6.0 (from tensorboard<2.10,>=2.9->tensorflow->-r requirements.txt (line 3))\n",
            "  Using cached tensorboard_data_server-0.6.1-py3-none-manylinux2010_x86_64.whl (4.9 MB)\n",
            "Collecting tensorboard-plugin-wit>=1.6.0 (from tensorboard<2.10,>=2.9->tensorflow->-r requirements.txt (line 3))\n",
            "  Using cached tensorboard_plugin_wit-1.8.1-py3-none-any.whl (781 kB)\n",
            "Requirement already satisfied: werkzeug>=1.0.1 in /usr/local/lib/python3.10/dist-packages (from tensorboard<2.10,>=2.9->tensorflow->-r requirements.txt (line 3)) (3.0.2)\n",
            "Requirement already satisfied: requests-oauthlib>=0.7.0 in /usr/local/lib/python3.10/dist-packages (from google-auth-oauthlib->gcsfs==0.7.1->-r requirements.txt (line 6)) (1.3.1)\n",
            "Requirement already satisfied: aiosignal>=1.1.2 in /usr/local/lib/python3.10/dist-packages (from aiohttp->gcsfs==0.7.1->-r requirements.txt (line 6)) (1.3.1)\n",
            "Requirement already satisfied: frozenlist>=1.1.1 in /usr/local/lib/python3.10/dist-packages (from aiohttp->gcsfs==0.7.1->-r requirements.txt (line 6)) (1.4.1)\n",
            "Requirement already satisfied: multidict<7.0,>=4.5 in /usr/local/lib/python3.10/dist-packages (from aiohttp->gcsfs==0.7.1->-r requirements.txt (line 6)) (6.0.5)\n",
            "Requirement already satisfied: yarl<2.0,>=1.0 in /usr/local/lib/python3.10/dist-packages (from aiohttp->gcsfs==0.7.1->-r requirements.txt (line 6)) (1.9.4)\n",
            "Requirement already satisfied: async-timeout<5.0,>=4.0 in /usr/local/lib/python3.10/dist-packages (from aiohttp->gcsfs==0.7.1->-r requirements.txt (line 6)) (4.0.3)\n",
            "Requirement already satisfied: pyasn1>=0.1.7 in /usr/local/lib/python3.10/dist-packages (from oauth2client>=1.4.12->google-apitools<0.5.32,>=0.5.31->apache-beam[gcp]->-r requirements.txt (line 2)) (0.6.0)\n",
            "Requirement already satisfied: annotated-types>=0.4.0 in /usr/local/lib/python3.10/dist-packages (from pydantic<3->google-cloud-aiplatform<2.0,>=1.26.0->apache-beam[gcp]->-r requirements.txt (line 2)) (0.6.0)\n",
            "Requirement already satisfied: pydantic-core==2.16.3 in /usr/local/lib/python3.10/dist-packages (from pydantic<3->google-cloud-aiplatform<2.0,>=1.26.0->apache-beam[gcp]->-r requirements.txt (line 2)) (2.16.3)\n",
            "Requirement already satisfied: oauthlib>=3.0.0 in /usr/local/lib/python3.10/dist-packages (from requests-oauthlib>=0.7.0->google-auth-oauthlib->gcsfs==0.7.1->-r requirements.txt (line 6)) (3.2.2)\n",
            "Requirement already satisfied: MarkupSafe>=2.1.1 in /usr/local/lib/python3.10/dist-packages (from werkzeug>=1.0.1->tensorboard<2.10,>=2.9->tensorflow->-r requirements.txt (line 3)) (2.1.5)\n",
            "Building wheels for collected packages: numpy\n",
            "  \u001b[1;31merror\u001b[0m: \u001b[1msubprocess-exited-with-error\u001b[0m\n",
            "  \n",
            "  \u001b[31m×\u001b[0m \u001b[32mBuilding wheel for numpy \u001b[0m\u001b[1;32m(\u001b[0m\u001b[32mpyproject.toml\u001b[0m\u001b[1;32m)\u001b[0m did not run successfully.\n",
            "  \u001b[31m│\u001b[0m exit code: \u001b[1;36m1\u001b[0m\n",
            "  \u001b[31m╰─>\u001b[0m See above for output.\n",
            "  \n",
            "  \u001b[1;35mnote\u001b[0m: This error originates from a subprocess, and is likely not a problem with pip.\n",
            "  Building wheel for numpy (pyproject.toml) ... \u001b[?25l\u001b[?25herror\n",
            "\u001b[31m  ERROR: Failed building wheel for numpy\u001b[0m\u001b[31m\n",
            "\u001b[0mFailed to build numpy\n",
            "\u001b[31mERROR: Could not build wheels for numpy, which is required to install pyproject.toml-based projects\u001b[0m\u001b[31m\n",
            "\u001b[0m"
          ]
        }
      ],
      "source": [
        "! pip install -r requirements.txt"
      ]
    },
    {
      "cell_type": "code",
      "execution_count": null,
      "metadata": {
        "colab": {
          "base_uri": "https://localhost:8080/"
        },
        "id": "jRCMqESUnUcq",
        "outputId": "b8fa7d4f-e8ab-470c-cd7b-a13176c6156c"
      },
      "outputs": [
        {
          "output_type": "stream",
          "name": "stdout",
          "text": [
            "Requirement already satisfied: apache-beam[gcp] in /usr/local/lib/python3.10/dist-packages (2.55.0)\n",
            "Requirement already satisfied: crcmod<2.0,>=1.7 in /usr/local/lib/python3.10/dist-packages (from apache-beam[gcp]) (1.7)\n",
            "Requirement already satisfied: orjson<4,>=3.9.7 in /usr/local/lib/python3.10/dist-packages (from apache-beam[gcp]) (3.10.0)\n",
            "Requirement already satisfied: dill<0.3.2,>=0.3.1.1 in /usr/local/lib/python3.10/dist-packages (from apache-beam[gcp]) (0.3.1.1)\n",
            "Requirement already satisfied: cloudpickle~=2.2.1 in /usr/local/lib/python3.10/dist-packages (from apache-beam[gcp]) (2.2.1)\n",
            "Requirement already satisfied: fastavro<2,>=0.23.6 in /usr/local/lib/python3.10/dist-packages (from apache-beam[gcp]) (1.9.4)\n",
            "Requirement already satisfied: fasteners<1.0,>=0.3 in /usr/local/lib/python3.10/dist-packages (from apache-beam[gcp]) (0.19)\n",
            "Requirement already satisfied: grpcio!=1.48.0,<2,>=1.33.1 in /usr/local/lib/python3.10/dist-packages (from apache-beam[gcp]) (1.62.1)\n",
            "Requirement already satisfied: hdfs<3.0.0,>=2.1.0 in /usr/local/lib/python3.10/dist-packages (from apache-beam[gcp]) (2.7.3)\n",
            "Requirement already satisfied: httplib2<0.23.0,>=0.8 in /usr/local/lib/python3.10/dist-packages (from apache-beam[gcp]) (0.22.0)\n",
            "Requirement already satisfied: js2py<1,>=0.74 in /usr/local/lib/python3.10/dist-packages (from apache-beam[gcp]) (0.74)\n",
            "Requirement already satisfied: jsonschema<5.0.0,>=4.0.0 in /usr/local/lib/python3.10/dist-packages (from apache-beam[gcp]) (4.19.2)\n",
            "Requirement already satisfied: jsonpickle<4.0.0,>=3.0.0 in /usr/local/lib/python3.10/dist-packages (from apache-beam[gcp]) (3.0.3)\n",
            "Requirement already satisfied: numpy<1.27.0,>=1.14.3 in /usr/local/lib/python3.10/dist-packages (from apache-beam[gcp]) (1.25.2)\n",
            "Requirement already satisfied: objsize<0.8.0,>=0.6.1 in /usr/local/lib/python3.10/dist-packages (from apache-beam[gcp]) (0.7.0)\n",
            "Requirement already satisfied: packaging>=22.0 in /usr/local/lib/python3.10/dist-packages (from apache-beam[gcp]) (23.2)\n",
            "Requirement already satisfied: pymongo<5.0.0,>=3.8.0 in /usr/local/lib/python3.10/dist-packages (from apache-beam[gcp]) (4.6.3)\n",
            "Requirement already satisfied: proto-plus<2,>=1.7.1 in /usr/local/lib/python3.10/dist-packages (from apache-beam[gcp]) (1.23.0)\n",
            "Requirement already satisfied: protobuf!=4.0.*,!=4.21.*,!=4.22.0,!=4.23.*,!=4.24.*,<4.26.0,>=3.20.3 in /usr/local/lib/python3.10/dist-packages (from apache-beam[gcp]) (3.20.3)\n",
            "Requirement already satisfied: pydot<2,>=1.2.0 in /usr/local/lib/python3.10/dist-packages (from apache-beam[gcp]) (1.4.2)\n",
            "Requirement already satisfied: python-dateutil<3,>=2.8.0 in /usr/local/lib/python3.10/dist-packages (from apache-beam[gcp]) (2.8.2)\n",
            "Requirement already satisfied: pytz>=2018.3 in /usr/local/lib/python3.10/dist-packages (from apache-beam[gcp]) (2023.4)\n",
            "Requirement already satisfied: regex>=2020.6.8 in /usr/local/lib/python3.10/dist-packages (from apache-beam[gcp]) (2023.12.25)\n",
            "Requirement already satisfied: requests<3.0.0,>=2.24.0 in /usr/local/lib/python3.10/dist-packages (from apache-beam[gcp]) (2.31.0)\n",
            "Requirement already satisfied: typing-extensions>=3.7.0 in /usr/local/lib/python3.10/dist-packages (from apache-beam[gcp]) (4.10.0)\n",
            "Requirement already satisfied: zstandard<1,>=0.18.0 in /usr/local/lib/python3.10/dist-packages (from apache-beam[gcp]) (0.22.0)\n",
            "Requirement already satisfied: pyarrow<15.0.0,>=3.0.0 in /usr/local/lib/python3.10/dist-packages (from apache-beam[gcp]) (14.0.2)\n",
            "Requirement already satisfied: pyarrow-hotfix<1 in /usr/local/lib/python3.10/dist-packages (from apache-beam[gcp]) (0.6)\n",
            "Requirement already satisfied: cachetools<6,>=3.1.0 in /usr/local/lib/python3.10/dist-packages (from apache-beam[gcp]) (5.3.3)\n",
            "Requirement already satisfied: google-api-core<3,>=2.0.0 in /usr/local/lib/python3.10/dist-packages (from apache-beam[gcp]) (2.18.0)\n",
            "Requirement already satisfied: google-apitools<0.5.32,>=0.5.31 in /usr/local/lib/python3.10/dist-packages (from apache-beam[gcp]) (0.5.31)\n",
            "Requirement already satisfied: google-auth<3,>=1.18.0 in /usr/local/lib/python3.10/dist-packages (from apache-beam[gcp]) (2.27.0)\n",
            "Requirement already satisfied: google-auth-httplib2<0.2.0,>=0.1.0 in /usr/local/lib/python3.10/dist-packages (from apache-beam[gcp]) (0.1.1)\n",
            "Requirement already satisfied: google-cloud-datastore<3,>=2.0.0 in /usr/local/lib/python3.10/dist-packages (from apache-beam[gcp]) (2.15.2)\n",
            "Requirement already satisfied: google-cloud-pubsub<3,>=2.1.0 in /usr/local/lib/python3.10/dist-packages (from apache-beam[gcp]) (2.21.1)\n",
            "Requirement already satisfied: google-cloud-pubsublite<2,>=1.2.0 in /usr/local/lib/python3.10/dist-packages (from apache-beam[gcp]) (1.9.0)\n",
            "Requirement already satisfied: google-cloud-storage<3,>=2.14.0 in /usr/local/lib/python3.10/dist-packages (from apache-beam[gcp]) (2.16.0)\n",
            "Requirement already satisfied: google-cloud-bigquery<4,>=2.0.0 in /usr/local/lib/python3.10/dist-packages (from apache-beam[gcp]) (3.12.0)\n",
            "Requirement already satisfied: google-cloud-bigquery-storage<3,>=2.6.3 in /usr/local/lib/python3.10/dist-packages (from apache-beam[gcp]) (2.24.0)\n",
            "Requirement already satisfied: google-cloud-core<3,>=2.0.0 in /usr/local/lib/python3.10/dist-packages (from apache-beam[gcp]) (2.3.3)\n",
            "Requirement already satisfied: google-cloud-bigtable<3,>=2.19.0 in /usr/local/lib/python3.10/dist-packages (from apache-beam[gcp]) (2.23.0)\n",
            "Requirement already satisfied: google-cloud-spanner<4,>=3.0.0 in /usr/local/lib/python3.10/dist-packages (from apache-beam[gcp]) (3.44.0)\n",
            "Requirement already satisfied: google-cloud-dlp<4,>=3.0.0 in /usr/local/lib/python3.10/dist-packages (from apache-beam[gcp]) (3.16.0)\n",
            "Requirement already satisfied: google-cloud-language<3,>=2.0 in /usr/local/lib/python3.10/dist-packages (from apache-beam[gcp]) (2.13.3)\n",
            "Requirement already satisfied: google-cloud-videointelligence<3,>=2.0 in /usr/local/lib/python3.10/dist-packages (from apache-beam[gcp]) (2.13.3)\n",
            "Requirement already satisfied: google-cloud-vision<4,>=2 in /usr/local/lib/python3.10/dist-packages (from apache-beam[gcp]) (3.7.2)\n",
            "Requirement already satisfied: google-cloud-recommendations-ai<0.11.0,>=0.1.0 in /usr/local/lib/python3.10/dist-packages (from apache-beam[gcp]) (0.10.10)\n",
            "Requirement already satisfied: google-cloud-aiplatform<2.0,>=1.26.0 in /usr/local/lib/python3.10/dist-packages (from apache-beam[gcp]) (1.46.0)\n",
            "Requirement already satisfied: googleapis-common-protos<2.0.dev0,>=1.56.2 in /usr/local/lib/python3.10/dist-packages (from google-api-core<3,>=2.0.0->apache-beam[gcp]) (1.63.0)\n",
            "Requirement already satisfied: oauth2client>=1.4.12 in /usr/local/lib/python3.10/dist-packages (from google-apitools<0.5.32,>=0.5.31->apache-beam[gcp]) (4.1.3)\n",
            "Requirement already satisfied: six>=1.12.0 in /usr/local/lib/python3.10/dist-packages (from google-apitools<0.5.32,>=0.5.31->apache-beam[gcp]) (1.16.0)\n",
            "Requirement already satisfied: pyasn1-modules>=0.2.1 in /usr/local/lib/python3.10/dist-packages (from google-auth<3,>=1.18.0->apache-beam[gcp]) (0.4.0)\n",
            "Requirement already satisfied: rsa<5,>=3.1.4 in /usr/local/lib/python3.10/dist-packages (from google-auth<3,>=1.18.0->apache-beam[gcp]) (4.9)\n",
            "Requirement already satisfied: google-cloud-resource-manager<3.0.0dev,>=1.3.3 in /usr/local/lib/python3.10/dist-packages (from google-cloud-aiplatform<2.0,>=1.26.0->apache-beam[gcp]) (1.12.3)\n",
            "Requirement already satisfied: shapely<3.0.0dev in /usr/local/lib/python3.10/dist-packages (from google-cloud-aiplatform<2.0,>=1.26.0->apache-beam[gcp]) (2.0.3)\n",
            "Requirement already satisfied: pydantic<3 in /usr/local/lib/python3.10/dist-packages (from google-cloud-aiplatform<2.0,>=1.26.0->apache-beam[gcp]) (2.6.4)\n",
            "Requirement already satisfied: docstring-parser<1 in /usr/local/lib/python3.10/dist-packages (from google-cloud-aiplatform<2.0,>=1.26.0->apache-beam[gcp]) (0.16)\n",
            "Requirement already satisfied: google-resumable-media<3.0dev,>=0.6.0 in /usr/local/lib/python3.10/dist-packages (from google-cloud-bigquery<4,>=2.0.0->apache-beam[gcp]) (2.7.0)\n",
            "Requirement already satisfied: grpc-google-iam-v1<1.0.0dev,>=0.12.4 in /usr/local/lib/python3.10/dist-packages (from google-cloud-bigtable<3,>=2.19.0->apache-beam[gcp]) (0.13.0)\n",
            "Requirement already satisfied: grpcio-status>=1.33.2 in /usr/local/lib/python3.10/dist-packages (from google-cloud-pubsub<3,>=2.1.0->apache-beam[gcp]) (1.48.2)\n",
            "Requirement already satisfied: overrides<8.0.0,>=6.0.1 in /usr/local/lib/python3.10/dist-packages (from google-cloud-pubsublite<2,>=1.2.0->apache-beam[gcp]) (7.7.0)\n",
            "Requirement already satisfied: sqlparse>=0.4.4 in /usr/local/lib/python3.10/dist-packages (from google-cloud-spanner<4,>=3.0.0->apache-beam[gcp]) (0.4.4)\n",
            "Requirement already satisfied: deprecated>=1.2.14 in /usr/local/lib/python3.10/dist-packages (from google-cloud-spanner<4,>=3.0.0->apache-beam[gcp]) (1.2.14)\n",
            "Requirement already satisfied: grpc-interceptor>=0.15.4 in /usr/local/lib/python3.10/dist-packages (from google-cloud-spanner<4,>=3.0.0->apache-beam[gcp]) (0.15.4)\n",
            "Requirement already satisfied: google-crc32c<2.0dev,>=1.0 in /usr/local/lib/python3.10/dist-packages (from google-cloud-storage<3,>=2.14.0->apache-beam[gcp]) (1.5.0)\n",
            "Requirement already satisfied: docopt in /usr/local/lib/python3.10/dist-packages (from hdfs<3.0.0,>=2.1.0->apache-beam[gcp]) (0.6.2)\n",
            "Requirement already satisfied: pyparsing!=3.0.0,!=3.0.1,!=3.0.2,!=3.0.3,<4,>=2.4.2 in /usr/local/lib/python3.10/dist-packages (from httplib2<0.23.0,>=0.8->apache-beam[gcp]) (3.1.2)\n",
            "Requirement already satisfied: tzlocal>=1.2 in /usr/local/lib/python3.10/dist-packages (from js2py<1,>=0.74->apache-beam[gcp]) (5.2)\n",
            "Requirement already satisfied: pyjsparser>=2.5.1 in /usr/local/lib/python3.10/dist-packages (from js2py<1,>=0.74->apache-beam[gcp]) (2.7.1)\n",
            "Requirement already satisfied: attrs>=22.2.0 in /usr/local/lib/python3.10/dist-packages (from jsonschema<5.0.0,>=4.0.0->apache-beam[gcp]) (23.2.0)\n",
            "Requirement already satisfied: jsonschema-specifications>=2023.03.6 in /usr/local/lib/python3.10/dist-packages (from jsonschema<5.0.0,>=4.0.0->apache-beam[gcp]) (2023.12.1)\n",
            "Requirement already satisfied: referencing>=0.28.4 in /usr/local/lib/python3.10/dist-packages (from jsonschema<5.0.0,>=4.0.0->apache-beam[gcp]) (0.34.0)\n",
            "Requirement already satisfied: rpds-py>=0.7.1 in /usr/local/lib/python3.10/dist-packages (from jsonschema<5.0.0,>=4.0.0->apache-beam[gcp]) (0.18.0)\n",
            "Requirement already satisfied: dnspython<3.0.0,>=1.16.0 in /usr/local/lib/python3.10/dist-packages (from pymongo<5.0.0,>=3.8.0->apache-beam[gcp]) (2.6.1)\n",
            "Requirement already satisfied: charset-normalizer<4,>=2 in /usr/local/lib/python3.10/dist-packages (from requests<3.0.0,>=2.24.0->apache-beam[gcp]) (3.3.2)\n",
            "Requirement already satisfied: idna<4,>=2.5 in /usr/local/lib/python3.10/dist-packages (from requests<3.0.0,>=2.24.0->apache-beam[gcp]) (3.6)\n",
            "Requirement already satisfied: urllib3<3,>=1.21.1 in /usr/local/lib/python3.10/dist-packages (from requests<3.0.0,>=2.24.0->apache-beam[gcp]) (2.0.7)\n",
            "Requirement already satisfied: certifi>=2017.4.17 in /usr/local/lib/python3.10/dist-packages (from requests<3.0.0,>=2.24.0->apache-beam[gcp]) (2024.2.2)\n",
            "Requirement already satisfied: wrapt<2,>=1.10 in /usr/local/lib/python3.10/dist-packages (from deprecated>=1.2.14->google-cloud-spanner<4,>=3.0.0->apache-beam[gcp]) (1.14.1)\n",
            "Requirement already satisfied: pyasn1>=0.1.7 in /usr/local/lib/python3.10/dist-packages (from oauth2client>=1.4.12->google-apitools<0.5.32,>=0.5.31->apache-beam[gcp]) (0.6.0)\n",
            "Requirement already satisfied: annotated-types>=0.4.0 in /usr/local/lib/python3.10/dist-packages (from pydantic<3->google-cloud-aiplatform<2.0,>=1.26.0->apache-beam[gcp]) (0.6.0)\n",
            "Requirement already satisfied: pydantic-core==2.16.3 in /usr/local/lib/python3.10/dist-packages (from pydantic<3->google-cloud-aiplatform<2.0,>=1.26.0->apache-beam[gcp]) (2.16.3)\n"
          ]
        }
      ],
      "source": [
        "! pip install apache-beam[gcp]"
      ]
    },
    {
      "cell_type": "markdown",
      "metadata": {
        "id": "k0DDu27S3CJv"
      },
      "source": [
        "## Primer ejercicio\n",
        "\n",
        "Desarrollar un pipeline de preprocesamiento utilizando Apache Beam para generar datos de train, eval y test para los datos proporcionados anteriormente. Requisitos:\n",
        "\n",
        "- Proporcionar dos modos de ejecución: `train` y `test`\n",
        "- Soportar ejecuciones en local con `DirectRunner` y ejecuciones en Dataflow usando `DataFlowRunner`."
      ]
    },
    {
      "cell_type": "code",
      "execution_count": null,
      "metadata": {
        "colab": {
          "background_save": true
        },
        "id": "EZ9xzqYQ3iwN"
      },
      "outputs": [],
      "source": []
    },
    {
      "cell_type": "code",
      "execution_count": null,
      "metadata": {
        "colab": {
          "base_uri": "https://localhost:8080/"
        },
        "id": "1blctlxs_dPO",
        "outputId": "b1404cb2-f800-4ea4-8416-d27f6f23400f"
      },
      "outputs": [
        {
          "output_type": "stream",
          "name": "stderr",
          "text": [
            "WARNING:apache_beam.options.pipeline_options:Discarding unparseable args: ['-f', '/root/.local/share/jupyter/runtime/kernel-1f0f7d30-5a9b-48dd-9f90-62465156d801.json']\n"
          ]
        }
      ],
      "source": [
        "import apache_beam as beam\n",
        "from apache_beam.options.pipeline_options import PipelineOptions\n",
        "\n",
        "with beam.Pipeline(options=PipelineOptions()) as pipeline:\n",
        "  pass"
      ]
    },
    {
      "cell_type": "code",
      "execution_count": null,
      "metadata": {
        "colab": {
          "background_save": true
        },
        "id": "Tt52e3i-kt7D"
      },
      "outputs": [],
      "source": [
        "'''\n",
        "%%writefile preprocess.py\n",
        "\n",
        "import apache_beam as beam\n",
        "from apache_beam.options.pipeline_options import PipelineOptions\n",
        "\n",
        "class PreprocessData(beam.DoFn):\n",
        "    def preprocess_text(text):\n",
        "        content = text.get('content', '')\n",
        "        label = text['annotation']['label'][0] if 'annotation' in text and 'label' in text['annotation'] else None\n",
        "        return {'content': content, 'label': label}\n",
        "\n",
        "def run_preprocessing(input_file, output_file):\n",
        "    # Configurar las opciones del pipeline\n",
        "    options = PipelineOptions()\n",
        "\n",
        "    # Crear el pipeline\n",
        "    with beam.Pipeline() as pipeline:\n",
        "        tweets = (\n",
        "            pipeline\n",
        "            | 'ReadInput' >> beam.io.ReadFromText('gs://practica-imple-algos/Dataset for Detection of Cyber-Trolls.json' )\n",
        "            | 'ParseJSON' >> beam.Map(json.loads)\n",
        "            | 'PreprocessTweets' >> beam.Map(preprocess_text)\n",
        "        )\n",
        "\n",
        "        # Aplicar preprocesamiento\n",
        "        preprocessed_tweets = tweets | 'MyPreprocessTweets' >> beam.ParDo(PreprocessData())\n",
        "\n",
        "        # Escribir los datos preprocesados en un archivo de salida\n",
        "        preprocessed_tweets | 'WriteOutput' >> beam.io.WriteToText(output_file)\n",
        "\n",
        "if __name__ == '__main__':\n",
        "    input_file = 'gs://practica-imple-algos/Dataset for Detection of Cyber-Trolls.json'  # Nombre del archivo de entrada\n",
        "    output_file = 'output.txt'  # Nombre del archivo de salida\n",
        "    run_preprocessing(input_file, output_file)'''"
      ]
    },
    {
      "cell_type": "code",
      "execution_count": null,
      "metadata": {
        "colab": {
          "base_uri": "https://localhost:8080/"
        },
        "id": "UJJ95dVXyhz4",
        "outputId": "c42701ce-666d-4a71-afe8-50b07418711d"
      },
      "outputs": [
        {
          "output_type": "stream",
          "name": "stdout",
          "text": [
            "Writing preprocess.py\n"
          ]
        }
      ],
      "source": [
        "'''%%writefile preprocess.py\n",
        "\n",
        "import apache_beam as beam\n",
        "from apache_beam.options.pipeline_options import PipelineOptions\n",
        "import json\n",
        "\n",
        "class PreprocessData(beam.DoFn):\n",
        "    def process(self, text):\n",
        "        content = text.get('content', '')\n",
        "        label = text['annotation']['label'][0] if 'annotation' in text and 'label' in text['annotation'] else None\n",
        "        return [{'content': content, 'label': label}]\n",
        "\n",
        "def run_preprocessing(input_file, output_file):\n",
        "    # Configurar las opciones del pipeline\n",
        "    options = PipelineOptions()\n",
        "\n",
        "    # Crear el pipeline\n",
        "    with beam.Pipeline(options=options) as pipeline:\n",
        "        tweets = (\n",
        "            pipeline\n",
        "            | 'ReadInput' >> beam.io.ReadFromText(input_file)\n",
        "            | 'ParseJSON' >> beam.Map(json.loads)\n",
        "            | 'PreprocessTweets' >> beam.ParDo(PreprocessData())\n",
        "        )\n",
        "\n",
        "        # Escribir los datos preprocesados en un archivo de salida\n",
        "        tweets | 'WriteOutput' >> beam.io.WriteToText(output_file)\n",
        "\n",
        "if __name__ == '__main__':\n",
        "    input_file = 'gs://practica-imple-algos/Dataset for Detection of Cyber-Trolls.json'  # Nombre del archivo de entrada\n",
        "    output_file = 'output.txt'  # Nombre del archivo de salida\n",
        "    run_preprocessing(input_file, output_file)'''"
      ]
    },
    {
      "cell_type": "code",
      "source": [
        "%%writefile preprocess.py\n",
        "\n",
        "import apache_beam as beam\n",
        "from apache_beam.options.pipeline_options import PipelineOptions\n",
        "import json\n",
        "import re\n",
        "from nltk.corpus import stopwords  # Importar stopwords desde nltk\n",
        "from nltk.stem import SnowballStemmer\n",
        "\n",
        "import nltk\n",
        "nltk.download('stopwords')\n",
        "\n",
        "STOP_WORDS = stopwords.words(\"english\")\n",
        "STEMMER = SnowballStemmer(\"english\")\n",
        "TEXT_CLEANING_RE = \"@\\S+|https?:\\S+|http?:\\S|[^A-Za-z0-9]+\"\n",
        "class PreprocessData(beam.DoFn):\n",
        "    def process(self, text):\n",
        "        content = text.get('content', '')\n",
        "        label = text['annotation']['label'][0] if 'annotation' in text and 'label' in text['annotation'] else None\n",
        "        processed_content = self.process_text(content)  # Procesar el texto\n",
        "        return [{'content': processed_content, 'label': label}]\n",
        "\n",
        "    def process_text(self, text):\n",
        "        # Remove link, user, and special characters\n",
        "        stem = False\n",
        "        text = re.sub(TEXT_CLEANING_RE, \" \", str(text).lower()).strip()\n",
        "        tokens = []\n",
        "        for token in text.split():\n",
        "            if token not in STOP_WORDS:\n",
        "                if stem:\n",
        "                    tokens.append(STEMMER.stem(token))\n",
        "                else:\n",
        "                    tokens.append(token)\n",
        "        return \" \".join(tokens)\n",
        "\n",
        "def run_preprocessing(input_file, output_file_gcs, output_file_local):\n",
        "    # Configurar las opciones del pipeline\n",
        "    options = PipelineOptions()\n",
        "\n",
        "    # Crear el pipeline\n",
        "    with beam.Pipeline(options=options) as pipeline:\n",
        "        tweets = (\n",
        "            pipeline\n",
        "            | 'ReadInput' >> beam.io.ReadFromText(input_file)\n",
        "            | 'ParseJSON' >> beam.Map(json.loads)\n",
        "            | 'PreprocessTweets' >> beam.ParDo(PreprocessData())\n",
        "        )\n",
        "        # Escribir los datos preprocesados en un archivo de salida en Google Cloud Storage\n",
        "        tweets | 'WriteOutputGCS' >> beam.io.WriteToText(output_file_gcs, num_shards=1, shard_name_template='')\n",
        "\n",
        "        # Escribir los datos preprocesados en un archivo de salida en el sistema local\n",
        "        tweets | 'WriteOutputLocal' >> beam.io.WriteToText(output_file_local, num_shards=1, shard_name_template='')\n",
        "\n",
        "if __name__ == '__main__':\n",
        "    input_file = 'gs://practica-imple-algos/Dataset for Detection of Cyber-Trolls.json'  # Nombre del archivo de entrada\n",
        "    output_file_gcs = 'gs://practica-imple-algos/dataset-cybertrolls_processed.json'  # Nombre del archivo de salida en GCS\n",
        "    output_file_local = '/content/twitter-cyber-trolls/dataset-cybertrolls_processed.json'  # Nombre del archivo de salida local\n",
        "    run_preprocessing(input_file, output_file_gcs, output_file_local)"
      ],
      "metadata": {
        "colab": {
          "base_uri": "https://localhost:8080/"
        },
        "id": "4F6dr1z_Lg9t",
        "outputId": "feb8256c-35f0-4c3d-a5dd-ce32d89935f6"
      },
      "execution_count": null,
      "outputs": [
        {
          "output_type": "stream",
          "name": "stdout",
          "text": [
            "Overwriting preprocess.py\n"
          ]
        }
      ]
    },
    {
      "cell_type": "markdown",
      "metadata": {
        "id": "qawuKC0k4B0e"
      },
      "source": [
        "Se proporciona un fichero `setup.py` necesario para ejecutar en DataFlow. Modificar la variable `REQUIRED_PACKAGES` con las dependencias que se hayan usado en el `requirements.txt`"
      ]
    },
    {
      "cell_type": "code",
      "execution_count": null,
      "metadata": {
        "colab": {
          "base_uri": "https://localhost:8080/"
        },
        "id": "n1MQvWsk_mVX",
        "outputId": "9865f8d2-9b4b-4b38-cd4b-bef00f4180bb"
      },
      "outputs": [
        {
          "output_type": "stream",
          "name": "stdout",
          "text": [
            "Writing setup.py\n"
          ]
        }
      ],
      "source": [
        "%%writefile setup.py\n",
        "\n",
        "import setuptools\n",
        "\n",
        "REQUIRED_PACKAGES = [\n",
        "  \"apache-beam[gcp]==2.24.0\",\n",
        "  \"tensorflow==2.8.0\",\n",
        "  \"gensim==3.6.0\",\n",
        "  \"fsspec==0.8.4\",\n",
        "  \"gcsfs==0.7.1\",\n",
        "  \"numpy==1.20.0\"\n",
        "]\n",
        "\n",
        "setuptools.setup(\n",
        "    name=\"twitchstreaming\",\n",
        "    version=\"0.0.1\",\n",
        "    install_requires=REQUIRED_PACKAGES,\n",
        "    packages=setuptools.find_packages(),\n",
        "    include_package_data=True,\n",
        "    description=\"Troll detection\",\n",
        ")\n"
      ]
    },
    {
      "cell_type": "markdown",
      "metadata": {
        "id": "hxYFYMy-o55h"
      },
      "source": [
        "Me creo una copia por si hubiera algún error en el procesamiento (buena práctica):"
      ]
    },
    {
      "cell_type": "code",
      "execution_count": null,
      "metadata": {
        "colab": {
          "base_uri": "https://localhost:8080/"
        },
        "id": "KlBCbvSQpBUK",
        "outputId": "8f143569-41bf-476d-97be-18864d2a81a0"
      },
      "outputs": [
        {
          "output_type": "stream",
          "name": "stdout",
          "text": [
            "Downloading...\n",
            "From: https://drive.google.com/uc?id=1dTaKofC9ZcMWa5cVtGLDFkEnbc4hiPJr\n",
            "To: /content/twitter-cyber-trolls/dataset-cybertrolls.json\n",
            "\r  0% 0.00/2.76M [00:00<?, ?B/s]\r100% 2.76M/2.76M [00:00<00:00, 111MB/s]\n",
            "BucketNotFoundException: 404 gs://gs: bucket does not exist.\n"
          ]
        }
      ],
      "source": [
        "! gdown \"1dTaKofC9ZcMWa5cVtGLDFkEnbc4hiPJr\"\n",
        "! gsutil cp dataset-cybertrolls.json gs://$WORK_DIR/data.json\n"
      ]
    },
    {
      "cell_type": "code",
      "execution_count": null,
      "metadata": {
        "id": "EhoHHZEn1lrR"
      },
      "outputs": [],
      "source": [
        "import os\n",
        "WORK_DIR = os.getcwd()"
      ]
    },
    {
      "cell_type": "code",
      "source": [
        "WORK_DIR"
      ],
      "metadata": {
        "colab": {
          "base_uri": "https://localhost:8080/",
          "height": 36
        },
        "id": "tdXWFOiOC4IG",
        "outputId": "07c124e9-3ec0-4806-ca28-b16514731b7e"
      },
      "execution_count": null,
      "outputs": [
        {
          "output_type": "execute_result",
          "data": {
            "text/plain": [
              "'/content/twitter-cyber-trolls'"
            ],
            "application/vnd.google.colaboratory.intrinsic+json": {
              "type": "string"
            }
          },
          "metadata": {},
          "execution_count": 82
        }
      ]
    },
    {
      "cell_type": "code",
      "source": [
        "!ls\n"
      ],
      "metadata": {
        "colab": {
          "base_uri": "https://localhost:8080/"
        },
        "id": "Ug85h65aEVTf",
        "outputId": "79e601a3-d7ff-4ea8-eb53-ec4fef027f87"
      },
      "execution_count": null,
      "outputs": [
        {
          "output_type": "stream",
          "name": "stdout",
          "text": [
            "dataset-cybertrolls.json   requirements.txt  test_data.json   trainer\n",
            "output.txt-00000-of-00001  setup.py\t     train_data.csv   val_data.csv\n",
            "preprocess.py\t\t   test_data.csv     train_data.json  val_data.json\n"
          ]
        }
      ]
    },
    {
      "cell_type": "markdown",
      "metadata": {
        "id": "jLDlz_fL4UJA"
      },
      "source": [
        "### Validación preprocess train en local\n",
        "Con el comando mostrado a continuación se valida la correcta generación de los datos de entrenamiento y validación en local."
      ]
    },
    {
      "cell_type": "code",
      "source": [
        "!python3 preprocess.py \\\n",
        "  --input \"gs://practica-imple-algos/Dataset for Detection of Cyber-Trolls.json\" \\\n",
        "  --output gs://practica-imple-algos/dataset-cybertrolls_processed.json\n"
      ],
      "metadata": {
        "colab": {
          "base_uri": "https://localhost:8080/"
        },
        "id": "4uYFhgi9M_GS",
        "outputId": "e7a15441-eba0-4aa3-fe00-9f12dfeaaa08"
      },
      "execution_count": null,
      "outputs": [
        {
          "output_type": "stream",
          "name": "stdout",
          "text": [
            "[nltk_data] Downloading package stopwords to /root/nltk_data...\n",
            "[nltk_data]   Package stopwords is already up-to-date!\n",
            "WARNING:google.auth._default:No project ID could be determined. Consider running `gcloud config set project` or setting the GOOGLE_CLOUD_PROJECT environment variable\n",
            "WARNING:apache_beam.options.pipeline_options:Discarding unparseable args: ['--input', 'gs://practica-imple-algos/Dataset for Detection of Cyber-Trolls.json']\n"
          ]
        }
      ]
    },
    {
      "cell_type": "code",
      "source": [
        "!ls\n"
      ],
      "metadata": {
        "colab": {
          "base_uri": "https://localhost:8080/"
        },
        "id": "lZfrzx0UQGwP",
        "outputId": "7d1f6a0c-7fe8-4dec-8594-5bb027588961"
      },
      "execution_count": null,
      "outputs": [
        {
          "output_type": "stream",
          "name": "stdout",
          "text": [
            "dataset-cybertrolls.json\t\t\t   preprocess.py     test_data.json   val_data.csv\n",
            "dataset-cybertrolls_processed.json\t\t   requirements.txt  train_data.csv   val_data.json\n",
            "dataset-cybertrolls_processed.json-00000-of-00001  setup.py\t     train_data.json\n",
            "output.txt-00000-of-00001\t\t\t   test_data.csv     trainer\n"
          ]
        }
      ]
    },
    {
      "cell_type": "markdown",
      "source": [],
      "metadata": {
        "id": "mNQjnCNJOjbF"
      }
    },
    {
      "cell_type": "code",
      "source": [
        "import ast\n",
        "from sklearn.model_selection import train_test_split\n",
        "\n",
        "dataset = []\n",
        "with open('/content/twitter-cyber-trolls/dataset-cybertrolls_processed.json') as file:\n",
        "    for line in file:\n",
        "        data = ast.literal_eval(line)\n",
        "        # Aplicar preprocesamiento al contenido del texto\n",
        "        data['content'] = data['content']\n",
        "        # Agregar el objeto JSON preprocesado a la lista\n",
        "        dataset.append(data)\n",
        "\n",
        "train_data, test_data = train_test_split(dataset, test_size=0.2, random_state=42)\n",
        "val_data, test_data = train_test_split(test_data, test_size=0.5, random_state=42)"
      ],
      "metadata": {
        "id": "ybP1vYNdMKuV"
      },
      "execution_count": null,
      "outputs": []
    },
    {
      "cell_type": "code",
      "source": [
        "import pandas as pd\n",
        "\n",
        "# Convertir a DataFrame\n",
        "train_df = pd.DataFrame(train_data)\n",
        "val_df = pd.DataFrame(val_data)\n",
        "test_df = pd.DataFrame(test_data)\n",
        "\n",
        "# Guardar en CSV\n",
        "train_df.to_json('/content/twitter-cyber-trolls/train_data.json', orient='records', lines=True)\n",
        "val_df.to_json('/content/twitter-cyber-trolls/val_data.json', orient='records', lines=True)\n",
        "test_df.to_json('/content/twitter-cyber-trolls/test_data.json', orient='records', lines=True)"
      ],
      "metadata": {
        "id": "7G5PsyYQFXCY"
      },
      "execution_count": null,
      "outputs": []
    },
    {
      "cell_type": "code",
      "source": [
        "from google.colab import auth\n",
        "from google.cloud import storage\n",
        "\n",
        "# Autenticar con Google Cloud\n",
        "auth.authenticate_user()\n",
        "\n",
        "# Crear un cliente de Cloud Storage\n",
        "client = storage.Client()\n",
        "\n",
        "# Nombre del bucket y la ruta en GCS\n",
        "bucket_name = 'practica-imple-algos'\n",
        "blob_path = 'twitter-cyber-trolls/'\n",
        "\n",
        "# Subir los archivos al bucket en GCS\n",
        "for filename in ['train_data.json', 'val_data.json', 'test_data.json']:\n",
        "    blob = client.bucket(bucket_name).blob(blob_path + filename)\n",
        "    with open('/content/twitter-cyber-trolls/' + filename, 'rb') as f:\n",
        "        blob.upload_from_file(f)\n",
        "    print(f'{filename} subido exitosamente a {blob_path}{filename}')"
      ],
      "metadata": {
        "colab": {
          "base_uri": "https://localhost:8080/"
        },
        "id": "M7qJDum4FmV0",
        "outputId": "8542bd60-6cce-4b12-8be3-b67907d2a91e"
      },
      "execution_count": null,
      "outputs": [
        {
          "output_type": "stream",
          "name": "stdout",
          "text": [
            "train_data.json subido exitosamente a twitter-cyber-trolls/train_data.json\n",
            "val_data.json subido exitosamente a twitter-cyber-trolls/val_data.json\n",
            "test_data.json subido exitosamente a twitter-cyber-trolls/test_data.json\n"
          ]
        }
      ]
    },
    {
      "cell_type": "code",
      "execution_count": null,
      "metadata": {
        "colab": {
          "base_uri": "https://localhost:8080/"
        },
        "id": "yYlNdGsWYzVQ",
        "outputId": "c55939d4-9fa1-44e2-8df2-9d8ebdb4289f"
      },
      "outputs": [
        {
          "output_type": "stream",
          "name": "stdout",
          "text": [
            "[nltk_data] Downloading package stopwords to /root/nltk_data...\n",
            "[nltk_data]   Package stopwords is already up-to-date!\n",
            "WARNING:google.auth._default:No project ID could be determined. Consider running `gcloud config set project` or setting the GOOGLE_CLOUD_PROJECT environment variable\n",
            "WARNING:apache_beam.options.pipeline_options:Discarding unparseable args: ['--work-dir', '/content/twitter-cyber-trolls', '--input', '/content/twitter-cyber-trolls/train_data.json', '--mode', 'train']\n",
            "WARNING:apache_beam.io.filebasedsink:Deleting 1 existing files in target path matching: \n",
            "WARNING:apache_beam.io.filebasedsink:Deleting 1 existing files in target path matching: \n"
          ]
        }
      ],
      "source": [
        "! python3 preprocess.py \\\n",
        "  --work-dir $WORK_DIR \\\n",
        "  --runner DirectRunner \\\n",
        "  --input $WORK_DIR/train_data.json \\\n",
        "  --output $WORK_DIR/transformed_data \\\n",
        "  --mode train\n",
        "\n"
      ]
    },
    {
      "cell_type": "markdown",
      "metadata": {
        "id": "wkkG271a4qnA"
      },
      "source": [
        "### Validación preprocess test en local\n",
        "\n",
        "Con el comando mostrado a continuación se valida la correcta generación de los datos de test en local."
      ]
    },
    {
      "cell_type": "code",
      "execution_count": null,
      "metadata": {
        "colab": {
          "base_uri": "https://localhost:8080/"
        },
        "id": "l2kkKbjPwei_",
        "outputId": "fad5a419-df22-4cde-e879-48f48b10eb70"
      },
      "outputs": [
        {
          "output_type": "stream",
          "name": "stdout",
          "text": [
            "[nltk_data] Downloading package stopwords to /root/nltk_data...\n",
            "[nltk_data]   Package stopwords is already up-to-date!\n",
            "WARNING:google.auth._default:No project ID could be determined. Consider running `gcloud config set project` or setting the GOOGLE_CLOUD_PROJECT environment variable\n",
            "WARNING:apache_beam.options.pipeline_options:Discarding unparseable args: ['--work-dir', '/content/twitter-cyber-trolls', '--input', '/content/twitter-cyber-trolls/test_data.json', '--mode', 'test']\n",
            "WARNING:apache_beam.io.filebasedsink:Deleting 1 existing files in target path matching: \n",
            "WARNING:apache_beam.io.filebasedsink:Deleting 1 existing files in target path matching: \n"
          ]
        }
      ],
      "source": [
        "! python3 preprocess.py \\\n",
        "  --work-dir $WORK_DIR \\\n",
        "  --runner DirectRunner \\\n",
        "  --input $WORK_DIR/test_data.json \\\n",
        "  --output $WORK_DIR/data/transformed_data \\\n",
        "  --mode test"
      ]
    },
    {
      "cell_type": "markdown",
      "metadata": {
        "id": "geZM9Sbj45LK"
      },
      "source": [
        "## Segundo ejercicio\n",
        "\n",
        "Desarrollar una tarea de entrenamiento para los datos preprocesados. Requisitos:\n",
        "\n",
        "- Soportar ejecuciones en local usando el SDK de AI-Platform y ejecuciones en GCP con el mismo código."
      ]
    },
    {
      "cell_type": "markdown",
      "metadata": {
        "id": "OMUwXgm_5el-"
      },
      "source": [
        "Se crea el directorio donde trabajaremos:"
      ]
    },
    {
      "cell_type": "code",
      "execution_count": null,
      "metadata": {
        "colab": {
          "base_uri": "https://localhost:8080/"
        },
        "id": "HMi8dI1gLoIc",
        "outputId": "2ff6a88c-8e45-4e84-b489-264f5b990d4f"
      },
      "outputs": [
        {
          "output_type": "stream",
          "name": "stdout",
          "text": [
            "mkdir: cannot create directory ‘/content/batch/trainer’: No such file or directory\n"
          ]
        }
      ],
      "source": [
        "#%mkdir /content/batch/trainer"
      ]
    },
    {
      "cell_type": "code",
      "source": [
        "%mkdir -p trainer"
      ],
      "metadata": {
        "id": "4cpVhFgoDc5Y"
      },
      "execution_count": null,
      "outputs": []
    },
    {
      "cell_type": "code",
      "execution_count": null,
      "metadata": {
        "colab": {
          "base_uri": "https://localhost:8080/"
        },
        "id": "3dJyMXTuNPwo",
        "outputId": "822c9d30-43bc-4720-9824-5dec3ad48b4e"
      },
      "outputs": [
        {
          "output_type": "stream",
          "name": "stdout",
          "text": [
            "Writing trainer/__init__.py\n"
          ]
        }
      ],
      "source": [
        "%%writefile trainer/__init__.py\n",
        "\n",
        "version = \"0.1.0\""
      ]
    },
    {
      "cell_type": "code",
      "source": [
        "%%writefile trainer/__init__.py\n",
        "version = \"0.1.0\"\n",
        "import os\n",
        "import numpy as np\n",
        "import pandas as pd\n",
        "\n",
        "class PreprocessedDataTrainer:\n",
        "    def __init__(self):\n",
        "        self.model = None\n",
        "\n",
        "    def train(self, train_data):\n",
        "        # Lógica de entrenamiento del modelo\n",
        "        # Aquí puedes utilizar cualquier algoritmo de aprendizaje automático\n",
        "        # Por ejemplo, podrías usar una regresión logística, una red neuronal, etc.\n",
        "        pass\n",
        "\n",
        "    def evaluate(self, test_data):\n",
        "        # Lógica de evaluación del modelo\n",
        "        # Aquí evalúas el rendimiento del modelo entrenado utilizando los datos de prueba\n",
        "        pass\n",
        "\n",
        "if __name__ == '__main__':\n",
        "    # Definir las rutas de los datos de entrada y salida\n",
        "    local_train_data_path = '/content/twitter-cyber-trolls/train_data.json'\n",
        "    local_test_data_path = '/content/twitter-cyber-trolls/test_data.json'\n",
        "    gcs_train_data_path = 'gs://practica-imple-algos/twitter-cyber-trolls/train_data.json'\n",
        "    gcs_test_data_path = 'gs://practica-imple-algos/twitter-cyber-trolls/test_data.json'\n",
        "    local_output_path = '/content/twitter-cyber-trolls/'\n",
        "    gcs_output_path = 'gs://practica-imple-algos/twitter-cyber-trolls/'\n",
        "\n",
        "    # Cargar los datos preprocesados\n",
        "    train_data = pd.read_json(local_train_data_path)\n",
        "    test_data = pd.read_json(local_test_data_path)\n",
        "\n",
        "    # Inicializar el entrenador y entrenar el modelo\n",
        "    trainer = PreprocessedDataTrainer()\n",
        "    trainer.train(train_data)\n",
        "\n",
        "    # Evaluar el modelo entrenado\n",
        "    evaluation_result = trainer.evaluate(test_data)\n",
        "\n",
        "    # Guardar el modelo entrenado en local (opcional)\n",
        "    # Si deseas guardar el modelo entrenado para su uso posterior, puedes hacerlo aquí\n",
        "    # Por ejemplo, puedes utilizar la biblioteca joblib o pickle para guardar el modelo en un archivo\n",
        "\n",
        "    # Imprimir los resultados de la evaluación (opcional)\n",
        "    print('Resultado de la evaluación:', evaluation_result)\n",
        "\n",
        "    # Guardar los resultados de la evaluación en local\n",
        "    evaluation_result.to_json(os.path.join(local_output_path, 'evaluation_result.json'))\n",
        "\n",
        "\n",
        "    evaluation_result.to_json(os.path.join(gcs_output_path, 'evaluation_result.json'))"
      ],
      "metadata": {
        "colab": {
          "base_uri": "https://localhost:8080/"
        },
        "id": "aMcAKMUHViwG",
        "outputId": "ddfe53e2-e479-4bdb-ddcb-81a911233cb4"
      },
      "execution_count": null,
      "outputs": [
        {
          "output_type": "stream",
          "name": "stdout",
          "text": [
            "Overwriting trainer/__init__.py\n"
          ]
        }
      ]
    },
    {
      "cell_type": "markdown",
      "metadata": {
        "id": "8axPHdHX6d9W"
      },
      "source": [
        "### Validación Train en local\n",
        "\n",
        "Con el comando mostrado a continuación se valida el correcto entrenamiento del modelo usando los datos preprocesados del apartado anterior."
      ]
    },
    {
      "cell_type": "code",
      "execution_count": null,
      "metadata": {
        "colab": {
          "base_uri": "https://localhost:8080/"
        },
        "id": "m9997ZzsLmq-",
        "outputId": "7ae495b6-fcd7-481d-c791-bd78e41cef78"
      },
      "outputs": [
        {
          "output_type": "stream",
          "name": "stdout",
          "text": [
            "Updated property [ml_engine/local_python].\n",
            "/usr/bin/python3: No module named trainer.task\n"
          ]
        }
      ],
      "source": [
        "# Explicitly tell `gcloud ai-platform local train` to use Python 3\n",
        "! gcloud config set ml_engine/local_python $(which python3)\n",
        "\n",
        "# This is similar to `python -m trainer.task --job-dir local-training-output`\n",
        "# but it better replicates the AI Platform environment, especially for\n",
        "# distributed training (not applicable here).\n",
        "! gcloud ai-platform local train \\\n",
        "  --package-path trainer \\\n",
        "  --module-name trainer.task \\\n",
        "  -- \\\n",
        "  --work-dir $WORK_DIR \\\n",
        "  --epochs 1"
      ]
    },
    {
      "cell_type": "code",
      "source": [
        "!python3 trainer/__init__.py"
      ],
      "metadata": {
        "colab": {
          "base_uri": "https://localhost:8080/"
        },
        "id": "wzfrJKN0V42e",
        "outputId": "b783215c-7b24-4b7e-fb15-409ee4137b26"
      },
      "execution_count": null,
      "outputs": [
        {
          "output_type": "stream",
          "name": "stdout",
          "text": [
            "Traceback (most recent call last):\n",
            "  File \"/content/twitter-cyber-trolls/trainer/__init__.py\", line 31, in <module>\n",
            "    train_data = pd.read_json(local_train_data_path)\n",
            "  File \"/usr/local/lib/python3.10/dist-packages/pandas/io/json/_json.py\", line 784, in read_json\n",
            "    return json_reader.read()\n",
            "  File \"/usr/local/lib/python3.10/dist-packages/pandas/io/json/_json.py\", line 975, in read\n",
            "    obj = self._get_object_parser(self.data)\n",
            "  File \"/usr/local/lib/python3.10/dist-packages/pandas/io/json/_json.py\", line 1001, in _get_object_parser\n",
            "    obj = FrameParser(json, **kwargs).parse()\n",
            "  File \"/usr/local/lib/python3.10/dist-packages/pandas/io/json/_json.py\", line 1134, in parse\n",
            "    self._parse()\n",
            "  File \"/usr/local/lib/python3.10/dist-packages/pandas/io/json/_json.py\", line 1320, in _parse\n",
            "    loads(json, precise_float=self.precise_float), dtype=None\n",
            "ValueError: Trailing data\n"
          ]
        }
      ]
    },
    {
      "cell_type": "markdown",
      "metadata": {
        "id": "0nhlkcjn62Zo"
      },
      "source": [
        "## Tercer ejercicio\n",
        "\n",
        "Desarrollar un pipeline de inferencia utilizando Apache Beam para generar predicciones usando los modelos generados en el apartado anterior así como los datos de test generados en el primer ejercicio.\n"
      ]
    },
    {
      "cell_type": "code",
      "execution_count": null,
      "metadata": {
        "colab": {
          "base_uri": "https://localhost:8080/",
          "height": 671
        },
        "id": "eHBpLXB-OmjT",
        "outputId": "ac5ac418-8bf9-4644-b0ff-8469b8228897"
      },
      "outputs": [
        {
          "output_type": "stream",
          "name": "stderr",
          "text": [
            "WARNING:apache_beam.runners.interactive.interactive_environment:Dependencies required for Interactive Beam PCollection visualization are not available, please use: `pip install apache-beam[interactive]` to install necessary dependencies to enable all data visualization features.\n"
          ]
        },
        {
          "output_type": "display_data",
          "data": {
            "application/javascript": [
              "\n",
              "        if (typeof window.interactive_beam_jquery == 'undefined') {\n",
              "          var jqueryScript = document.createElement('script');\n",
              "          jqueryScript.src = 'https://code.jquery.com/jquery-3.4.1.slim.min.js';\n",
              "          jqueryScript.type = 'text/javascript';\n",
              "          jqueryScript.onload = function() {\n",
              "            var datatableScript = document.createElement('script');\n",
              "            datatableScript.src = 'https://cdn.datatables.net/1.10.20/js/jquery.dataTables.min.js';\n",
              "            datatableScript.type = 'text/javascript';\n",
              "            datatableScript.onload = function() {\n",
              "              window.interactive_beam_jquery = jQuery.noConflict(true);\n",
              "              window.interactive_beam_jquery(document).ready(function($){\n",
              "                \n",
              "              });\n",
              "            }\n",
              "            document.head.appendChild(datatableScript);\n",
              "          };\n",
              "          document.head.appendChild(jqueryScript);\n",
              "        } else {\n",
              "          window.interactive_beam_jquery(document).ready(function($){\n",
              "            \n",
              "          });\n",
              "        }"
            ]
          },
          "metadata": {}
        },
        {
          "output_type": "stream",
          "name": "stderr",
          "text": [
            "WARNING:apache_beam.options.pipeline_options:Discarding unparseable args: ['-f', '/root/.local/share/jupyter/runtime/kernel-1f0f7d30-5a9b-48dd-9f90-62465156d801.json']\n",
            "WARNING:apache_beam.options.pipeline_options:Discarding unparseable args: ['-f', '/root/.local/share/jupyter/runtime/kernel-1f0f7d30-5a9b-48dd-9f90-62465156d801.json']\n",
            "ERROR:apache_beam.runners.common:json.decoder.JSONDecodeError: Expecting value: line 1 column 1 (char 0) [while running 'ParseJSON']\n",
            "Traceback (most recent call last):\n",
            "  File \"apache_beam/runners/common.py\", line 1435, in apache_beam.runners.common.DoFnRunner.process\n",
            "  File \"apache_beam/runners/common.py\", line 637, in apache_beam.runners.common.SimpleInvoker.invoke_process\n",
            "  File \"/usr/local/lib/python3.10/dist-packages/apache_beam/transforms/core.py\", line 1961, in <lambda>\n",
            "    wrapper = lambda x, *args, **kwargs: [fn(x, *args, **kwargs)]\n",
            "  File \"/usr/lib/python3.10/json/__init__.py\", line 346, in loads\n",
            "    return _default_decoder.decode(s)\n",
            "  File \"/usr/lib/python3.10/json/decoder.py\", line 337, in decode\n",
            "    obj, end = self.raw_decode(s, idx=_w(s, 0).end())\n",
            "  File \"/usr/lib/python3.10/json/decoder.py\", line 355, in raw_decode\n",
            "    raise JSONDecodeError(\"Expecting value\", s, err.value) from None\n",
            "json.decoder.JSONDecodeError: Expecting value: line 1 column 1 (char 0)\n"
          ]
        },
        {
          "output_type": "error",
          "ename": "RuntimeError",
          "evalue": "json.decoder.JSONDecodeError: Expecting value: line 1 column 1 (char 0) [while running 'ParseJSON']",
          "traceback": [
            "\u001b[0;31m---------------------------------------------------------------------------\u001b[0m",
            "\u001b[0;31mJSONDecodeError\u001b[0m                           Traceback (most recent call last)",
            "\u001b[0;32m/usr/local/lib/python3.10/dist-packages/apache_beam/runners/common.cpython-310-x86_64-linux-gnu.so\u001b[0m in \u001b[0;36mapache_beam.runners.common.DoFnRunner.process\u001b[0;34m()\u001b[0m\n",
            "\u001b[0;32m/usr/local/lib/python3.10/dist-packages/apache_beam/runners/common.cpython-310-x86_64-linux-gnu.so\u001b[0m in \u001b[0;36mapache_beam.runners.common.SimpleInvoker.invoke_process\u001b[0;34m()\u001b[0m\n",
            "\u001b[0;32m/usr/local/lib/python3.10/dist-packages/apache_beam/transforms/core.py\u001b[0m in \u001b[0;36m<lambda>\u001b[0;34m(x, *args, **kwargs)\u001b[0m\n\u001b[1;32m   1960\u001b[0m   \u001b[0;32mif\u001b[0m \u001b[0mfn_takes_side_inputs\u001b[0m\u001b[0;34m(\u001b[0m\u001b[0mfn\u001b[0m\u001b[0;34m)\u001b[0m\u001b[0;34m:\u001b[0m\u001b[0;34m\u001b[0m\u001b[0;34m\u001b[0m\u001b[0m\n\u001b[0;32m-> 1961\u001b[0;31m     \u001b[0mwrapper\u001b[0m \u001b[0;34m=\u001b[0m \u001b[0;32mlambda\u001b[0m \u001b[0mx\u001b[0m\u001b[0;34m,\u001b[0m \u001b[0;34m*\u001b[0m\u001b[0margs\u001b[0m\u001b[0;34m,\u001b[0m \u001b[0;34m**\u001b[0m\u001b[0mkwargs\u001b[0m\u001b[0;34m:\u001b[0m \u001b[0;34m[\u001b[0m\u001b[0mfn\u001b[0m\u001b[0;34m(\u001b[0m\u001b[0mx\u001b[0m\u001b[0;34m,\u001b[0m \u001b[0;34m*\u001b[0m\u001b[0margs\u001b[0m\u001b[0;34m,\u001b[0m \u001b[0;34m**\u001b[0m\u001b[0mkwargs\u001b[0m\u001b[0;34m)\u001b[0m\u001b[0;34m]\u001b[0m\u001b[0;34m\u001b[0m\u001b[0;34m\u001b[0m\u001b[0m\n\u001b[0m\u001b[1;32m   1962\u001b[0m   \u001b[0;32melse\u001b[0m\u001b[0;34m:\u001b[0m\u001b[0;34m\u001b[0m\u001b[0;34m\u001b[0m\u001b[0m\n",
            "\u001b[0;32m/usr/lib/python3.10/json/__init__.py\u001b[0m in \u001b[0;36mloads\u001b[0;34m(s, cls, object_hook, parse_float, parse_int, parse_constant, object_pairs_hook, **kw)\u001b[0m\n\u001b[1;32m    345\u001b[0m             parse_constant is None and object_pairs_hook is None and not kw):\n\u001b[0;32m--> 346\u001b[0;31m         \u001b[0;32mreturn\u001b[0m \u001b[0m_default_decoder\u001b[0m\u001b[0;34m.\u001b[0m\u001b[0mdecode\u001b[0m\u001b[0;34m(\u001b[0m\u001b[0ms\u001b[0m\u001b[0;34m)\u001b[0m\u001b[0;34m\u001b[0m\u001b[0;34m\u001b[0m\u001b[0m\n\u001b[0m\u001b[1;32m    347\u001b[0m     \u001b[0;32mif\u001b[0m \u001b[0mcls\u001b[0m \u001b[0;32mis\u001b[0m \u001b[0;32mNone\u001b[0m\u001b[0;34m:\u001b[0m\u001b[0;34m\u001b[0m\u001b[0;34m\u001b[0m\u001b[0m\n",
            "\u001b[0;32m/usr/lib/python3.10/json/decoder.py\u001b[0m in \u001b[0;36mdecode\u001b[0;34m(self, s, _w)\u001b[0m\n\u001b[1;32m    336\u001b[0m         \"\"\"\n\u001b[0;32m--> 337\u001b[0;31m         \u001b[0mobj\u001b[0m\u001b[0;34m,\u001b[0m \u001b[0mend\u001b[0m \u001b[0;34m=\u001b[0m \u001b[0mself\u001b[0m\u001b[0;34m.\u001b[0m\u001b[0mraw_decode\u001b[0m\u001b[0;34m(\u001b[0m\u001b[0ms\u001b[0m\u001b[0;34m,\u001b[0m \u001b[0midx\u001b[0m\u001b[0;34m=\u001b[0m\u001b[0m_w\u001b[0m\u001b[0;34m(\u001b[0m\u001b[0ms\u001b[0m\u001b[0;34m,\u001b[0m \u001b[0;36m0\u001b[0m\u001b[0;34m)\u001b[0m\u001b[0;34m.\u001b[0m\u001b[0mend\u001b[0m\u001b[0;34m(\u001b[0m\u001b[0;34m)\u001b[0m\u001b[0;34m)\u001b[0m\u001b[0;34m\u001b[0m\u001b[0;34m\u001b[0m\u001b[0m\n\u001b[0m\u001b[1;32m    338\u001b[0m         \u001b[0mend\u001b[0m \u001b[0;34m=\u001b[0m \u001b[0m_w\u001b[0m\u001b[0;34m(\u001b[0m\u001b[0ms\u001b[0m\u001b[0;34m,\u001b[0m \u001b[0mend\u001b[0m\u001b[0;34m)\u001b[0m\u001b[0;34m.\u001b[0m\u001b[0mend\u001b[0m\u001b[0;34m(\u001b[0m\u001b[0;34m)\u001b[0m\u001b[0;34m\u001b[0m\u001b[0;34m\u001b[0m\u001b[0m\n",
            "\u001b[0;32m/usr/lib/python3.10/json/decoder.py\u001b[0m in \u001b[0;36mraw_decode\u001b[0;34m(self, s, idx)\u001b[0m\n\u001b[1;32m    354\u001b[0m         \u001b[0;32mexcept\u001b[0m \u001b[0mStopIteration\u001b[0m \u001b[0;32mas\u001b[0m \u001b[0merr\u001b[0m\u001b[0;34m:\u001b[0m\u001b[0;34m\u001b[0m\u001b[0;34m\u001b[0m\u001b[0m\n\u001b[0;32m--> 355\u001b[0;31m             \u001b[0;32mraise\u001b[0m \u001b[0mJSONDecodeError\u001b[0m\u001b[0;34m(\u001b[0m\u001b[0;34m\"Expecting value\"\u001b[0m\u001b[0;34m,\u001b[0m \u001b[0ms\u001b[0m\u001b[0;34m,\u001b[0m \u001b[0merr\u001b[0m\u001b[0;34m.\u001b[0m\u001b[0mvalue\u001b[0m\u001b[0;34m)\u001b[0m \u001b[0;32mfrom\u001b[0m \u001b[0;32mNone\u001b[0m\u001b[0;34m\u001b[0m\u001b[0;34m\u001b[0m\u001b[0m\n\u001b[0m\u001b[1;32m    356\u001b[0m         \u001b[0;32mreturn\u001b[0m \u001b[0mobj\u001b[0m\u001b[0;34m,\u001b[0m \u001b[0mend\u001b[0m\u001b[0;34m\u001b[0m\u001b[0;34m\u001b[0m\u001b[0m\n",
            "\u001b[0;31mJSONDecodeError\u001b[0m: Expecting value: line 1 column 1 (char 0)",
            "\nDuring handling of the above exception, another exception occurred:\n",
            "\u001b[0;31mRuntimeError\u001b[0m                              Traceback (most recent call last)",
            "\u001b[0;32m<ipython-input-88-8347d6973a7b>\u001b[0m in \u001b[0;36m<cell line: 29>\u001b[0;34m()\u001b[0m\n\u001b[1;32m     32\u001b[0m     \u001b[0mmodel_path\u001b[0m \u001b[0;34m=\u001b[0m \u001b[0;34m'gs://practica-imple-algos/twitter-cyber-trolls/model.h5'\u001b[0m\u001b[0;34m\u001b[0m\u001b[0;34m\u001b[0m\u001b[0m\n\u001b[1;32m     33\u001b[0m \u001b[0;34m\u001b[0m\u001b[0m\n\u001b[0;32m---> 34\u001b[0;31m     \u001b[0minference_pipeline\u001b[0m\u001b[0;34m(\u001b[0m\u001b[0minput_file\u001b[0m\u001b[0;34m,\u001b[0m \u001b[0moutput_file\u001b[0m\u001b[0;34m,\u001b[0m \u001b[0mmodel_path\u001b[0m\u001b[0;34m)\u001b[0m\u001b[0;34m\u001b[0m\u001b[0;34m\u001b[0m\u001b[0m\n\u001b[0m",
            "\u001b[0;32m<ipython-input-88-8347d6973a7b>\u001b[0m in \u001b[0;36minference_pipeline\u001b[0;34m(input_file, output_file, model_path)\u001b[0m\n\u001b[1;32m     17\u001b[0m \u001b[0;34m\u001b[0m\u001b[0m\n\u001b[1;32m     18\u001b[0m     \u001b[0;31m# Define el pipeline de Apache Beam\u001b[0m\u001b[0;34m\u001b[0m\u001b[0;34m\u001b[0m\u001b[0m\n\u001b[0;32m---> 19\u001b[0;31m     \u001b[0;32mwith\u001b[0m \u001b[0mbeam\u001b[0m\u001b[0;34m.\u001b[0m\u001b[0mPipeline\u001b[0m\u001b[0;34m(\u001b[0m\u001b[0moptions\u001b[0m\u001b[0;34m=\u001b[0m\u001b[0mpipeline_options\u001b[0m\u001b[0;34m)\u001b[0m \u001b[0;32mas\u001b[0m \u001b[0mpipeline\u001b[0m\u001b[0;34m:\u001b[0m\u001b[0;34m\u001b[0m\u001b[0;34m\u001b[0m\u001b[0m\n\u001b[0m\u001b[1;32m     20\u001b[0m         predictions = (\n\u001b[1;32m     21\u001b[0m             \u001b[0mpipeline\u001b[0m\u001b[0;34m\u001b[0m\u001b[0;34m\u001b[0m\u001b[0m\n",
            "\u001b[0;32m/usr/local/lib/python3.10/dist-packages/apache_beam/pipeline.py\u001b[0m in \u001b[0;36m__exit__\u001b[0;34m(self, exc_type, exc_val, exc_tb)\u001b[0m\n\u001b[1;32m    610\u001b[0m     \u001b[0;32mtry\u001b[0m\u001b[0;34m:\u001b[0m\u001b[0;34m\u001b[0m\u001b[0;34m\u001b[0m\u001b[0m\n\u001b[1;32m    611\u001b[0m       \u001b[0;32mif\u001b[0m \u001b[0;32mnot\u001b[0m \u001b[0mexc_type\u001b[0m\u001b[0;34m:\u001b[0m\u001b[0;34m\u001b[0m\u001b[0;34m\u001b[0m\u001b[0m\n\u001b[0;32m--> 612\u001b[0;31m         \u001b[0mself\u001b[0m\u001b[0;34m.\u001b[0m\u001b[0mresult\u001b[0m \u001b[0;34m=\u001b[0m \u001b[0mself\u001b[0m\u001b[0;34m.\u001b[0m\u001b[0mrun\u001b[0m\u001b[0;34m(\u001b[0m\u001b[0;34m)\u001b[0m\u001b[0;34m\u001b[0m\u001b[0;34m\u001b[0m\u001b[0m\n\u001b[0m\u001b[1;32m    613\u001b[0m         \u001b[0mself\u001b[0m\u001b[0;34m.\u001b[0m\u001b[0mresult\u001b[0m\u001b[0;34m.\u001b[0m\u001b[0mwait_until_finish\u001b[0m\u001b[0;34m(\u001b[0m\u001b[0;34m)\u001b[0m\u001b[0;34m\u001b[0m\u001b[0;34m\u001b[0m\u001b[0m\n\u001b[1;32m    614\u001b[0m     \u001b[0;32mfinally\u001b[0m\u001b[0;34m:\u001b[0m\u001b[0;34m\u001b[0m\u001b[0;34m\u001b[0m\u001b[0m\n",
            "\u001b[0;32m/usr/local/lib/python3.10/dist-packages/apache_beam/pipeline.py\u001b[0m in \u001b[0;36mrun\u001b[0;34m(self, test_runner_api)\u001b[0m\n\u001b[1;32m    584\u001b[0m         \u001b[0;32mfinally\u001b[0m\u001b[0;34m:\u001b[0m\u001b[0;34m\u001b[0m\u001b[0;34m\u001b[0m\u001b[0m\n\u001b[1;32m    585\u001b[0m           \u001b[0mshutil\u001b[0m\u001b[0;34m.\u001b[0m\u001b[0mrmtree\u001b[0m\u001b[0;34m(\u001b[0m\u001b[0mtmpdir\u001b[0m\u001b[0;34m)\u001b[0m\u001b[0;34m\u001b[0m\u001b[0;34m\u001b[0m\u001b[0m\n\u001b[0;32m--> 586\u001b[0;31m       \u001b[0;32mreturn\u001b[0m \u001b[0mself\u001b[0m\u001b[0;34m.\u001b[0m\u001b[0mrunner\u001b[0m\u001b[0;34m.\u001b[0m\u001b[0mrun_pipeline\u001b[0m\u001b[0;34m(\u001b[0m\u001b[0mself\u001b[0m\u001b[0;34m,\u001b[0m \u001b[0mself\u001b[0m\u001b[0;34m.\u001b[0m\u001b[0m_options\u001b[0m\u001b[0;34m)\u001b[0m\u001b[0;34m\u001b[0m\u001b[0;34m\u001b[0m\u001b[0m\n\u001b[0m\u001b[1;32m    587\u001b[0m     \u001b[0;32mfinally\u001b[0m\u001b[0;34m:\u001b[0m\u001b[0;34m\u001b[0m\u001b[0;34m\u001b[0m\u001b[0m\n\u001b[1;32m    588\u001b[0m       \u001b[0;32mif\u001b[0m \u001b[0;32mnot\u001b[0m \u001b[0mis_in_ipython\u001b[0m\u001b[0;34m(\u001b[0m\u001b[0;34m)\u001b[0m\u001b[0;34m:\u001b[0m\u001b[0;34m\u001b[0m\u001b[0;34m\u001b[0m\u001b[0m\n",
            "\u001b[0;32m/usr/local/lib/python3.10/dist-packages/apache_beam/runners/direct/direct_runner.py\u001b[0m in \u001b[0;36mrun_pipeline\u001b[0;34m(self, pipeline, options)\u001b[0m\n\u001b[1;32m    126\u001b[0m       \u001b[0mrunner\u001b[0m \u001b[0;34m=\u001b[0m \u001b[0mBundleBasedDirectRunner\u001b[0m\u001b[0;34m(\u001b[0m\u001b[0;34m)\u001b[0m\u001b[0;34m\u001b[0m\u001b[0;34m\u001b[0m\u001b[0m\n\u001b[1;32m    127\u001b[0m \u001b[0;34m\u001b[0m\u001b[0m\n\u001b[0;32m--> 128\u001b[0;31m     \u001b[0;32mreturn\u001b[0m \u001b[0mrunner\u001b[0m\u001b[0;34m.\u001b[0m\u001b[0mrun_pipeline\u001b[0m\u001b[0;34m(\u001b[0m\u001b[0mpipeline\u001b[0m\u001b[0;34m,\u001b[0m \u001b[0moptions\u001b[0m\u001b[0;34m)\u001b[0m\u001b[0;34m\u001b[0m\u001b[0;34m\u001b[0m\u001b[0m\n\u001b[0m\u001b[1;32m    129\u001b[0m \u001b[0;34m\u001b[0m\u001b[0m\n\u001b[1;32m    130\u001b[0m \u001b[0;34m\u001b[0m\u001b[0m\n",
            "\u001b[0;32m/usr/local/lib/python3.10/dist-packages/apache_beam/runners/portability/fn_api_runner/fn_runner.py\u001b[0m in \u001b[0;36mrun_pipeline\u001b[0;34m(self, pipeline, options)\u001b[0m\n\u001b[1;32m    201\u001b[0m         options.view_as(pipeline_options.ProfilingOptions))\n\u001b[1;32m    202\u001b[0m \u001b[0;34m\u001b[0m\u001b[0m\n\u001b[0;32m--> 203\u001b[0;31m     self._latest_run_result = self.run_via_runner_api(\n\u001b[0m\u001b[1;32m    204\u001b[0m         \u001b[0mpipeline\u001b[0m\u001b[0;34m.\u001b[0m\u001b[0mto_runner_api\u001b[0m\u001b[0;34m(\u001b[0m\u001b[0mdefault_environment\u001b[0m\u001b[0;34m=\u001b[0m\u001b[0mself\u001b[0m\u001b[0;34m.\u001b[0m\u001b[0m_default_environment\u001b[0m\u001b[0;34m)\u001b[0m\u001b[0;34m,\u001b[0m\u001b[0;34m\u001b[0m\u001b[0;34m\u001b[0m\u001b[0m\n\u001b[1;32m    205\u001b[0m         options)\n",
            "\u001b[0;32m/usr/local/lib/python3.10/dist-packages/apache_beam/runners/portability/fn_api_runner/fn_runner.py\u001b[0m in \u001b[0;36mrun_via_runner_api\u001b[0;34m(self, pipeline_proto, options)\u001b[0m\n\u001b[1;32m    224\u001b[0m     \u001b[0mpipeline_proto\u001b[0m \u001b[0;34m=\u001b[0m \u001b[0mself\u001b[0m\u001b[0;34m.\u001b[0m\u001b[0mresolve_any_environments\u001b[0m\u001b[0;34m(\u001b[0m\u001b[0mpipeline_proto\u001b[0m\u001b[0;34m)\u001b[0m\u001b[0;34m\u001b[0m\u001b[0;34m\u001b[0m\u001b[0m\n\u001b[1;32m    225\u001b[0m     \u001b[0mstage_context\u001b[0m\u001b[0;34m,\u001b[0m \u001b[0mstages\u001b[0m \u001b[0;34m=\u001b[0m \u001b[0mself\u001b[0m\u001b[0;34m.\u001b[0m\u001b[0mcreate_stages\u001b[0m\u001b[0;34m(\u001b[0m\u001b[0mpipeline_proto\u001b[0m\u001b[0;34m)\u001b[0m\u001b[0;34m\u001b[0m\u001b[0;34m\u001b[0m\u001b[0m\n\u001b[0;32m--> 226\u001b[0;31m     \u001b[0;32mreturn\u001b[0m \u001b[0mself\u001b[0m\u001b[0;34m.\u001b[0m\u001b[0mrun_stages\u001b[0m\u001b[0;34m(\u001b[0m\u001b[0mstage_context\u001b[0m\u001b[0;34m,\u001b[0m \u001b[0mstages\u001b[0m\u001b[0;34m)\u001b[0m\u001b[0;34m\u001b[0m\u001b[0;34m\u001b[0m\u001b[0m\n\u001b[0m\u001b[1;32m    227\u001b[0m \u001b[0;34m\u001b[0m\u001b[0m\n\u001b[1;32m    228\u001b[0m   \u001b[0;32mdef\u001b[0m \u001b[0membed_default_docker_image\u001b[0m\u001b[0;34m(\u001b[0m\u001b[0mself\u001b[0m\u001b[0;34m,\u001b[0m \u001b[0mpipeline_proto\u001b[0m\u001b[0;34m)\u001b[0m\u001b[0;34m:\u001b[0m\u001b[0;34m\u001b[0m\u001b[0;34m\u001b[0m\u001b[0m\n",
            "\u001b[0;32m/usr/local/lib/python3.10/dist-packages/apache_beam/runners/portability/fn_api_runner/fn_runner.py\u001b[0m in \u001b[0;36mrun_stages\u001b[0;34m(self, stage_context, stages)\u001b[0m\n\u001b[1;32m    479\u001b[0m \u001b[0;34m\u001b[0m\u001b[0m\n\u001b[1;32m    480\u001b[0m           \u001b[0mbundle_counter\u001b[0m \u001b[0;34m+=\u001b[0m \u001b[0;36m1\u001b[0m\u001b[0;34m\u001b[0m\u001b[0;34m\u001b[0m\u001b[0m\n\u001b[0;32m--> 481\u001b[0;31m           bundle_results = self._execute_bundle(\n\u001b[0m\u001b[1;32m    482\u001b[0m               runner_execution_context, bundle_context_manager, bundle_input)\n\u001b[1;32m    483\u001b[0m \u001b[0;34m\u001b[0m\u001b[0m\n",
            "\u001b[0;32m/usr/local/lib/python3.10/dist-packages/apache_beam/runners/portability/fn_api_runner/fn_runner.py\u001b[0m in \u001b[0;36m_execute_bundle\u001b[0;34m(self, runner_execution_context, bundle_context_manager, bundle_input)\u001b[0m\n\u001b[1;32m    807\u001b[0m \u001b[0;34m\u001b[0m\u001b[0m\n\u001b[1;32m    808\u001b[0m     last_result, deferred_inputs, newly_set_timers, watermark_updates = (\n\u001b[0;32m--> 809\u001b[0;31m         self._run_bundle(\n\u001b[0m\u001b[1;32m    810\u001b[0m             \u001b[0mrunner_execution_context\u001b[0m\u001b[0;34m,\u001b[0m\u001b[0;34m\u001b[0m\u001b[0;34m\u001b[0m\u001b[0m\n\u001b[1;32m    811\u001b[0m             \u001b[0mbundle_context_manager\u001b[0m\u001b[0;34m,\u001b[0m\u001b[0;34m\u001b[0m\u001b[0;34m\u001b[0m\u001b[0m\n",
            "\u001b[0;32m/usr/local/lib/python3.10/dist-packages/apache_beam/runners/portability/fn_api_runner/fn_runner.py\u001b[0m in \u001b[0;36m_run_bundle\u001b[0;34m(self, runner_execution_context, bundle_context_manager, bundle_input, data_output, expected_timer_output, bundle_manager)\u001b[0m\n\u001b[1;32m   1044\u001b[0m         expected_timer_output)\n\u001b[1;32m   1045\u001b[0m \u001b[0;34m\u001b[0m\u001b[0m\n\u001b[0;32m-> 1046\u001b[0;31m     result, splits = bundle_manager.process_bundle(\n\u001b[0m\u001b[1;32m   1047\u001b[0m         data_input, data_output, input_timers, expected_timer_output)\n\u001b[1;32m   1048\u001b[0m     \u001b[0;31m# Now we collect all the deferred inputs remaining from bundle execution.\u001b[0m\u001b[0;34m\u001b[0m\u001b[0;34m\u001b[0m\u001b[0m\n",
            "\u001b[0;32m/usr/local/lib/python3.10/dist-packages/apache_beam/runners/portability/fn_api_runner/fn_runner.py\u001b[0m in \u001b[0;36mprocess_bundle\u001b[0;34m(self, inputs, expected_outputs, fired_timers, expected_output_timers, dry_run)\u001b[0m\n\u001b[1;32m   1380\u001b[0m             \u001b[0mprocess_bundle_descriptor\u001b[0m\u001b[0;34m.\u001b[0m\u001b[0mid\u001b[0m\u001b[0;34m,\u001b[0m\u001b[0;34m\u001b[0m\u001b[0;34m\u001b[0m\u001b[0m\n\u001b[1;32m   1381\u001b[0m             cache_tokens=[next(self._cache_token_generator)]))\n\u001b[0;32m-> 1382\u001b[0;31m     \u001b[0mresult_future\u001b[0m \u001b[0;34m=\u001b[0m \u001b[0mself\u001b[0m\u001b[0;34m.\u001b[0m\u001b[0m_worker_handler\u001b[0m\u001b[0;34m.\u001b[0m\u001b[0mcontrol_conn\u001b[0m\u001b[0;34m.\u001b[0m\u001b[0mpush\u001b[0m\u001b[0;34m(\u001b[0m\u001b[0mprocess_bundle_req\u001b[0m\u001b[0;34m)\u001b[0m\u001b[0;34m\u001b[0m\u001b[0;34m\u001b[0m\u001b[0m\n\u001b[0m\u001b[1;32m   1383\u001b[0m \u001b[0;34m\u001b[0m\u001b[0m\n\u001b[1;32m   1384\u001b[0m     \u001b[0msplit_results\u001b[0m \u001b[0;34m=\u001b[0m \u001b[0;34m[\u001b[0m\u001b[0;34m]\u001b[0m  \u001b[0;31m# type: List[beam_fn_api_pb2.ProcessBundleSplitResponse]\u001b[0m\u001b[0;34m\u001b[0m\u001b[0;34m\u001b[0m\u001b[0m\n",
            "\u001b[0;32m/usr/local/lib/python3.10/dist-packages/apache_beam/runners/portability/fn_api_runner/worker_handlers.py\u001b[0m in \u001b[0;36mpush\u001b[0;34m(self, request)\u001b[0m\n\u001b[1;32m    382\u001b[0m       \u001b[0mself\u001b[0m\u001b[0;34m.\u001b[0m\u001b[0m_uid_counter\u001b[0m \u001b[0;34m+=\u001b[0m \u001b[0;36m1\u001b[0m\u001b[0;34m\u001b[0m\u001b[0;34m\u001b[0m\u001b[0m\n\u001b[1;32m    383\u001b[0m       \u001b[0mrequest\u001b[0m\u001b[0;34m.\u001b[0m\u001b[0minstruction_id\u001b[0m \u001b[0;34m=\u001b[0m \u001b[0;34m'control_%s'\u001b[0m \u001b[0;34m%\u001b[0m \u001b[0mself\u001b[0m\u001b[0;34m.\u001b[0m\u001b[0m_uid_counter\u001b[0m\u001b[0;34m\u001b[0m\u001b[0;34m\u001b[0m\u001b[0m\n\u001b[0;32m--> 384\u001b[0;31m     \u001b[0mresponse\u001b[0m \u001b[0;34m=\u001b[0m \u001b[0mself\u001b[0m\u001b[0;34m.\u001b[0m\u001b[0mworker\u001b[0m\u001b[0;34m.\u001b[0m\u001b[0mdo_instruction\u001b[0m\u001b[0;34m(\u001b[0m\u001b[0mrequest\u001b[0m\u001b[0;34m)\u001b[0m\u001b[0;34m\u001b[0m\u001b[0;34m\u001b[0m\u001b[0m\n\u001b[0m\u001b[1;32m    385\u001b[0m     \u001b[0;32mreturn\u001b[0m \u001b[0mControlFuture\u001b[0m\u001b[0;34m(\u001b[0m\u001b[0mrequest\u001b[0m\u001b[0;34m.\u001b[0m\u001b[0minstruction_id\u001b[0m\u001b[0;34m,\u001b[0m \u001b[0mresponse\u001b[0m\u001b[0;34m)\u001b[0m\u001b[0;34m\u001b[0m\u001b[0;34m\u001b[0m\u001b[0m\n\u001b[1;32m    386\u001b[0m \u001b[0;34m\u001b[0m\u001b[0m\n",
            "\u001b[0;32m/usr/local/lib/python3.10/dist-packages/apache_beam/runners/worker/sdk_worker.py\u001b[0m in \u001b[0;36mdo_instruction\u001b[0;34m(self, request)\u001b[0m\n\u001b[1;32m    648\u001b[0m     \u001b[0;32mif\u001b[0m \u001b[0mrequest_type\u001b[0m\u001b[0;34m:\u001b[0m\u001b[0;34m\u001b[0m\u001b[0;34m\u001b[0m\u001b[0m\n\u001b[1;32m    649\u001b[0m       \u001b[0;31m# E.g. if register is set, this will call self.register(request.register))\u001b[0m\u001b[0;34m\u001b[0m\u001b[0;34m\u001b[0m\u001b[0m\n\u001b[0;32m--> 650\u001b[0;31m       return getattr(self, request_type)(\n\u001b[0m\u001b[1;32m    651\u001b[0m           getattr(request, request_type), request.instruction_id)\n\u001b[1;32m    652\u001b[0m     \u001b[0;32melse\u001b[0m\u001b[0;34m:\u001b[0m\u001b[0;34m\u001b[0m\u001b[0;34m\u001b[0m\u001b[0m\n",
            "\u001b[0;32m/usr/local/lib/python3.10/dist-packages/apache_beam/runners/worker/sdk_worker.py\u001b[0m in \u001b[0;36mprocess_bundle\u001b[0;34m(self, request, instruction_id)\u001b[0m\n\u001b[1;32m    686\u001b[0m         \u001b[0;32mwith\u001b[0m \u001b[0mself\u001b[0m\u001b[0;34m.\u001b[0m\u001b[0mmaybe_profile\u001b[0m\u001b[0;34m(\u001b[0m\u001b[0minstruction_id\u001b[0m\u001b[0;34m)\u001b[0m\u001b[0;34m:\u001b[0m\u001b[0;34m\u001b[0m\u001b[0;34m\u001b[0m\u001b[0m\n\u001b[1;32m    687\u001b[0m           delayed_applications, requests_finalization = (\n\u001b[0;32m--> 688\u001b[0;31m               bundle_processor.process_bundle(instruction_id))\n\u001b[0m\u001b[1;32m    689\u001b[0m           \u001b[0mmonitoring_infos\u001b[0m \u001b[0;34m=\u001b[0m \u001b[0mbundle_processor\u001b[0m\u001b[0;34m.\u001b[0m\u001b[0mmonitoring_infos\u001b[0m\u001b[0;34m(\u001b[0m\u001b[0;34m)\u001b[0m\u001b[0;34m\u001b[0m\u001b[0;34m\u001b[0m\u001b[0m\n\u001b[1;32m    690\u001b[0m           response = beam_fn_api_pb2.InstructionResponse(\n",
            "\u001b[0;32m/usr/local/lib/python3.10/dist-packages/apache_beam/runners/worker/bundle_processor.py\u001b[0m in \u001b[0;36mprocess_bundle\u001b[0;34m(self, instruction_id)\u001b[0m\n\u001b[1;32m   1111\u001b[0m                   element.timer_family_id, timer_data)\n\u001b[1;32m   1112\u001b[0m           \u001b[0;32melif\u001b[0m \u001b[0misinstance\u001b[0m\u001b[0;34m(\u001b[0m\u001b[0melement\u001b[0m\u001b[0;34m,\u001b[0m \u001b[0mbeam_fn_api_pb2\u001b[0m\u001b[0;34m.\u001b[0m\u001b[0mElements\u001b[0m\u001b[0;34m.\u001b[0m\u001b[0mData\u001b[0m\u001b[0;34m)\u001b[0m\u001b[0;34m:\u001b[0m\u001b[0;34m\u001b[0m\u001b[0;34m\u001b[0m\u001b[0m\n\u001b[0;32m-> 1113\u001b[0;31m             input_op_by_transform_id[element.transform_id].process_encoded(\n\u001b[0m\u001b[1;32m   1114\u001b[0m                 element.data)\n\u001b[1;32m   1115\u001b[0m \u001b[0;34m\u001b[0m\u001b[0m\n",
            "\u001b[0;32m/usr/local/lib/python3.10/dist-packages/apache_beam/runners/worker/bundle_processor.py\u001b[0m in \u001b[0;36mprocess_encoded\u001b[0;34m(self, encoded_windowed_values)\u001b[0m\n\u001b[1;32m    235\u001b[0m             \u001b[0;34m\"Error decoding input stream with coder \"\u001b[0m \u001b[0;34m+\u001b[0m\u001b[0;34m\u001b[0m\u001b[0;34m\u001b[0m\u001b[0m\n\u001b[1;32m    236\u001b[0m             str(self.windowed_coder)) from exn\n\u001b[0;32m--> 237\u001b[0;31m       \u001b[0mself\u001b[0m\u001b[0;34m.\u001b[0m\u001b[0moutput\u001b[0m\u001b[0;34m(\u001b[0m\u001b[0mdecoded_value\u001b[0m\u001b[0;34m)\u001b[0m\u001b[0;34m\u001b[0m\u001b[0;34m\u001b[0m\u001b[0m\n\u001b[0m\u001b[1;32m    238\u001b[0m \u001b[0;34m\u001b[0m\u001b[0m\n\u001b[1;32m    239\u001b[0m   \u001b[0;32mdef\u001b[0m \u001b[0mmonitoring_infos\u001b[0m\u001b[0;34m(\u001b[0m\u001b[0mself\u001b[0m\u001b[0;34m,\u001b[0m \u001b[0mtransform_id\u001b[0m\u001b[0;34m,\u001b[0m \u001b[0mtag_to_pcollection_id\u001b[0m\u001b[0;34m)\u001b[0m\u001b[0;34m:\u001b[0m\u001b[0;34m\u001b[0m\u001b[0;34m\u001b[0m\u001b[0m\n",
            "\u001b[0;32m/usr/local/lib/python3.10/dist-packages/apache_beam/runners/worker/operations.cpython-310-x86_64-linux-gnu.so\u001b[0m in \u001b[0;36mapache_beam.runners.worker.operations.Operation.output\u001b[0;34m()\u001b[0m\n",
            "\u001b[0;32m/usr/local/lib/python3.10/dist-packages/apache_beam/runners/worker/operations.cpython-310-x86_64-linux-gnu.so\u001b[0m in \u001b[0;36mapache_beam.runners.worker.operations.Operation.output\u001b[0;34m()\u001b[0m\n",
            "\u001b[0;32m/usr/local/lib/python3.10/dist-packages/apache_beam/runners/worker/operations.cpython-310-x86_64-linux-gnu.so\u001b[0m in \u001b[0;36mapache_beam.runners.worker.operations.SingletonElementConsumerSet.receive\u001b[0;34m()\u001b[0m\n",
            "\u001b[0;32m/usr/local/lib/python3.10/dist-packages/apache_beam/runners/worker/operations.cpython-310-x86_64-linux-gnu.so\u001b[0m in \u001b[0;36mapache_beam.runners.worker.operations.SingletonElementConsumerSet.receive\u001b[0;34m()\u001b[0m\n",
            "\u001b[0;32m/usr/local/lib/python3.10/dist-packages/apache_beam/runners/worker/operations.cpython-310-x86_64-linux-gnu.so\u001b[0m in \u001b[0;36mapache_beam.runners.worker.operations.SdfProcessSizedElements.process\u001b[0;34m()\u001b[0m\n",
            "\u001b[0;32m/usr/local/lib/python3.10/dist-packages/apache_beam/runners/worker/operations.cpython-310-x86_64-linux-gnu.so\u001b[0m in \u001b[0;36mapache_beam.runners.worker.operations.SdfProcessSizedElements.process\u001b[0;34m()\u001b[0m\n",
            "\u001b[0;32m/usr/local/lib/python3.10/dist-packages/apache_beam/runners/common.cpython-310-x86_64-linux-gnu.so\u001b[0m in \u001b[0;36mapache_beam.runners.common.DoFnRunner.process_with_sized_restriction\u001b[0;34m()\u001b[0m\n",
            "\u001b[0;32m/usr/local/lib/python3.10/dist-packages/apache_beam/runners/common.cpython-310-x86_64-linux-gnu.so\u001b[0m in \u001b[0;36mapache_beam.runners.common.PerWindowInvoker.invoke_process\u001b[0;34m()\u001b[0m\n",
            "\u001b[0;32m/usr/local/lib/python3.10/dist-packages/apache_beam/runners/common.cpython-310-x86_64-linux-gnu.so\u001b[0m in \u001b[0;36mapache_beam.runners.common.PerWindowInvoker._invoke_process_per_window\u001b[0;34m()\u001b[0m\n",
            "\u001b[0;32m/usr/local/lib/python3.10/dist-packages/apache_beam/runners/common.cpython-310-x86_64-linux-gnu.so\u001b[0m in \u001b[0;36mapache_beam.runners.common._OutputHandler.handle_process_outputs\u001b[0;34m()\u001b[0m\n",
            "\u001b[0;32m/usr/local/lib/python3.10/dist-packages/apache_beam/runners/common.cpython-310-x86_64-linux-gnu.so\u001b[0m in \u001b[0;36mapache_beam.runners.common._OutputHandler._write_value_to_tag\u001b[0;34m()\u001b[0m\n",
            "\u001b[0;32m/usr/local/lib/python3.10/dist-packages/apache_beam/runners/worker/operations.cpython-310-x86_64-linux-gnu.so\u001b[0m in \u001b[0;36mapache_beam.runners.worker.operations.SingletonElementConsumerSet.receive\u001b[0;34m()\u001b[0m\n",
            "\u001b[0;32m/usr/local/lib/python3.10/dist-packages/apache_beam/runners/worker/operations.cpython-310-x86_64-linux-gnu.so\u001b[0m in \u001b[0;36mapache_beam.runners.worker.operations.DoOperation.process\u001b[0;34m()\u001b[0m\n",
            "\u001b[0;32m/usr/local/lib/python3.10/dist-packages/apache_beam/runners/worker/operations.cpython-310-x86_64-linux-gnu.so\u001b[0m in \u001b[0;36mapache_beam.runners.worker.operations.DoOperation.process\u001b[0;34m()\u001b[0m\n",
            "\u001b[0;32m/usr/local/lib/python3.10/dist-packages/apache_beam/runners/common.cpython-310-x86_64-linux-gnu.so\u001b[0m in \u001b[0;36mapache_beam.runners.common.DoFnRunner.process\u001b[0;34m()\u001b[0m\n",
            "\u001b[0;32m/usr/local/lib/python3.10/dist-packages/apache_beam/runners/common.cpython-310-x86_64-linux-gnu.so\u001b[0m in \u001b[0;36mapache_beam.runners.common.DoFnRunner._reraise_augmented\u001b[0;34m()\u001b[0m\n",
            "\u001b[0;32m/usr/local/lib/python3.10/dist-packages/apache_beam/runners/common.cpython-310-x86_64-linux-gnu.so\u001b[0m in \u001b[0;36mapache_beam.runners.common.DoFnRunner.process\u001b[0;34m()\u001b[0m\n",
            "\u001b[0;32m/usr/local/lib/python3.10/dist-packages/apache_beam/runners/common.cpython-310-x86_64-linux-gnu.so\u001b[0m in \u001b[0;36mapache_beam.runners.common.SimpleInvoker.invoke_process\u001b[0;34m()\u001b[0m\n",
            "\u001b[0;32m/usr/local/lib/python3.10/dist-packages/apache_beam/transforms/core.py\u001b[0m in \u001b[0;36m<lambda>\u001b[0;34m(x, *args, **kwargs)\u001b[0m\n\u001b[1;32m   1959\u001b[0m   \u001b[0;32mfrom\u001b[0m \u001b[0mapache_beam\u001b[0m\u001b[0;34m.\u001b[0m\u001b[0mtransforms\u001b[0m\u001b[0;34m.\u001b[0m\u001b[0mutil\u001b[0m \u001b[0;32mimport\u001b[0m \u001b[0mfn_takes_side_inputs\u001b[0m\u001b[0;34m\u001b[0m\u001b[0;34m\u001b[0m\u001b[0m\n\u001b[1;32m   1960\u001b[0m   \u001b[0;32mif\u001b[0m \u001b[0mfn_takes_side_inputs\u001b[0m\u001b[0;34m(\u001b[0m\u001b[0mfn\u001b[0m\u001b[0;34m)\u001b[0m\u001b[0;34m:\u001b[0m\u001b[0;34m\u001b[0m\u001b[0;34m\u001b[0m\u001b[0m\n\u001b[0;32m-> 1961\u001b[0;31m     \u001b[0mwrapper\u001b[0m \u001b[0;34m=\u001b[0m \u001b[0;32mlambda\u001b[0m \u001b[0mx\u001b[0m\u001b[0;34m,\u001b[0m \u001b[0;34m*\u001b[0m\u001b[0margs\u001b[0m\u001b[0;34m,\u001b[0m \u001b[0;34m**\u001b[0m\u001b[0mkwargs\u001b[0m\u001b[0;34m:\u001b[0m \u001b[0;34m[\u001b[0m\u001b[0mfn\u001b[0m\u001b[0;34m(\u001b[0m\u001b[0mx\u001b[0m\u001b[0;34m,\u001b[0m \u001b[0;34m*\u001b[0m\u001b[0margs\u001b[0m\u001b[0;34m,\u001b[0m \u001b[0;34m**\u001b[0m\u001b[0mkwargs\u001b[0m\u001b[0;34m)\u001b[0m\u001b[0;34m]\u001b[0m\u001b[0;34m\u001b[0m\u001b[0;34m\u001b[0m\u001b[0m\n\u001b[0m\u001b[1;32m   1962\u001b[0m   \u001b[0;32melse\u001b[0m\u001b[0;34m:\u001b[0m\u001b[0;34m\u001b[0m\u001b[0;34m\u001b[0m\u001b[0m\n\u001b[1;32m   1963\u001b[0m     \u001b[0mwrapper\u001b[0m \u001b[0;34m=\u001b[0m \u001b[0;32mlambda\u001b[0m \u001b[0mx\u001b[0m\u001b[0;34m:\u001b[0m \u001b[0;34m[\u001b[0m\u001b[0mfn\u001b[0m\u001b[0;34m(\u001b[0m\u001b[0mx\u001b[0m\u001b[0;34m)\u001b[0m\u001b[0;34m]\u001b[0m\u001b[0;34m\u001b[0m\u001b[0;34m\u001b[0m\u001b[0m\n",
            "\u001b[0;32m/usr/lib/python3.10/json/__init__.py\u001b[0m in \u001b[0;36mloads\u001b[0;34m(s, cls, object_hook, parse_float, parse_int, parse_constant, object_pairs_hook, **kw)\u001b[0m\n\u001b[1;32m    344\u001b[0m             \u001b[0mparse_int\u001b[0m \u001b[0;32mis\u001b[0m \u001b[0;32mNone\u001b[0m \u001b[0;32mand\u001b[0m \u001b[0mparse_float\u001b[0m \u001b[0;32mis\u001b[0m \u001b[0;32mNone\u001b[0m \u001b[0;32mand\u001b[0m\u001b[0;34m\u001b[0m\u001b[0;34m\u001b[0m\u001b[0m\n\u001b[1;32m    345\u001b[0m             parse_constant is None and object_pairs_hook is None and not kw):\n\u001b[0;32m--> 346\u001b[0;31m         \u001b[0;32mreturn\u001b[0m \u001b[0m_default_decoder\u001b[0m\u001b[0;34m.\u001b[0m\u001b[0mdecode\u001b[0m\u001b[0;34m(\u001b[0m\u001b[0ms\u001b[0m\u001b[0;34m)\u001b[0m\u001b[0;34m\u001b[0m\u001b[0;34m\u001b[0m\u001b[0m\n\u001b[0m\u001b[1;32m    347\u001b[0m     \u001b[0;32mif\u001b[0m \u001b[0mcls\u001b[0m \u001b[0;32mis\u001b[0m \u001b[0;32mNone\u001b[0m\u001b[0;34m:\u001b[0m\u001b[0;34m\u001b[0m\u001b[0;34m\u001b[0m\u001b[0m\n\u001b[1;32m    348\u001b[0m         \u001b[0mcls\u001b[0m \u001b[0;34m=\u001b[0m \u001b[0mJSONDecoder\u001b[0m\u001b[0;34m\u001b[0m\u001b[0;34m\u001b[0m\u001b[0m\n",
            "\u001b[0;32m/usr/lib/python3.10/json/decoder.py\u001b[0m in \u001b[0;36mdecode\u001b[0;34m(self, s, _w)\u001b[0m\n\u001b[1;32m    335\u001b[0m \u001b[0;34m\u001b[0m\u001b[0m\n\u001b[1;32m    336\u001b[0m         \"\"\"\n\u001b[0;32m--> 337\u001b[0;31m         \u001b[0mobj\u001b[0m\u001b[0;34m,\u001b[0m \u001b[0mend\u001b[0m \u001b[0;34m=\u001b[0m \u001b[0mself\u001b[0m\u001b[0;34m.\u001b[0m\u001b[0mraw_decode\u001b[0m\u001b[0;34m(\u001b[0m\u001b[0ms\u001b[0m\u001b[0;34m,\u001b[0m \u001b[0midx\u001b[0m\u001b[0;34m=\u001b[0m\u001b[0m_w\u001b[0m\u001b[0;34m(\u001b[0m\u001b[0ms\u001b[0m\u001b[0;34m,\u001b[0m \u001b[0;36m0\u001b[0m\u001b[0;34m)\u001b[0m\u001b[0;34m.\u001b[0m\u001b[0mend\u001b[0m\u001b[0;34m(\u001b[0m\u001b[0;34m)\u001b[0m\u001b[0;34m)\u001b[0m\u001b[0;34m\u001b[0m\u001b[0;34m\u001b[0m\u001b[0m\n\u001b[0m\u001b[1;32m    338\u001b[0m         \u001b[0mend\u001b[0m \u001b[0;34m=\u001b[0m \u001b[0m_w\u001b[0m\u001b[0;34m(\u001b[0m\u001b[0ms\u001b[0m\u001b[0;34m,\u001b[0m \u001b[0mend\u001b[0m\u001b[0;34m)\u001b[0m\u001b[0;34m.\u001b[0m\u001b[0mend\u001b[0m\u001b[0;34m(\u001b[0m\u001b[0;34m)\u001b[0m\u001b[0;34m\u001b[0m\u001b[0;34m\u001b[0m\u001b[0m\n\u001b[1;32m    339\u001b[0m         \u001b[0;32mif\u001b[0m \u001b[0mend\u001b[0m \u001b[0;34m!=\u001b[0m \u001b[0mlen\u001b[0m\u001b[0;34m(\u001b[0m\u001b[0ms\u001b[0m\u001b[0;34m)\u001b[0m\u001b[0;34m:\u001b[0m\u001b[0;34m\u001b[0m\u001b[0;34m\u001b[0m\u001b[0m\n",
            "\u001b[0;32m/usr/lib/python3.10/json/decoder.py\u001b[0m in \u001b[0;36mraw_decode\u001b[0;34m(self, s, idx)\u001b[0m\n\u001b[1;32m    353\u001b[0m             \u001b[0mobj\u001b[0m\u001b[0;34m,\u001b[0m \u001b[0mend\u001b[0m \u001b[0;34m=\u001b[0m \u001b[0mself\u001b[0m\u001b[0;34m.\u001b[0m\u001b[0mscan_once\u001b[0m\u001b[0;34m(\u001b[0m\u001b[0ms\u001b[0m\u001b[0;34m,\u001b[0m \u001b[0midx\u001b[0m\u001b[0;34m)\u001b[0m\u001b[0;34m\u001b[0m\u001b[0;34m\u001b[0m\u001b[0m\n\u001b[1;32m    354\u001b[0m         \u001b[0;32mexcept\u001b[0m \u001b[0mStopIteration\u001b[0m \u001b[0;32mas\u001b[0m \u001b[0merr\u001b[0m\u001b[0;34m:\u001b[0m\u001b[0;34m\u001b[0m\u001b[0;34m\u001b[0m\u001b[0m\n\u001b[0;32m--> 355\u001b[0;31m             \u001b[0;32mraise\u001b[0m \u001b[0mJSONDecodeError\u001b[0m\u001b[0;34m(\u001b[0m\u001b[0;34m\"Expecting value\"\u001b[0m\u001b[0;34m,\u001b[0m \u001b[0ms\u001b[0m\u001b[0;34m,\u001b[0m \u001b[0merr\u001b[0m\u001b[0;34m.\u001b[0m\u001b[0mvalue\u001b[0m\u001b[0;34m)\u001b[0m \u001b[0;32mfrom\u001b[0m \u001b[0;32mNone\u001b[0m\u001b[0;34m\u001b[0m\u001b[0;34m\u001b[0m\u001b[0m\n\u001b[0m\u001b[1;32m    356\u001b[0m         \u001b[0;32mreturn\u001b[0m \u001b[0mobj\u001b[0m\u001b[0;34m,\u001b[0m \u001b[0mend\u001b[0m\u001b[0;34m\u001b[0m\u001b[0;34m\u001b[0m\u001b[0m\n",
            "\u001b[0;31mRuntimeError\u001b[0m: json.decoder.JSONDecodeError: Expecting value: line 1 column 1 (char 0) [while running 'ParseJSON']"
          ]
        }
      ],
      "source": [
        "\n",
        "def load_model(model_path):\n",
        "    # Carga tu modelo entrenado\n",
        "    # Ejemplo: model = tf.keras.models.load_model(model_path)\n",
        "    pass\n",
        "\n",
        "def predict(model, instance):\n",
        "    # Haz la predicción utilizando el modelo cargado\n",
        "    # Ejemplo: prediction = model.predict(instance)\n",
        "    pass\n",
        "\n",
        "def inference_pipeline(input_file, output_file, model_path):\n",
        "    # Carga el modelo\n",
        "    model = load_model(model_path)\n",
        "\n",
        "    # Configura las opciones del pipeline\n",
        "    pipeline_options = PipelineOptions()\n",
        "\n",
        "    # Define el pipeline de Apache Beam\n",
        "    with beam.Pipeline(options=pipeline_options) as pipeline:\n",
        "        predictions = (\n",
        "            pipeline\n",
        "            | 'ReadInput' >> beam.io.ReadFromText(input_file)\n",
        "            | 'ParseJSON' >> beam.Map(json.loads)\n",
        "            | 'Predict' >> beam.Map(lambda instance: (instance['id'], predict(model, instance)))\n",
        "            | 'FormatOutput' >> beam.Map(lambda tup: json.dumps({'id': tup[0], 'prediction': tup[1]}))\n",
        "            | 'WriteOutput' >> beam.io.WriteToText(output_file)\n",
        "        )\n",
        "\n",
        "if __name__ == '__main__':\n",
        "    input_file = 'gs://practica-imple-algos/twitter-cyber-trolls/train_data.json'\n",
        "    output_file = 'gs://practica-imple-algos/twitter-cyber-trolls/predictions.json'\n",
        "    model_path = 'gs://practica-imple-algos/twitter-cyber-trolls/model.h5'\n",
        "\n",
        "    inference_pipeline(input_file, output_file, model_path)"
      ]
    },
    {
      "cell_type": "markdown",
      "metadata": {
        "id": "MUdgcLIP7a42"
      },
      "source": [
        "Generamos un timestamp para la ejecución de las predicciones"
      ]
    },
    {
      "cell_type": "code",
      "execution_count": null,
      "metadata": {
        "colab": {
          "background_save": true
        },
        "id": "_pvKMtuQPOlr"
      },
      "outputs": [],
      "source": [
        "from datetime import datetime\n",
        "\n",
        "# current date and time\n",
        "TIMESTAMP = datetime.now().strftime('%Y-%m-%d_%H-%M-%S')"
      ]
    },
    {
      "cell_type": "code",
      "source": [
        "TIMESTAMP"
      ],
      "metadata": {
        "id": "soRXQhgINhrv"
      },
      "execution_count": null,
      "outputs": []
    },
    {
      "cell_type": "markdown",
      "metadata": {
        "id": "RkLMdMup70ne"
      },
      "source": [
        "### Validación Predict en local\n",
        "\n",
        "Con el comando mostrado a continuación se valida la correcta inferencia usando los modelos anteriores y los datos de test generados anteriormente."
      ]
    },
    {
      "cell_type": "code",
      "execution_count": null,
      "metadata": {
        "colab": {
          "background_save": true
        },
        "id": "iUJN0XCLPR_X"
      },
      "outputs": [],
      "source": []
    },
    {
      "cell_type": "markdown",
      "metadata": {
        "id": "co3YBKjscCVI"
      },
      "source": [
        "# Mensaje final\n",
        "\n",
        "¡Muchas gracias por participar en este curso, espero que tanto las sesiones teóricas como la práctica te hayan resultado útiles. A lo largo de esta semmana iréis recibiendo feedback personalizado sobre vuestras prácticas.\n",
        "\n",
        "¡Muchas gracias y ánimo con el proyecto final!"
      ]
    }
  ],
  "metadata": {
    "accelerator": "GPU",
    "colab": {
      "provenance": []
    },
    "kernelspec": {
      "display_name": "Python 3",
      "name": "python3"
    }
  },
  "nbformat": 4,
  "nbformat_minor": 0
}